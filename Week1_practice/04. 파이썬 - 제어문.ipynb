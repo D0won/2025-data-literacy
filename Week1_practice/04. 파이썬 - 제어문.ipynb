{
 "cells": [
  {
   "cell_type": "markdown",
   "metadata": {},
   "source": [
    "## if 조건문 출력"
   ]
  },
  {
   "cell_type": "code",
   "execution_count": 4,
   "metadata": {},
   "outputs": [
    {
     "ename": "ValueError",
     "evalue": "invalid literal for int() with base 10: 'a'",
     "output_type": "error",
     "traceback": [
      "\u001b[31m---------------------------------------------------------------------------\u001b[39m",
      "\u001b[31mValueError\u001b[39m                                Traceback (most recent call last)",
      "\u001b[36mCell\u001b[39m\u001b[36m \u001b[39m\u001b[32mIn[4]\u001b[39m\u001b[32m, line 3\u001b[39m\n\u001b[32m      1\u001b[39m \u001b[38;5;66;03m# 입력값을 받음\u001b[39;00m\n\u001b[32m      2\u001b[39m number = \u001b[38;5;28minput\u001b[39m(\u001b[33m\"\u001b[39m\u001b[33m정수 입력>\u001b[39m\u001b[33m\"\u001b[39m)\n\u001b[32m----> \u001b[39m\u001b[32m3\u001b[39m number = \u001b[38;5;28;43mint\u001b[39;49m\u001b[43m(\u001b[49m\u001b[43mnumber\u001b[49m\u001b[43m)\u001b[49m\n\u001b[32m      5\u001b[39m \u001b[38;5;66;03m# 짝수 조건\u001b[39;00m\n\u001b[32m      6\u001b[39m \u001b[38;5;28;01mif\u001b[39;00m number % \u001b[32m2\u001b[39m == \u001b[32m1\u001b[39m:\n",
      "\u001b[31mValueError\u001b[39m: invalid literal for int() with base 10: 'a'"
     ]
    }
   ],
   "source": [
    "# 입력값을 받음\n",
    "number = input(\"정수 입력>\")\n",
    "number = int(number)\n",
    "\n",
    "# 짝수 조건\n",
    "if number % 2 == 1:\n",
    "    print(\"홀수 입니다\")\n",
    "\n",
    "# 홀수\n",
    "if number % 2 == 0:\n",
    "    print(\"짝수 입니다\")"
   ]
  },
  {
   "cell_type": "markdown",
   "metadata": {},
   "source": [
    "## else 구문 출력"
   ]
  },
  {
   "cell_type": "code",
   "execution_count": 2,
   "metadata": {},
   "outputs": [
    {
     "name": "stdout",
     "output_type": "stream",
     "text": [
      "정수 입력>2\n",
      "짝수 입니다\n"
     ]
    }
   ],
   "source": [
    "# 입력값을 받음\n",
    "number = input(\"정수 입력>\")\n",
    "number = int(number)\n",
    "\n",
    "# 짝수 조건\n",
    "if number % 2 == 1:\n",
    "    print(\"홀수 입니다\")\n",
    "else:\n",
    "# 홀수 조건\n",
    "    print(\"짝수 입니다\")"
   ]
  },
  {
   "cell_type": "markdown",
   "metadata": {},
   "source": [
    "## elif 구문 출력"
   ]
  },
  {
   "cell_type": "code",
   "execution_count": 5,
   "metadata": {},
   "outputs": [
    {
     "name": "stdout",
     "output_type": "stream",
     "text": [
      "x\n"
     ]
    }
   ],
   "source": [
    "# 입력값을 받음\n",
    "month = input(\"계절을 확인할 달을 입력해주세요> \")\n",
    "month = int(month)\n",
    "\n",
    "if 3 <= month <= 5: \n",
    "    print(\"계절은 봄 입니다.\")\n",
    "elif 6 <= month <= 8:\n",
    "    print(\"계절은 여름 입니다.\")\n",
    "elif 9 <= month <= 11:\n",
    "    print(\"계절은 가을 입니다.\")\n",
    "elif   (0 <= month <= 2) and month >= 12 :\n",
    "    print(\"계절은 겨울 입니다.\")\n",
    "else:\n",
    "    print(\"x\")"
   ]
  },
  {
   "cell_type": "markdown",
   "metadata": {},
   "source": [
    "## for 반복문 - 리스트와 함께 사용 출력"
   ]
  },
  {
   "cell_type": "code",
   "execution_count": 6,
   "metadata": {},
   "outputs": [
    {
     "name": "stdout",
     "output_type": "stream",
     "text": [
      "1\n",
      "2\n",
      "3\n",
      "4\n",
      "5\n",
      "6\n"
     ]
    }
   ],
   "source": [
    "array = [1,2,3,4,5,6]\n",
    "\n",
    "for var in array:\n",
    "    print(var)"
   ]
  },
  {
   "cell_type": "markdown",
   "metadata": {},
   "source": [
    "## for 반복문 - 리스트와 함께 사용(인덱스) 출력"
   ]
  },
  {
   "cell_type": "code",
   "execution_count": 8,
   "metadata": {},
   "outputs": [
    {
     "name": "stdout",
     "output_type": "stream",
     "text": [
      "Index : 0 List : a\n",
      "Index : 1 List : b\n",
      "Index : 2 List : c\n",
      "Index : 3 List : d\n",
      "Index : 4 List : e\n",
      "Index : 5 List : f\n"
     ]
    }
   ],
   "source": [
    "array = ['a', 'b', 'c', 'd', 'e', 'f']\n",
    "\n",
    "for i,var in enumerate(array):\n",
    "    print(\"Index :\", i, \"List :\", var)"
   ]
  },
  {
   "cell_type": "markdown",
   "metadata": {},
   "source": [
    "## for 반복문 - 딕셔너리와 함께 사용 출력"
   ]
  },
  {
   "cell_type": "code",
   "execution_count": 9,
   "metadata": {},
   "outputs": [
    {
     "name": "stdout",
     "output_type": "stream",
     "text": [
      "name 정지현\n",
      "phone 010-1234-5678\n",
      "생일 0821\n"
     ]
    }
   ],
   "source": [
    "dic = {\n",
    "'name':'정지현', \n",
    "'phone':'010-1234-5678', \n",
    "'생일': '0821'\n",
    "}\n",
    "\n",
    "for key in dic:\n",
    "    print(key, dic[key])"
   ]
  },
  {
   "cell_type": "markdown",
   "metadata": {},
   "source": [
    "## while 반복문 출력"
   ]
  },
  {
   "cell_type": "code",
   "execution_count": 10,
   "metadata": {},
   "outputs": [
    {
     "name": "stdout",
     "output_type": "stream",
     "text": [
      "1 번째 반복입니다.\n",
      "2 번째 반복입니다.\n",
      "3 번째 반복입니다.\n",
      "4 번째 반복입니다.\n"
     ]
    }
   ],
   "source": [
    "i = 1\n",
    "\n",
    "while i < 5:\n",
    "    print(i, \"번째 반복입니다.\")\n",
    "    i += 1"
   ]
  },
  {
   "cell_type": "markdown",
   "metadata": {},
   "source": [
    "## break 출력"
   ]
  },
  {
   "cell_type": "code",
   "execution_count": 11,
   "metadata": {},
   "outputs": [
    {
     "name": "stdout",
     "output_type": "stream",
     "text": [
      "1 번째 반복문 입니다.\n",
      "2 번째 반복문 입니다.\n",
      "3 번째 반복문 입니다.\n",
      "4 번째 반복문 입니다.\n",
      "5 번째 반복문 입니다.\n",
      "6 번째 반복문 입니다.\n",
      "반복을 종료합니다.\n"
     ]
    }
   ],
   "source": [
    "i = 1\n",
    "\n",
    "# 무한 반복합니다.\n",
    "while True:\n",
    "    # 몇 번째 반복인지 출력합니다.\n",
    "    print(i, \"번째 반복문 입니다.\")\n",
    "    i += 1\n",
    "\n",
    "    # 반복을 종료합니다.\n",
    "    input_text = input(\"> 종료하시겠습니까?(종료하실 경우 y or Y):\")\n",
    "    if input_text == ('y' or 'Y'):\n",
    "        print(\"반복을 종료합니다.\")\n",
    "        break"
   ]
  },
  {
   "cell_type": "markdown",
   "metadata": {},
   "source": [
    "## continue 출력"
   ]
  },
  {
   "cell_type": "code",
   "execution_count": 12,
   "metadata": {},
   "outputs": [
    {
     "name": "stdout",
     "output_type": "stream",
     "text": [
      "홀수: 1\n",
      "홀수: 3\n",
      "홀수: 5\n",
      "홀수: 7\n",
      "홀수: 9\n"
     ]
    }
   ],
   "source": [
    "# 리스트 선언\n",
    "array = list(range(1,11))\n",
    "\n",
    "# 반복문을 실행합니다.\n",
    "for number in array:\n",
    "\n",
    "    # number가 짝수이면 다음 반복으로 넘어갑니다.\n",
    "    if number % 2 == 0:\n",
    "        continue\n",
    "        \n",
    "    # 출력합니다.\n",
    "    print(\"홀수:\", number)"
   ]
  },
  {
   "cell_type": "code",
   "execution_count": null,
   "metadata": {},
   "outputs": [],
   "source": []
  }
 ],
 "metadata": {
  "kernelspec": {
   "display_name": ".venv",
   "language": "python",
   "name": "python3"
  },
  "language_info": {
   "codemirror_mode": {
    "name": "ipython",
    "version": 3
   },
   "file_extension": ".py",
   "mimetype": "text/x-python",
   "name": "python",
   "nbconvert_exporter": "python",
   "pygments_lexer": "ipython3",
   "version": "3.11.11"
  },
  "toc": {
   "base_numbering": 1,
   "nav_menu": {},
   "number_sections": true,
   "sideBar": true,
   "skip_h1_title": false,
   "title_cell": "Table of Contents",
   "title_sidebar": "Contents",
   "toc_cell": false,
   "toc_position": {},
   "toc_section_display": true,
   "toc_window_display": true
  },
  "varInspector": {
   "cols": {
    "lenName": 16,
    "lenType": 16,
    "lenVar": 40
   },
   "kernels_config": {
    "python": {
     "delete_cmd_postfix": "",
     "delete_cmd_prefix": "del ",
     "library": "var_list.py",
     "varRefreshCmd": "print(var_dic_list())"
    },
    "r": {
     "delete_cmd_postfix": ") ",
     "delete_cmd_prefix": "rm(",
     "library": "var_list.r",
     "varRefreshCmd": "cat(var_dic_list()) "
    }
   },
   "types_to_exclude": [
    "module",
    "function",
    "builtin_function_or_method",
    "instance",
    "_Feature"
   ],
   "window_display": false
  }
 },
 "nbformat": 4,
 "nbformat_minor": 2
}
