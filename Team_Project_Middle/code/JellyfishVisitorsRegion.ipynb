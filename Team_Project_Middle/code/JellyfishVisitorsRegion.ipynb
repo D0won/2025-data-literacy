{
 "cells": [
  {
   "cell_type": "code",
   "execution_count": 18,
   "id": "e4b08e70",
   "metadata": {},
   "outputs": [],
   "source": [
    "import pandas as pd\n",
    "import numpy as np"
   ]
  },
  {
   "cell_type": "code",
   "execution_count": 19,
   "id": "ba3616f8",
   "metadata": {},
   "outputs": [
    {
     "data": {
      "text/html": [
       "<div>\n",
       "<style scoped>\n",
       "    .dataframe tbody tr th:only-of-type {\n",
       "        vertical-align: middle;\n",
       "    }\n",
       "\n",
       "    .dataframe tbody tr th {\n",
       "        vertical-align: top;\n",
       "    }\n",
       "\n",
       "    .dataframe thead th {\n",
       "        text-align: right;\n",
       "    }\n",
       "</style>\n",
       "<table border=\"1\" class=\"dataframe\">\n",
       "  <thead>\n",
       "    <tr style=\"text-align: right;\">\n",
       "      <th></th>\n",
       "      <th>GEOM</th>\n",
       "      <th>STD_YR</th>\n",
       "      <th>SIDO_NM</th>\n",
       "      <th>SGG_NM</th>\n",
       "      <th>BBCH_NM</th>\n",
       "      <th>LA</th>\n",
       "      <th>LO</th>\n",
       "      <th>TURIST_VARTION_VAL</th>\n",
       "      <th>JLYFS_APRT</th>\n",
       "    </tr>\n",
       "  </thead>\n",
       "  <tbody>\n",
       "    <tr>\n",
       "      <th>0</th>\n",
       "      <td>POINT (128.918478 37.794867)</td>\n",
       "      <td>2016</td>\n",
       "      <td>강원도</td>\n",
       "      <td>강릉시</td>\n",
       "      <td>강문</td>\n",
       "      <td>37.794867</td>\n",
       "      <td>128.918478</td>\n",
       "      <td>779</td>\n",
       "      <td>63.64</td>\n",
       "    </tr>\n",
       "    <tr>\n",
       "      <th>1</th>\n",
       "      <td>POINT (128.9102206 37.80345579)</td>\n",
       "      <td>2016</td>\n",
       "      <td>강원도</td>\n",
       "      <td>강릉시</td>\n",
       "      <td>경포</td>\n",
       "      <td>37.803456</td>\n",
       "      <td>128.910221</td>\n",
       "      <td>-537994</td>\n",
       "      <td>63.64</td>\n",
       "    </tr>\n",
       "    <tr>\n",
       "      <th>2</th>\n",
       "      <td>POINT (129.0434453 37.6395086)</td>\n",
       "      <td>2016</td>\n",
       "      <td>강원도</td>\n",
       "      <td>강릉시</td>\n",
       "      <td>금진</td>\n",
       "      <td>37.639509</td>\n",
       "      <td>129.043445</td>\n",
       "      <td>-770</td>\n",
       "      <td>63.64</td>\n",
       "    </tr>\n",
       "    <tr>\n",
       "      <th>3</th>\n",
       "      <td>POINT (128.9529874 37.7655509)</td>\n",
       "      <td>2016</td>\n",
       "      <td>강원도</td>\n",
       "      <td>강릉시</td>\n",
       "      <td>남항진</td>\n",
       "      <td>37.765551</td>\n",
       "      <td>128.952987</td>\n",
       "      <td>-4308</td>\n",
       "      <td>63.64</td>\n",
       "    </tr>\n",
       "    <tr>\n",
       "      <th>4</th>\n",
       "      <td>POINT (129.0626627 37.605498)</td>\n",
       "      <td>2016</td>\n",
       "      <td>강원도</td>\n",
       "      <td>강릉시</td>\n",
       "      <td>도직</td>\n",
       "      <td>37.605498</td>\n",
       "      <td>129.062663</td>\n",
       "      <td>-361</td>\n",
       "      <td>63.64</td>\n",
       "    </tr>\n",
       "    <tr>\n",
       "      <th>...</th>\n",
       "      <td>...</td>\n",
       "      <td>...</td>\n",
       "      <td>...</td>\n",
       "      <td>...</td>\n",
       "      <td>...</td>\n",
       "      <td>...</td>\n",
       "      <td>...</td>\n",
       "      <td>...</td>\n",
       "      <td>...</td>\n",
       "    </tr>\n",
       "    <tr>\n",
       "      <th>564</th>\n",
       "      <td>POINT (128.9945474 35.0756779)</td>\n",
       "      <td>2021</td>\n",
       "      <td>부산광역시</td>\n",
       "      <td>사하구</td>\n",
       "      <td>다대포</td>\n",
       "      <td>35.075678</td>\n",
       "      <td>128.994547</td>\n",
       "      <td>-211700</td>\n",
       "      <td>38.10</td>\n",
       "    </tr>\n",
       "    <tr>\n",
       "      <th>565</th>\n",
       "      <td>POINT (129.0169452 35.07593117)</td>\n",
       "      <td>2021</td>\n",
       "      <td>부산광역시</td>\n",
       "      <td>서구</td>\n",
       "      <td>송도</td>\n",
       "      <td>35.075931</td>\n",
       "      <td>129.016945</td>\n",
       "      <td>-768590</td>\n",
       "      <td>38.10</td>\n",
       "    </tr>\n",
       "    <tr>\n",
       "      <th>566</th>\n",
       "      <td>POINT (129.1185399 35.1537821)</td>\n",
       "      <td>2021</td>\n",
       "      <td>부산광역시</td>\n",
       "      <td>수영구</td>\n",
       "      <td>광안리</td>\n",
       "      <td>35.153782</td>\n",
       "      <td>129.118540</td>\n",
       "      <td>-1529986</td>\n",
       "      <td>38.10</td>\n",
       "    </tr>\n",
       "    <tr>\n",
       "      <th>567</th>\n",
       "      <td>POINT (129.1958718 35.1764467)</td>\n",
       "      <td>2021</td>\n",
       "      <td>부산광역시</td>\n",
       "      <td>해운대구</td>\n",
       "      <td>송정</td>\n",
       "      <td>35.176447</td>\n",
       "      <td>129.195872</td>\n",
       "      <td>-303918</td>\n",
       "      <td>38.10</td>\n",
       "    </tr>\n",
       "    <tr>\n",
       "      <th>568</th>\n",
       "      <td>POINT (129.1638525 35.1631596)</td>\n",
       "      <td>2021</td>\n",
       "      <td>부산광역시</td>\n",
       "      <td>해운대구</td>\n",
       "      <td>해운대</td>\n",
       "      <td>35.163160</td>\n",
       "      <td>129.163852</td>\n",
       "      <td>-1852318</td>\n",
       "      <td>38.10</td>\n",
       "    </tr>\n",
       "  </tbody>\n",
       "</table>\n",
       "<p>569 rows × 9 columns</p>\n",
       "</div>"
      ],
      "text/plain": [
       "                                GEOM  STD_YR SIDO_NM SGG_NM BBCH_NM  \\\n",
       "0       POINT (128.918478 37.794867)    2016     강원도    강릉시      강문   \n",
       "1    POINT (128.9102206 37.80345579)    2016     강원도    강릉시      경포   \n",
       "2     POINT (129.0434453 37.6395086)    2016     강원도    강릉시      금진   \n",
       "3     POINT (128.9529874 37.7655509)    2016     강원도    강릉시     남항진   \n",
       "4      POINT (129.0626627 37.605498)    2016     강원도    강릉시      도직   \n",
       "..                               ...     ...     ...    ...     ...   \n",
       "564   POINT (128.9945474 35.0756779)    2021   부산광역시    사하구     다대포   \n",
       "565  POINT (129.0169452 35.07593117)    2021   부산광역시     서구      송도   \n",
       "566   POINT (129.1185399 35.1537821)    2021   부산광역시    수영구     광안리   \n",
       "567   POINT (129.1958718 35.1764467)    2021   부산광역시   해운대구      송정   \n",
       "568   POINT (129.1638525 35.1631596)    2021   부산광역시   해운대구     해운대   \n",
       "\n",
       "            LA          LO  TURIST_VARTION_VAL  JLYFS_APRT  \n",
       "0    37.794867  128.918478                 779       63.64  \n",
       "1    37.803456  128.910221             -537994       63.64  \n",
       "2    37.639509  129.043445                -770       63.64  \n",
       "3    37.765551  128.952987               -4308       63.64  \n",
       "4    37.605498  129.062663                -361       63.64  \n",
       "..         ...         ...                 ...         ...  \n",
       "564  35.075678  128.994547             -211700       38.10  \n",
       "565  35.075931  129.016945             -768590       38.10  \n",
       "566  35.153782  129.118540            -1529986       38.10  \n",
       "567  35.176447  129.195872             -303918       38.10  \n",
       "568  35.163160  129.163852            -1852318       38.10  \n",
       "\n",
       "[569 rows x 9 columns]"
      ]
     },
     "execution_count": 19,
     "metadata": {},
     "output_type": "execute_result"
    }
   ],
   "source": [
    "# 시도별 노무라입깃 해파리 출현에 따른 해수욕장 이용객 변화 데이터 불러오기\n",
    "tourist_data = pd.read_csv('해파리융합.csv')\n",
    "tourist_data"
   ]
  },
  {
   "cell_type": "code",
   "execution_count": 13,
   "id": "6c9a7ab4",
   "metadata": {},
   "outputs": [
    {
     "data": {
      "text/plain": [
       "['GEOM',\n",
       " 'STD_YR',\n",
       " 'SIDO_NM',\n",
       " 'SGG_NM',\n",
       " 'BBCH_NM',\n",
       " 'LA',\n",
       " 'LO',\n",
       " 'TURIST_VARTION_VAL',\n",
       " 'JLYFS_APRT']"
      ]
     },
     "execution_count": 13,
     "metadata": {},
     "output_type": "execute_result"
    }
   ],
   "source": [
    "# 칼럼명 리스트로 보기\n",
    "tourist_data_columns = tourist_data.columns.tolist()\n",
    "tourist_data_columns"
   ]
  },
  {
   "cell_type": "markdown",
   "id": "236fa68f",
   "metadata": {},
   "source": [
    "## 칼럼별 설명\n",
    "\n",
    "| 칼럼명 | 컬럼설명 |\n",
    "| --- | --- |\n",
    "|  GEOM| 공간정보 |\n",
    "| STD_YR| 기준년도 |\n",
    "|SIDO_NM| 시도명 |\n",
    "|SGG_NM| 시군구명 |\n",
    "|BBCH_NM| 해수욕장명 |\n",
    "|LA| 위도 |\n",
    "|LO| 경도 |\n",
    "|TURIST_VARTION_VAL| 관광객변화값 |\n",
    "|JLYFS_APRT| 해파리출현율 |"
   ]
  },
  {
   "cell_type": "code",
   "execution_count": 20,
   "id": "2d5182df",
   "metadata": {},
   "outputs": [
    {
     "data": {
      "text/plain": [
       "SIDO_NM\n",
       "강원도      519\n",
       "부산광역시     35\n",
       "울산광역시      8\n",
       "인천광역시      7\n",
       "Name: count, dtype: int64"
      ]
     },
     "execution_count": 20,
     "metadata": {},
     "output_type": "execute_result"
    }
   ],
   "source": [
    "# 해파리 출현 도,시 출력\n",
    "tourist_data['SIDO_NM'].value_counts()"
   ]
  },
  {
   "cell_type": "code",
   "execution_count": 15,
   "id": "bb07d64c",
   "metadata": {},
   "outputs": [],
   "source": [
    "mapping_data = {\n",
    "    '강원도' : '강원',\n",
    "    '부산광역시' : '부산',\n",
    "    '울산광역시' : '울산',\n",
    "    '인천광역시' : '인천'\n",
    "}"
   ]
  },
  {
   "cell_type": "code",
   "execution_count": 16,
   "id": "e9afcb5c",
   "metadata": {},
   "outputs": [
    {
     "data": {
      "text/plain": [
       "SIDO_NM\n",
       "강원    519\n",
       "부산     35\n",
       "울산      8\n",
       "인천      7\n",
       "Name: count, dtype: int64"
      ]
     },
     "execution_count": 16,
     "metadata": {},
     "output_type": "execute_result"
    }
   ],
   "source": [
    "# 모니터링 데이터와 지역명 통일\n",
    "tourist_data['SIDO_NM'] = tourist_data['SIDO_NM'].map(mapping_data)\n",
    "tourist_data['SIDO_NM'].value_counts()"
   ]
  },
  {
   "cell_type": "code",
   "execution_count": 17,
   "id": "dcfb4448",
   "metadata": {},
   "outputs": [],
   "source": [
    "tourist_data.to_csv('시도별 노무라입깃 해파리 출현에 따른 해수욕장 이용객 변화.csv', index=False, encoding='utf-8')"
   ]
  }
 ],
 "metadata": {
  "kernelspec": {
   "display_name": ".venv",
   "language": "python",
   "name": "python3"
  },
  "language_info": {
   "codemirror_mode": {
    "name": "ipython",
    "version": 3
   },
   "file_extension": ".py",
   "mimetype": "text/x-python",
   "name": "python",
   "nbconvert_exporter": "python",
   "pygments_lexer": "ipython3",
   "version": "3.11.11"
  }
 },
 "nbformat": 4,
 "nbformat_minor": 5
}
