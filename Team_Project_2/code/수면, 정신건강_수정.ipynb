{
 "cells": [
  {
   "cell_type": "code",
   "execution_count": 1,
   "id": "638c4ffa",
   "metadata": {},
   "outputs": [],
   "source": [
    "import numpy as np\n",
    "import numpy.random as random\n",
    "import scipy as sp\n",
    "import scipy.stats as stats\n",
    "import pandas as pd\n",
    "from pandas import Series, DataFrame\n",
    "\n",
    "import statsmodels.formula.api as smf\n",
    "import statsmodels.api as sm\n",
    "from scipy import stats\n",
    "from statsmodels.stats.multicomp import pairwise_tukeyhsd\n",
    "\n",
    "import matplotlib.pyplot as plt\n",
    "import matplotlib as mpl\n",
    "mpl.rc('font',family='Malgun Gothic')  # 한글폰트 설정 \"맑은 고딕\"\n",
    "import seaborn as sns\n",
    "%matplotlib inline\n",
    "\n",
    "# 소수점 3자리까지 표시\n",
    "%precision 3\n",
    "\n",
    "data = pd.read_csv('../data/data_mental.csv')"
   ]
  },
  {
   "cell_type": "markdown",
   "id": "e00f2364",
   "metadata": {},
   "source": [
    "## 데이터 전처리"
   ]
  },
  {
   "cell_type": "code",
   "execution_count": 3,
   "id": "125810a2",
   "metadata": {},
   "outputs": [
    {
     "data": {
      "text/html": [
       "<div>\n",
       "<style scoped>\n",
       "    .dataframe tbody tr th:only-of-type {\n",
       "        vertical-align: middle;\n",
       "    }\n",
       "\n",
       "    .dataframe tbody tr th {\n",
       "        vertical-align: top;\n",
       "    }\n",
       "\n",
       "    .dataframe thead th {\n",
       "        text-align: right;\n",
       "    }\n",
       "</style>\n",
       "<table border=\"1\" class=\"dataframe\">\n",
       "  <thead>\n",
       "    <tr style=\"text-align: right;\">\n",
       "      <th></th>\n",
       "      <th>sex</th>\n",
       "      <th>age</th>\n",
       "      <th>위험군_분류</th>\n",
       "      <th>스트레스_인지</th>\n",
       "      <th>PHQ_점수</th>\n",
       "      <th>GAD_점수</th>\n",
       "      <th>주중 수면 시간</th>\n",
       "    </tr>\n",
       "  </thead>\n",
       "  <tbody>\n",
       "    <tr>\n",
       "      <th>0</th>\n",
       "      <td>1</td>\n",
       "      <td>66</td>\n",
       "      <td>정상</td>\n",
       "      <td>0.0</td>\n",
       "      <td>0.0</td>\n",
       "      <td>0.0</td>\n",
       "      <td>9.0</td>\n",
       "    </tr>\n",
       "    <tr>\n",
       "      <th>1</th>\n",
       "      <td>2</td>\n",
       "      <td>62</td>\n",
       "      <td>정상</td>\n",
       "      <td>0.0</td>\n",
       "      <td>0.0</td>\n",
       "      <td>0.0</td>\n",
       "      <td>7.0</td>\n",
       "    </tr>\n",
       "    <tr>\n",
       "      <th>2</th>\n",
       "      <td>2</td>\n",
       "      <td>61</td>\n",
       "      <td>정상</td>\n",
       "      <td>1.0</td>\n",
       "      <td>0.0</td>\n",
       "      <td>0.0</td>\n",
       "      <td>5.0</td>\n",
       "    </tr>\n",
       "    <tr>\n",
       "      <th>3</th>\n",
       "      <td>2</td>\n",
       "      <td>22</td>\n",
       "      <td>정상</td>\n",
       "      <td>1.0</td>\n",
       "      <td>3.0</td>\n",
       "      <td>3.0</td>\n",
       "      <td>5.0</td>\n",
       "    </tr>\n",
       "    <tr>\n",
       "      <th>4</th>\n",
       "      <td>2</td>\n",
       "      <td>53</td>\n",
       "      <td>정상</td>\n",
       "      <td>0.0</td>\n",
       "      <td>0.0</td>\n",
       "      <td>3.0</td>\n",
       "      <td>6.0</td>\n",
       "    </tr>\n",
       "  </tbody>\n",
       "</table>\n",
       "</div>"
      ],
      "text/plain": [
       "   sex  age 위험군_분류  스트레스_인지  PHQ_점수  GAD_점수  주중 수면 시간\n",
       "0    1   66     정상      0.0     0.0     0.0       9.0\n",
       "1    2   62     정상      0.0     0.0     0.0       7.0\n",
       "2    2   61     정상      1.0     0.0     0.0       5.0\n",
       "3    2   22     정상      1.0     3.0     3.0       5.0\n",
       "4    2   53     정상      0.0     0.0     3.0       6.0"
      ]
     },
     "execution_count": 3,
     "metadata": {},
     "output_type": "execute_result"
    }
   ],
   "source": [
    "# 데이터 추출\n",
    "md = data[['sex', 'age', '위험군_분류','스트레스_인지', 'PHQ_점수', 'GAD_점수', '주중 수면 시간']]\n",
    "md.head(5)"
   ]
  },
  {
   "cell_type": "code",
   "execution_count": 4,
   "id": "e370d771",
   "metadata": {},
   "outputs": [
    {
     "ename": "KeyError",
     "evalue": "\"['주말 수면 시간'] not in index\"",
     "output_type": "error",
     "traceback": [
      "\u001b[31m---------------------------------------------------------------------------\u001b[39m",
      "\u001b[31mKeyError\u001b[39m                                  Traceback (most recent call last)",
      "\u001b[36mCell\u001b[39m\u001b[36m \u001b[39m\u001b[32mIn[4]\u001b[39m\u001b[32m, line 2\u001b[39m\n\u001b[32m      1\u001b[39m \u001b[38;5;66;03m# 데이터 추출\u001b[39;00m\n\u001b[32m----> \u001b[39m\u001b[32m2\u001b[39m md2 = \u001b[43mdata\u001b[49m\u001b[43m[\u001b[49m\u001b[43m[\u001b[49m\u001b[33;43m'\u001b[39;49m\u001b[33;43msex\u001b[39;49m\u001b[33;43m'\u001b[39;49m\u001b[43m,\u001b[49m\u001b[43m \u001b[49m\u001b[33;43m'\u001b[39;49m\u001b[33;43mage\u001b[39;49m\u001b[33;43m'\u001b[39;49m\u001b[43m,\u001b[49m\u001b[43m \u001b[49m\u001b[33;43m'\u001b[39;49m\u001b[33;43m위험군_분류\u001b[39;49m\u001b[33;43m'\u001b[39;49m\u001b[43m,\u001b[49m\u001b[33;43m'\u001b[39;49m\u001b[33;43m스트레스_인지\u001b[39;49m\u001b[33;43m'\u001b[39;49m\u001b[43m,\u001b[49m\u001b[43m \u001b[49m\u001b[33;43m'\u001b[39;49m\u001b[33;43mPHQ_점수\u001b[39;49m\u001b[33;43m'\u001b[39;49m\u001b[43m,\u001b[49m\u001b[43m \u001b[49m\u001b[33;43m'\u001b[39;49m\u001b[33;43mGAD_점수\u001b[39;49m\u001b[33;43m'\u001b[39;49m\u001b[43m,\u001b[49m\u001b[43m \u001b[49m\u001b[33;43m'\u001b[39;49m\u001b[33;43m주말 수면 시간\u001b[39;49m\u001b[33;43m'\u001b[39;49m\u001b[43m]\u001b[49m\u001b[43m]\u001b[49m\n\u001b[32m      3\u001b[39m md2.head(\u001b[32m5\u001b[39m)\n",
      "\u001b[36mFile \u001b[39m\u001b[32m~/Library/Mobile Documents/com~apple~CloudDocs/Study/2025-school/2025-data-literacy/.venv/lib/python3.11/site-packages/pandas/core/frame.py:4108\u001b[39m, in \u001b[36mDataFrame.__getitem__\u001b[39m\u001b[34m(self, key)\u001b[39m\n\u001b[32m   4106\u001b[39m     \u001b[38;5;28;01mif\u001b[39;00m is_iterator(key):\n\u001b[32m   4107\u001b[39m         key = \u001b[38;5;28mlist\u001b[39m(key)\n\u001b[32m-> \u001b[39m\u001b[32m4108\u001b[39m     indexer = \u001b[38;5;28;43mself\u001b[39;49m\u001b[43m.\u001b[49m\u001b[43mcolumns\u001b[49m\u001b[43m.\u001b[49m\u001b[43m_get_indexer_strict\u001b[49m\u001b[43m(\u001b[49m\u001b[43mkey\u001b[49m\u001b[43m,\u001b[49m\u001b[43m \u001b[49m\u001b[33;43m\"\u001b[39;49m\u001b[33;43mcolumns\u001b[39;49m\u001b[33;43m\"\u001b[39;49m\u001b[43m)\u001b[49m[\u001b[32m1\u001b[39m]\n\u001b[32m   4110\u001b[39m \u001b[38;5;66;03m# take() does not accept boolean indexers\u001b[39;00m\n\u001b[32m   4111\u001b[39m \u001b[38;5;28;01mif\u001b[39;00m \u001b[38;5;28mgetattr\u001b[39m(indexer, \u001b[33m\"\u001b[39m\u001b[33mdtype\u001b[39m\u001b[33m\"\u001b[39m, \u001b[38;5;28;01mNone\u001b[39;00m) == \u001b[38;5;28mbool\u001b[39m:\n",
      "\u001b[36mFile \u001b[39m\u001b[32m~/Library/Mobile Documents/com~apple~CloudDocs/Study/2025-school/2025-data-literacy/.venv/lib/python3.11/site-packages/pandas/core/indexes/base.py:6200\u001b[39m, in \u001b[36mIndex._get_indexer_strict\u001b[39m\u001b[34m(self, key, axis_name)\u001b[39m\n\u001b[32m   6197\u001b[39m \u001b[38;5;28;01melse\u001b[39;00m:\n\u001b[32m   6198\u001b[39m     keyarr, indexer, new_indexer = \u001b[38;5;28mself\u001b[39m._reindex_non_unique(keyarr)\n\u001b[32m-> \u001b[39m\u001b[32m6200\u001b[39m \u001b[38;5;28;43mself\u001b[39;49m\u001b[43m.\u001b[49m\u001b[43m_raise_if_missing\u001b[49m\u001b[43m(\u001b[49m\u001b[43mkeyarr\u001b[49m\u001b[43m,\u001b[49m\u001b[43m \u001b[49m\u001b[43mindexer\u001b[49m\u001b[43m,\u001b[49m\u001b[43m \u001b[49m\u001b[43maxis_name\u001b[49m\u001b[43m)\u001b[49m\n\u001b[32m   6202\u001b[39m keyarr = \u001b[38;5;28mself\u001b[39m.take(indexer)\n\u001b[32m   6203\u001b[39m \u001b[38;5;28;01mif\u001b[39;00m \u001b[38;5;28misinstance\u001b[39m(key, Index):\n\u001b[32m   6204\u001b[39m     \u001b[38;5;66;03m# GH 42790 - Preserve name from an Index\u001b[39;00m\n",
      "\u001b[36mFile \u001b[39m\u001b[32m~/Library/Mobile Documents/com~apple~CloudDocs/Study/2025-school/2025-data-literacy/.venv/lib/python3.11/site-packages/pandas/core/indexes/base.py:6252\u001b[39m, in \u001b[36mIndex._raise_if_missing\u001b[39m\u001b[34m(self, key, indexer, axis_name)\u001b[39m\n\u001b[32m   6249\u001b[39m     \u001b[38;5;28;01mraise\u001b[39;00m \u001b[38;5;167;01mKeyError\u001b[39;00m(\u001b[33mf\u001b[39m\u001b[33m\"\u001b[39m\u001b[33mNone of [\u001b[39m\u001b[38;5;132;01m{\u001b[39;00mkey\u001b[38;5;132;01m}\u001b[39;00m\u001b[33m] are in the [\u001b[39m\u001b[38;5;132;01m{\u001b[39;00maxis_name\u001b[38;5;132;01m}\u001b[39;00m\u001b[33m]\u001b[39m\u001b[33m\"\u001b[39m)\n\u001b[32m   6251\u001b[39m not_found = \u001b[38;5;28mlist\u001b[39m(ensure_index(key)[missing_mask.nonzero()[\u001b[32m0\u001b[39m]].unique())\n\u001b[32m-> \u001b[39m\u001b[32m6252\u001b[39m \u001b[38;5;28;01mraise\u001b[39;00m \u001b[38;5;167;01mKeyError\u001b[39;00m(\u001b[33mf\u001b[39m\u001b[33m\"\u001b[39m\u001b[38;5;132;01m{\u001b[39;00mnot_found\u001b[38;5;132;01m}\u001b[39;00m\u001b[33m not in index\u001b[39m\u001b[33m\"\u001b[39m)\n",
      "\u001b[31mKeyError\u001b[39m: \"['주말 수면 시간'] not in index\""
     ]
    }
   ],
   "source": [
    "# 데이터 추출\n",
    "md2 = data[['sex', 'age', '위험군_분류','스트레스_인지', 'PHQ_점수', 'GAD_점수', '주말 수면 시간']]\n",
    "md2.head(5)"
   ]
  },
  {
   "cell_type": "code",
   "execution_count": null,
   "id": "1a9af73b",
   "metadata": {},
   "outputs": [
    {
     "data": {
      "text/html": [
       "<div>\n",
       "<style scoped>\n",
       "    .dataframe tbody tr th:only-of-type {\n",
       "        vertical-align: middle;\n",
       "    }\n",
       "\n",
       "    .dataframe tbody tr th {\n",
       "        vertical-align: top;\n",
       "    }\n",
       "\n",
       "    .dataframe thead th {\n",
       "        text-align: right;\n",
       "    }\n",
       "</style>\n",
       "<table border=\"1\" class=\"dataframe\">\n",
       "  <thead>\n",
       "    <tr style=\"text-align: right;\">\n",
       "      <th></th>\n",
       "      <th>sex</th>\n",
       "      <th>age</th>\n",
       "      <th>위험군_분류</th>\n",
       "      <th>스트레스_인지</th>\n",
       "      <th>PHQ_점수</th>\n",
       "      <th>GAD_점수</th>\n",
       "      <th>주중 수면 시간</th>\n",
       "    </tr>\n",
       "  </thead>\n",
       "  <tbody>\n",
       "    <tr>\n",
       "      <th>0</th>\n",
       "      <td>1</td>\n",
       "      <td>66</td>\n",
       "      <td>정상</td>\n",
       "      <td>0.0</td>\n",
       "      <td>0.0</td>\n",
       "      <td>0.0</td>\n",
       "      <td>9.0</td>\n",
       "    </tr>\n",
       "    <tr>\n",
       "      <th>1</th>\n",
       "      <td>2</td>\n",
       "      <td>62</td>\n",
       "      <td>정상</td>\n",
       "      <td>0.0</td>\n",
       "      <td>0.0</td>\n",
       "      <td>0.0</td>\n",
       "      <td>7.0</td>\n",
       "    </tr>\n",
       "    <tr>\n",
       "      <th>2</th>\n",
       "      <td>2</td>\n",
       "      <td>61</td>\n",
       "      <td>정상</td>\n",
       "      <td>1.0</td>\n",
       "      <td>0.0</td>\n",
       "      <td>0.0</td>\n",
       "      <td>5.0</td>\n",
       "    </tr>\n",
       "    <tr>\n",
       "      <th>3</th>\n",
       "      <td>2</td>\n",
       "      <td>22</td>\n",
       "      <td>정상</td>\n",
       "      <td>1.0</td>\n",
       "      <td>3.0</td>\n",
       "      <td>3.0</td>\n",
       "      <td>5.0</td>\n",
       "    </tr>\n",
       "    <tr>\n",
       "      <th>4</th>\n",
       "      <td>2</td>\n",
       "      <td>53</td>\n",
       "      <td>정상</td>\n",
       "      <td>0.0</td>\n",
       "      <td>0.0</td>\n",
       "      <td>3.0</td>\n",
       "      <td>6.0</td>\n",
       "    </tr>\n",
       "  </tbody>\n",
       "</table>\n",
       "</div>"
      ],
      "text/plain": [
       "   sex  age 위험군_분류  스트레스_인지  PHQ_점수  GAD_점수  주중 수면 시간\n",
       "0    1   66     정상      0.0     0.0     0.0       9.0\n",
       "1    2   62     정상      0.0     0.0     0.0       7.0\n",
       "2    2   61     정상      1.0     0.0     0.0       5.0\n",
       "3    2   22     정상      1.0     3.0     3.0       5.0\n",
       "4    2   53     정상      0.0     0.0     3.0       6.0"
      ]
     },
     "execution_count": 29,
     "metadata": {},
     "output_type": "execute_result"
    }
   ],
   "source": [
    "# 데이터 이상치 제거\n",
    "# 사분위수(IQR)를 활용한 이상치 제거\n",
    "Q1 = md['주중 수면 시간'].quantile(0.25)\n",
    "Q3 = md['주중 수면 시간'].quantile(0.75)\n",
    "IQR = Q3 - Q1\n",
    "md = md[(md['주중 수면 시간'] >= Q1 - 1.5 * IQR) & (md['주중 수면 시간'] <= Q3 + 1.5 * IQR)]\n",
    "md.head()"
   ]
  },
  {
   "cell_type": "code",
   "execution_count": null,
   "id": "8fbe0766",
   "metadata": {},
   "outputs": [
    {
     "data": {
      "text/html": [
       "<div>\n",
       "<style scoped>\n",
       "    .dataframe tbody tr th:only-of-type {\n",
       "        vertical-align: middle;\n",
       "    }\n",
       "\n",
       "    .dataframe tbody tr th {\n",
       "        vertical-align: top;\n",
       "    }\n",
       "\n",
       "    .dataframe thead th {\n",
       "        text-align: right;\n",
       "    }\n",
       "</style>\n",
       "<table border=\"1\" class=\"dataframe\">\n",
       "  <thead>\n",
       "    <tr style=\"text-align: right;\">\n",
       "      <th></th>\n",
       "      <th>sex</th>\n",
       "      <th>age</th>\n",
       "      <th>위험군_분류</th>\n",
       "      <th>스트레스_인지</th>\n",
       "      <th>PHQ_점수</th>\n",
       "      <th>GAD_점수</th>\n",
       "      <th>주말 수면 시간</th>\n",
       "    </tr>\n",
       "  </thead>\n",
       "  <tbody>\n",
       "    <tr>\n",
       "      <th>0</th>\n",
       "      <td>1</td>\n",
       "      <td>66</td>\n",
       "      <td>정상</td>\n",
       "      <td>0.0</td>\n",
       "      <td>0.0</td>\n",
       "      <td>0.0</td>\n",
       "      <td>9.0</td>\n",
       "    </tr>\n",
       "    <tr>\n",
       "      <th>1</th>\n",
       "      <td>2</td>\n",
       "      <td>62</td>\n",
       "      <td>정상</td>\n",
       "      <td>0.0</td>\n",
       "      <td>0.0</td>\n",
       "      <td>0.0</td>\n",
       "      <td>9.0</td>\n",
       "    </tr>\n",
       "    <tr>\n",
       "      <th>2</th>\n",
       "      <td>2</td>\n",
       "      <td>61</td>\n",
       "      <td>정상</td>\n",
       "      <td>1.0</td>\n",
       "      <td>0.0</td>\n",
       "      <td>0.0</td>\n",
       "      <td>6.0</td>\n",
       "    </tr>\n",
       "    <tr>\n",
       "      <th>6</th>\n",
       "      <td>2</td>\n",
       "      <td>48</td>\n",
       "      <td>정상</td>\n",
       "      <td>0.0</td>\n",
       "      <td>1.0</td>\n",
       "      <td>0.0</td>\n",
       "      <td>6.0</td>\n",
       "    </tr>\n",
       "    <tr>\n",
       "      <th>8</th>\n",
       "      <td>1</td>\n",
       "      <td>46</td>\n",
       "      <td>정상</td>\n",
       "      <td>0.0</td>\n",
       "      <td>0.0</td>\n",
       "      <td>0.0</td>\n",
       "      <td>8.0</td>\n",
       "    </tr>\n",
       "  </tbody>\n",
       "</table>\n",
       "</div>"
      ],
      "text/plain": [
       "   sex  age 위험군_분류  스트레스_인지  PHQ_점수  GAD_점수  주말 수면 시간\n",
       "0    1   66     정상      0.0     0.0     0.0       9.0\n",
       "1    2   62     정상      0.0     0.0     0.0       9.0\n",
       "2    2   61     정상      1.0     0.0     0.0       6.0\n",
       "6    2   48     정상      0.0     1.0     0.0       6.0\n",
       "8    1   46     정상      0.0     0.0     0.0       8.0"
      ]
     },
     "execution_count": 5,
     "metadata": {},
     "output_type": "execute_result"
    }
   ],
   "source": [
    "# 데이터 이상치 제거\n",
    "# 사분위수(IQR)를 활용한 이상치 제거\n",
    "Q1 = md2['주말 수면 시간'].quantile(0.25)\n",
    "Q3 = md2['주말 수면 시간'].quantile(0.75)\n",
    "IQR = Q3 - Q1\n",
    "md2= md2[(md2['주말 수면 시간'] >= Q1 - 1.5 * IQR) & (md2['주말 수면 시간'] <= Q3 + 1.5 * IQR)]\n",
    "md2.head()"
   ]
  },
  {
   "cell_type": "code",
   "execution_count": null,
   "id": "bceb2f27",
   "metadata": {},
   "outputs": [
    {
     "data": {
      "text/html": [
       "<div>\n",
       "<style scoped>\n",
       "    .dataframe tbody tr th:only-of-type {\n",
       "        vertical-align: middle;\n",
       "    }\n",
       "\n",
       "    .dataframe tbody tr th {\n",
       "        vertical-align: top;\n",
       "    }\n",
       "\n",
       "    .dataframe thead th {\n",
       "        text-align: right;\n",
       "    }\n",
       "</style>\n",
       "<table border=\"1\" class=\"dataframe\">\n",
       "  <thead>\n",
       "    <tr style=\"text-align: right;\">\n",
       "      <th></th>\n",
       "      <th>sex</th>\n",
       "      <th>age</th>\n",
       "      <th>위험군_분류</th>\n",
       "      <th>스트레스_인지</th>\n",
       "      <th>PHQ_점수</th>\n",
       "      <th>GAD_점수</th>\n",
       "      <th>주중 수면 시간</th>\n",
       "    </tr>\n",
       "  </thead>\n",
       "  <tbody>\n",
       "    <tr>\n",
       "      <th>0</th>\n",
       "      <td>1</td>\n",
       "      <td>66</td>\n",
       "      <td>정상</td>\n",
       "      <td>0.0</td>\n",
       "      <td>0.0</td>\n",
       "      <td>0.0</td>\n",
       "      <td>9.0</td>\n",
       "    </tr>\n",
       "    <tr>\n",
       "      <th>1</th>\n",
       "      <td>2</td>\n",
       "      <td>62</td>\n",
       "      <td>정상</td>\n",
       "      <td>0.0</td>\n",
       "      <td>0.0</td>\n",
       "      <td>0.0</td>\n",
       "      <td>7.0</td>\n",
       "    </tr>\n",
       "    <tr>\n",
       "      <th>2</th>\n",
       "      <td>2</td>\n",
       "      <td>61</td>\n",
       "      <td>정상</td>\n",
       "      <td>1.0</td>\n",
       "      <td>0.0</td>\n",
       "      <td>0.0</td>\n",
       "      <td>5.0</td>\n",
       "    </tr>\n",
       "    <tr>\n",
       "      <th>3</th>\n",
       "      <td>2</td>\n",
       "      <td>22</td>\n",
       "      <td>정상</td>\n",
       "      <td>1.0</td>\n",
       "      <td>3.0</td>\n",
       "      <td>3.0</td>\n",
       "      <td>5.0</td>\n",
       "    </tr>\n",
       "    <tr>\n",
       "      <th>4</th>\n",
       "      <td>2</td>\n",
       "      <td>53</td>\n",
       "      <td>정상</td>\n",
       "      <td>0.0</td>\n",
       "      <td>0.0</td>\n",
       "      <td>3.0</td>\n",
       "      <td>6.0</td>\n",
       "    </tr>\n",
       "    <tr>\n",
       "      <th>...</th>\n",
       "      <td>...</td>\n",
       "      <td>...</td>\n",
       "      <td>...</td>\n",
       "      <td>...</td>\n",
       "      <td>...</td>\n",
       "      <td>...</td>\n",
       "      <td>...</td>\n",
       "    </tr>\n",
       "    <tr>\n",
       "      <th>4407</th>\n",
       "      <td>1</td>\n",
       "      <td>33</td>\n",
       "      <td>위험</td>\n",
       "      <td>1.0</td>\n",
       "      <td>5.0</td>\n",
       "      <td>16.0</td>\n",
       "      <td>6.0</td>\n",
       "    </tr>\n",
       "    <tr>\n",
       "      <th>4408</th>\n",
       "      <td>1</td>\n",
       "      <td>53</td>\n",
       "      <td>위험</td>\n",
       "      <td>1.0</td>\n",
       "      <td>15.0</td>\n",
       "      <td>9.0</td>\n",
       "      <td>7.0</td>\n",
       "    </tr>\n",
       "    <tr>\n",
       "      <th>4409</th>\n",
       "      <td>2</td>\n",
       "      <td>55</td>\n",
       "      <td>위험</td>\n",
       "      <td>1.0</td>\n",
       "      <td>9.0</td>\n",
       "      <td>21.0</td>\n",
       "      <td>8.0</td>\n",
       "    </tr>\n",
       "    <tr>\n",
       "      <th>4410</th>\n",
       "      <td>2</td>\n",
       "      <td>67</td>\n",
       "      <td>위험</td>\n",
       "      <td>1.0</td>\n",
       "      <td>15.0</td>\n",
       "      <td>0.0</td>\n",
       "      <td>9.0</td>\n",
       "    </tr>\n",
       "    <tr>\n",
       "      <th>4411</th>\n",
       "      <td>1</td>\n",
       "      <td>62</td>\n",
       "      <td>위험</td>\n",
       "      <td>1.0</td>\n",
       "      <td>21.0</td>\n",
       "      <td>21.0</td>\n",
       "      <td>6.0</td>\n",
       "    </tr>\n",
       "  </tbody>\n",
       "</table>\n",
       "<p>4400 rows × 7 columns</p>\n",
       "</div>"
      ],
      "text/plain": [
       "      sex  age 위험군_분류  스트레스_인지  PHQ_점수  GAD_점수  주중 수면 시간\n",
       "0       1   66     정상      0.0     0.0     0.0       9.0\n",
       "1       2   62     정상      0.0     0.0     0.0       7.0\n",
       "2       2   61     정상      1.0     0.0     0.0       5.0\n",
       "3       2   22     정상      1.0     3.0     3.0       5.0\n",
       "4       2   53     정상      0.0     0.0     3.0       6.0\n",
       "...   ...  ...    ...      ...     ...     ...       ...\n",
       "4407    1   33     위험      1.0     5.0    16.0       6.0\n",
       "4408    1   53     위험      1.0    15.0     9.0       7.0\n",
       "4409    2   55     위험      1.0     9.0    21.0       8.0\n",
       "4410    2   67     위험      1.0    15.0     0.0       9.0\n",
       "4411    1   62     위험      1.0    21.0    21.0       6.0\n",
       "\n",
       "[4400 rows x 7 columns]"
      ]
     },
     "execution_count": 30,
     "metadata": {},
     "output_type": "execute_result"
    }
   ],
   "source": [
    "# 데이터 결측치 제거\n",
    "md.dropna()\n",
    "md"
   ]
  },
  {
   "cell_type": "code",
   "execution_count": 5,
   "id": "60074e7f",
   "metadata": {},
   "outputs": [
    {
     "ename": "NameError",
     "evalue": "name 'md2' is not defined",
     "output_type": "error",
     "traceback": [
      "\u001b[31m---------------------------------------------------------------------------\u001b[39m",
      "\u001b[31mNameError\u001b[39m                                 Traceback (most recent call last)",
      "\u001b[36mCell\u001b[39m\u001b[36m \u001b[39m\u001b[32mIn[5]\u001b[39m\u001b[32m, line 2\u001b[39m\n\u001b[32m      1\u001b[39m \u001b[38;5;66;03m# 데이터 결측치 제거\u001b[39;00m\n\u001b[32m----> \u001b[39m\u001b[32m2\u001b[39m \u001b[43mmd2\u001b[49m.dropna()\n\u001b[32m      3\u001b[39m md2\n",
      "\u001b[31mNameError\u001b[39m: name 'md2' is not defined"
     ]
    }
   ],
   "source": [
    "# 데이터 결측치 제거\n",
    "md2.dropna()\n",
    "md2"
   ]
  },
  {
   "cell_type": "markdown",
   "id": "4b7e6a25",
   "metadata": {},
   "source": [
    "## 상관관계"
   ]
  },
  {
   "cell_type": "code",
   "execution_count": 6,
   "id": "839bf6d1",
   "metadata": {},
   "outputs": [
    {
     "name": "stdout",
     "output_type": "stream",
     "text": [
      "          주중 수면 시간    PHQ_점수    GAD_점수\n",
      "주중 수면 시간  1.000000 -0.116618 -0.059644\n",
      "PHQ_점수   -0.116618  1.000000  0.474332\n",
      "GAD_점수   -0.059644  0.474332  1.000000\n"
     ]
    },
    {
     "data": {
      "image/png": "[encoded data removed]",
      "text/plain": [
       "<Figure size 640x480 with 2 Axes>"
      ]
     },
     "metadata": {},
     "output_type": "display_data"
    }
   ],
   "source": [
    "# 주중 수면 시간 칼럼과 phq 점수, gad 점수 간의 상관관계\n",
    "corr_md = md[['주중 수면 시간', 'PHQ_점수', 'GAD_점수']].corr(method= 'spearman')\n",
    "print(corr_md)\n",
    "sns.heatmap(corr_md, annot = True, cmap = 'coolwarm')\n",
    "plt.show()"
   ]
  },
  {
   "cell_type": "code",
   "execution_count": 9,
   "id": "f0b0a407",
   "metadata": {},
   "outputs": [
    {
     "ename": "NameError",
     "evalue": "name 'md2' is not defined",
     "output_type": "error",
     "traceback": [
      "\u001b[31m---------------------------------------------------------------------------\u001b[39m",
      "\u001b[31mNameError\u001b[39m                                 Traceback (most recent call last)",
      "\u001b[36mCell\u001b[39m\u001b[36m \u001b[39m\u001b[32mIn[9]\u001b[39m\u001b[32m, line 2\u001b[39m\n\u001b[32m      1\u001b[39m \u001b[38;5;66;03m# 주말 수면 시간 칼럼과 phq 점수, gad 점수 간의 상관관계\u001b[39;00m\n\u001b[32m----> \u001b[39m\u001b[32m2\u001b[39m corr_md2 = \u001b[43mmd2\u001b[49m[[\u001b[33m'\u001b[39m\u001b[33m주말 수면 시간\u001b[39m\u001b[33m'\u001b[39m, \u001b[33m'\u001b[39m\u001b[33mPHQ_점수\u001b[39m\u001b[33m'\u001b[39m, \u001b[33m'\u001b[39m\u001b[33mGAD_점수\u001b[39m\u001b[33m'\u001b[39m]].corr(method= \u001b[33m'\u001b[39m\u001b[33mspearman\u001b[39m\u001b[33m'\u001b[39m)\n\u001b[32m      3\u001b[39m \u001b[38;5;28mprint\u001b[39m(corr_md2)\n\u001b[32m      4\u001b[39m sns.heatmap(corr_md2, annot = \u001b[38;5;28;01mTrue\u001b[39;00m, cmap = \u001b[33m'\u001b[39m\u001b[33mcoolwarm\u001b[39m\u001b[33m'\u001b[39m)\n",
      "\u001b[31mNameError\u001b[39m: name 'md2' is not defined"
     ]
    }
   ],
   "source": [
    "# 주말 수면 시간 칼럼과 phq 점수, gad 점수 간의 상관관계\n",
    "corr_md2 = md2[['주말 수면 시간', 'PHQ_점수', 'GAD_점수']].corr(method= 'spearman')\n",
    "print(corr_md2)\n",
    "sns.heatmap(corr_md2, annot = True, cmap = 'coolwarm')\n",
    "plt.show()"
   ]
  },
  {
   "cell_type": "markdown",
   "id": "a970b25f",
   "metadata": {},
   "source": [
    "## 데이터 시각화"
   ]
  },
  {
   "cell_type": "code",
   "execution_count": 32,
   "id": "e75131fb",
   "metadata": {},
   "outputs": [
    {
     "data": {
      "text/plain": [
       "<Axes: xlabel='위험군_분류', ylabel='주중 수면 시간'>"
      ]
     },
     "execution_count": 32,
     "metadata": {},
     "output_type": "execute_result"
    },
    {
     "data": {
      "image/png": "[encoded data removed]",
      "text/plain": [
       "<Figure size 640x480 with 1 Axes>"
      ]
     },
     "metadata": {},
     "output_type": "display_data"
    }
   ],
   "source": [
    "# 위험군 분류 그룹별 주중 수면 시간 barplot\n",
    "sns.barplot(data = md, x = '위험군_분류', y = '주중 수면 시간')"
   ]
  },
  {
   "cell_type": "markdown",
   "id": "b1996e53",
   "metadata": {},
   "source": [
    "### 막대그래프 분석 (Barplot 기준)\n",
    "- 정상군이 가장 높은 평균 수면시간(약 7시간)을 보임\n",
    "\n",
    "- 중증군은 정상군보다 약간 낮은 수준으로 유사한 평균값을 가짐\n",
    "\n",
    "- 위험군은 평균 수면시간이 약 6시간으로, 정상군보다 1시간 가까이 짧음\n",
    "\n",
    "- 세 집단 간 수면시간 평균 차이가 시각적으로 명확하며, 특히 위험군의 수면시간 저하 경향이 뚜렷하게 나타남\n",
    "\n",
    "- 오차막대도 정상군과 위험군 사이의 겹침이 거의 없거나 미약\n",
    "\n",
    "- 통계적으로도 유의한 차이가 존재할 가능성이 높음"
   ]
  },
  {
   "cell_type": "code",
   "execution_count": 33,
   "id": "f30f2f77",
   "metadata": {},
   "outputs": [
    {
     "data": {
      "text/plain": [
       "<Axes: xlabel='위험군_분류', ylabel='주중 수면 시간'>"
      ]
     },
     "execution_count": 33,
     "metadata": {},
     "output_type": "execute_result"
    },
    {
     "data": {
      "image/png": "[encoded data removed]",
      "text/plain": [
       "<Figure size 640x480 with 1 Axes>"
      ]
     },
     "metadata": {},
     "output_type": "display_data"
    }
   ],
   "source": [
    "# 위험군 분류 그룹별 주중 수면 시간 boxplot\n",
    "sns.boxplot(data = md, x = '위험군_분류', y = '주중 수면 시간')"
   ]
  },
  {
   "cell_type": "markdown",
   "id": "133d6d9b",
   "metadata": {},
   "source": [
    "### Boxplot 분석 \n",
    "- 중앙값 기준으로, 정상군과 중증군은 약 7시간, 위험군은 약 6시간으로 더 낮은 수면시간을 보임 <br>\n",
    "→ 위험군의 중심 경향이 하향 이동되어 있음\n",
    "\n",
    "- 사분위수 범위 (IQR):\n",
    "    - 정상군·중증군: 약 6시간 ~ 8시간\n",
    "    - 위험군: 약 5시간 ~ 7시간\n",
    "\n",
    "    → 위험군의 1사분위(하위 25%) 지점이 5시간으로 더 낮아,  수면 부족에 해당하는 비율이 높은 것으로 해석 가능\n",
    "\n",
    "- 최소~최대값 범위는 세 집단 모두 유사하게 나타나지만, <br> 위험군은 최대 수면시간이 약간 낮고, 전체 분포가 하위 구간에 밀집된 경향을 보임\n",
    "\n",
    "- 전체적으로 위험군의 수면시간 분포는 왼쪽(수면 부족 방향)으로 이동해 있음."
   ]
  },
  {
   "cell_type": "code",
   "execution_count": 34,
   "id": "27a229b7",
   "metadata": {},
   "outputs": [
    {
     "data": {
      "text/html": [
       "<div>\n",
       "<style scoped>\n",
       "    .dataframe tbody tr th:only-of-type {\n",
       "        vertical-align: middle;\n",
       "    }\n",
       "\n",
       "    .dataframe tbody tr th {\n",
       "        vertical-align: top;\n",
       "    }\n",
       "\n",
       "    .dataframe thead th {\n",
       "        text-align: right;\n",
       "    }\n",
       "</style>\n",
       "<table border=\"1\" class=\"dataframe\">\n",
       "  <thead>\n",
       "    <tr style=\"text-align: right;\">\n",
       "      <th></th>\n",
       "      <th>sex</th>\n",
       "      <th>age</th>\n",
       "      <th>위험군_분류</th>\n",
       "      <th>스트레스_인지</th>\n",
       "      <th>PHQ_점수</th>\n",
       "      <th>GAD_점수</th>\n",
       "      <th>주중 수면 시간</th>\n",
       "      <th>수면시간_분류</th>\n",
       "    </tr>\n",
       "  </thead>\n",
       "  <tbody>\n",
       "    <tr>\n",
       "      <th>0</th>\n",
       "      <td>1</td>\n",
       "      <td>66</td>\n",
       "      <td>정상</td>\n",
       "      <td>0.0</td>\n",
       "      <td>0.0</td>\n",
       "      <td>0.0</td>\n",
       "      <td>9.0</td>\n",
       "      <td>과다</td>\n",
       "    </tr>\n",
       "    <tr>\n",
       "      <th>1</th>\n",
       "      <td>2</td>\n",
       "      <td>62</td>\n",
       "      <td>정상</td>\n",
       "      <td>0.0</td>\n",
       "      <td>0.0</td>\n",
       "      <td>0.0</td>\n",
       "      <td>7.0</td>\n",
       "      <td>정상</td>\n",
       "    </tr>\n",
       "    <tr>\n",
       "      <th>2</th>\n",
       "      <td>2</td>\n",
       "      <td>61</td>\n",
       "      <td>정상</td>\n",
       "      <td>1.0</td>\n",
       "      <td>0.0</td>\n",
       "      <td>0.0</td>\n",
       "      <td>5.0</td>\n",
       "      <td>부족</td>\n",
       "    </tr>\n",
       "    <tr>\n",
       "      <th>3</th>\n",
       "      <td>2</td>\n",
       "      <td>22</td>\n",
       "      <td>정상</td>\n",
       "      <td>1.0</td>\n",
       "      <td>3.0</td>\n",
       "      <td>3.0</td>\n",
       "      <td>5.0</td>\n",
       "      <td>부족</td>\n",
       "    </tr>\n",
       "    <tr>\n",
       "      <th>4</th>\n",
       "      <td>2</td>\n",
       "      <td>53</td>\n",
       "      <td>정상</td>\n",
       "      <td>0.0</td>\n",
       "      <td>0.0</td>\n",
       "      <td>3.0</td>\n",
       "      <td>6.0</td>\n",
       "      <td>정상</td>\n",
       "    </tr>\n",
       "  </tbody>\n",
       "</table>\n",
       "</div>"
      ],
      "text/plain": [
       "   sex  age 위험군_분류  스트레스_인지  PHQ_점수  GAD_점수  주중 수면 시간 수면시간_분류\n",
       "0    1   66     정상      0.0     0.0     0.0       9.0      과다\n",
       "1    2   62     정상      0.0     0.0     0.0       7.0      정상\n",
       "2    2   61     정상      1.0     0.0     0.0       5.0      부족\n",
       "3    2   22     정상      1.0     3.0     3.0       5.0      부족\n",
       "4    2   53     정상      0.0     0.0     3.0       6.0      정상"
      ]
     },
     "execution_count": 34,
     "metadata": {},
     "output_type": "execute_result"
    }
   ],
   "source": [
    "# 수면 시간을 기준 구간(3~5, 6~8, 9~11)에 따라 '부족', '정상', '과다'로 범주화시킨 칼럼을 새로 추가\n",
    "sleep_cut = [3, 6, 9, 12]   \n",
    "md.loc[:, '수면시간_분류'] = pd.cut(data['주중 수면 시간'], sleep_cut, labels = ['부족', '정상', '과다'], right = False)\n",
    "md.head(5)"
   ]
  },
  {
   "cell_type": "code",
   "execution_count": 35,
   "id": "89890846",
   "metadata": {},
   "outputs": [
    {
     "data": {
      "text/html": [
       "<div>\n",
       "<style scoped>\n",
       "    .dataframe tbody tr th:only-of-type {\n",
       "        vertical-align: middle;\n",
       "    }\n",
       "\n",
       "    .dataframe tbody tr th {\n",
       "        vertical-align: top;\n",
       "    }\n",
       "\n",
       "    .dataframe thead th {\n",
       "        text-align: right;\n",
       "    }\n",
       "</style>\n",
       "<table border=\"1\" class=\"dataframe\">\n",
       "  <thead>\n",
       "    <tr style=\"text-align: right;\">\n",
       "      <th>수면시간_분류</th>\n",
       "      <th>부족</th>\n",
       "      <th>정상</th>\n",
       "      <th>과다</th>\n",
       "    </tr>\n",
       "    <tr>\n",
       "      <th>위험군_분류</th>\n",
       "      <th></th>\n",
       "      <th></th>\n",
       "      <th></th>\n",
       "    </tr>\n",
       "  </thead>\n",
       "  <tbody>\n",
       "    <tr>\n",
       "      <th>위험</th>\n",
       "      <td>33.9</td>\n",
       "      <td>55.4</td>\n",
       "      <td>10.7</td>\n",
       "    </tr>\n",
       "    <tr>\n",
       "      <th>정상</th>\n",
       "      <td>13.5</td>\n",
       "      <td>81.0</td>\n",
       "      <td>5.5</td>\n",
       "    </tr>\n",
       "    <tr>\n",
       "      <th>중증</th>\n",
       "      <td>23.2</td>\n",
       "      <td>70.3</td>\n",
       "      <td>6.5</td>\n",
       "    </tr>\n",
       "  </tbody>\n",
       "</table>\n",
       "</div>"
      ],
      "text/plain": [
       "수면시간_분류    부족    정상    과다\n",
       "위험군_분류                   \n",
       "위험       33.9  55.4  10.7\n",
       "정상       13.5  81.0   5.5\n",
       "중증       23.2  70.3   6.5"
      ]
     },
     "execution_count": 35,
     "metadata": {},
     "output_type": "execute_result"
    }
   ],
   "source": [
    "# 위험군_분류별 수면시간_분류 비율(%) 계산\n",
    "ct_ratio = pd.crosstab(md['위험군_분류'], md['수면시간_분류'], normalize= 'index').round(3) * 100\n",
    "ct_ratio\n"
   ]
  },
  {
   "cell_type": "code",
   "execution_count": 36,
   "id": "76446304",
   "metadata": {},
   "outputs": [
    {
     "data": {
      "text/plain": [
       "<Axes: xlabel='위험군_분류', ylabel='비율'>"
      ]
     },
     "execution_count": 36,
     "metadata": {},
     "output_type": "execute_result"
    },
    {
     "data": {
      "image/png": "[encoded data removed]",
      "text/plain": [
       "<Figure size 640x480 with 1 Axes>"
      ]
     },
     "metadata": {},
     "output_type": "display_data"
    }
   ],
   "source": [
    "# 교차표 데이터를 .melt 함수로 재구조화 후 비율 시각화\n",
    "ct_ratio = ct_ratio.reset_index().melt(id_vars='위험군_분류', var_name='수면시간_분류', value_name='비율')\n",
    "sns.barplot(data=ct_ratio, x='위험군_분류', y='비율', hue='수면시간_분류')"
   ]
  },
  {
   "cell_type": "markdown",
   "id": "3ca006e4",
   "metadata": {},
   "source": [
    "### Barplot 분석 – 정신건강 위험군 분류별 수면시간 비율 분포\n",
    "- 정상 수면 비율(6~9시간 기준)은 정상군이 약 80%로 가장 높고, 중증군은 약 70%, 위험군은 약 56%로 나타남.\n",
    "\n",
    "→ 정신건강 상태가 나쁠수록 정상 수면 비율이 점진적으로 낮아지는 경향이 뚜렷하게 드러남.\n",
    "\n",
    "- 수면 부족(3~6시간) 비율은 위험군이 약 34%로 가장 높고, 중증군은 약 24%, 정상군은 약 14% 수준임.\n",
    "\n",
    "→ 위험군은 수면 부족 비율이 정상군의 약 2.5배 수준으로 매우 높아,\n",
    "정신건강 위험이 높을수록 수면 부족 상태에 처할 가능성이 크다는 점을 시각적으로 보여줌.\n",
    "\n",
    "- 과다 수면(9시간 이상) 비율은 전체적으로 낮으며(5~10% 수준), 집단 간 차이가 크지 않음.\n",
    "\n",
    "→ 수면시간에서 드러나는 주요 차이는 ‘부족’과 ‘정상’ 구간의 비율 차이에 집중됨.\n",
    "\n",
    "- 전반적으로, 정신건강이 악화될수록 수면시간이 부족해지는 방향으로 비율이 이동하며, 정상적인 수면패턴을 유지하는 비율이 감소하는 양상이 뚜렷하게 관찰된다."
   ]
  },
  {
   "cell_type": "markdown",
   "id": "018d4dfe",
   "metadata": {},
   "source": [
    "## 샘플 추출"
   ]
  },
  {
   "cell_type": "markdown",
   "id": "d0a55c56",
   "metadata": {},
   "source": [
    "그래프 시각화와 카이제곱 가설검정의 공정한 비교를 위해,\n",
    "세 집단(정상, 중증, 위험)의 표본 수를 동일하게 맞추어 샘플을 추출함"
   ]
  },
  {
   "cell_type": "code",
   "execution_count": 37,
   "id": "a68f4a92",
   "metadata": {},
   "outputs": [],
   "source": [
    "# '위험' 그룹의 표본 수를 기준으로 '정상' 및 '중증' 그룹에서 동일한 수만큼 무작위 추출\n",
    "normal = md[md['위험군_분류'] == '정상']\n",
    "mid = md[md['위험군_분류'] == '중증']\n",
    "risk = md[md['위험군_분류'] == '위험']\n",
    "\n",
    "n = len(risk)\n",
    "\n",
    "sample_n = normal.sample(n = n, replace= False, random_state= 42)\n",
    "sample_m = mid.sample(n = n, replace= False, random_state= 42)\n",
    "\n",
    "sample = pd.concat([sample_n, sample_m, risk])"
   ]
  },
  {
   "cell_type": "code",
   "execution_count": 38,
   "id": "adc154a6",
   "metadata": {},
   "outputs": [
    {
     "data": {
      "text/plain": [
       "<Axes: xlabel='위험군_분류', ylabel='주중 수면 시간'>"
      ]
     },
     "execution_count": 38,
     "metadata": {},
     "output_type": "execute_result"
    },
    {
     "data": {
      "image/png": "[encoded data removed]",
      "text/plain": [
       "<Figure size 640x480 with 1 Axes>"
      ]
     },
     "metadata": {},
     "output_type": "display_data"
    }
   ],
   "source": [
    "sns.stripplot(data = sample, x='위험군_분류', y='주중 수면 시간')"
   ]
  },
  {
   "cell_type": "code",
   "execution_count": 39,
   "id": "5d2c4f95",
   "metadata": {},
   "outputs": [
    {
     "name": "stderr",
     "output_type": "stream",
     "text": [
      "/Users/idowon/Library/Mobile Documents/com~apple~CloudDocs/Study/2025-school/2025-data-literacy/.venv/lib/python3.11/site-packages/seaborn/categorical.py:3399: UserWarning: 17.4% of the points cannot be placed; you may want to decrease the size of the markers or use stripplot.\n",
      "  warnings.warn(msg, UserWarning)\n",
      "/Users/idowon/Library/Mobile Documents/com~apple~CloudDocs/Study/2025-school/2025-data-literacy/.venv/lib/python3.11/site-packages/seaborn/categorical.py:3399: UserWarning: 9.9% of the points cannot be placed; you may want to decrease the size of the markers or use stripplot.\n",
      "  warnings.warn(msg, UserWarning)\n"
     ]
    },
    {
     "data": {
      "text/plain": [
       "<Axes: xlabel='위험군_분류', ylabel='주중 수면 시간'>"
      ]
     },
     "execution_count": 39,
     "metadata": {},
     "output_type": "execute_result"
    },
    {
     "name": "stderr",
     "output_type": "stream",
     "text": [
      "/Users/idowon/Library/Mobile Documents/com~apple~CloudDocs/Study/2025-school/2025-data-literacy/.venv/lib/python3.11/site-packages/seaborn/categorical.py:3399: UserWarning: 32.2% of the points cannot be placed; you may want to decrease the size of the markers or use stripplot.\n",
      "  warnings.warn(msg, UserWarning)\n",
      "/Users/idowon/Library/Mobile Documents/com~apple~CloudDocs/Study/2025-school/2025-data-literacy/.venv/lib/python3.11/site-packages/seaborn/categorical.py:3399: UserWarning: 24.8% of the points cannot be placed; you may want to decrease the size of the markers or use stripplot.\n",
      "  warnings.warn(msg, UserWarning)\n",
      "/Users/idowon/Library/Mobile Documents/com~apple~CloudDocs/Study/2025-school/2025-data-literacy/.venv/lib/python3.11/site-packages/seaborn/categorical.py:3399: UserWarning: 14.9% of the points cannot be placed; you may want to decrease the size of the markers or use stripplot.\n",
      "  warnings.warn(msg, UserWarning)\n"
     ]
    },
    {
     "data": {
      "image/png": "[encoded data removed]",
      "text/plain": [
       "<Figure size 640x480 with 1 Axes>"
      ]
     },
     "metadata": {},
     "output_type": "display_data"
    }
   ],
   "source": [
    "sns.swarmplot(data = sample, x='위험군_분류', y='주중 수면 시간')"
   ]
  },
  {
   "cell_type": "markdown",
   "id": "0987ee52",
   "metadata": {},
   "source": [
    "### Swarmplot / Stripplot 분석\n",
    "- 정상군은 7시간대에 수면시간이 집중되어 있고, 위험군은 5~6시간대에 밀집되어 수면시간이 더 짧은 경향을 보임\n",
    "- 위험군은 수면 부족(3~5시간) 비율이 높고, 전체 분포가 하단으로 치우쳐 있음\n",
    "- 정신건강이 악화될수록 수면시간이 줄어드는 경향이 시각적으로도 명확히 드러남"
   ]
  },
  {
   "cell_type": "markdown",
   "id": "e7a9ec9f",
   "metadata": {},
   "source": [
    "## 가설검정"
   ]
  },
  {
   "cell_type": "code",
   "execution_count": 40,
   "id": "445d44b6",
   "metadata": {},
   "outputs": [
    {
     "name": "stdout",
     "output_type": "stream",
     "text": [
      "수면시간_분류   부족    정상   과다\n",
      "위험군_분류                 \n",
      "위험        41    67   13\n",
      "정상       545  3265  223\n",
      "중증        57   173   16\n",
      "\n",
      "Chi2 통계량: 64.770\n",
      "p-value: 0.0000\n",
      "자유도: 4\n"
     ]
    }
   ],
   "source": [
    "# 위험군 분류와 수면시간 분류 간의 독립성 여부를 카이제곱 검정으로 확인(원본)\n",
    "ct = pd.crosstab(md['위험군_분류'], md['수면시간_분류'])\n",
    "chi2, p, dof, expected = sp.stats.chi2_contingency(ct)\n",
    "print(ct, end= '\\n\\n')\n",
    "print(f\"Chi2 통계량: {chi2:.3f}\")\n",
    "print(f\"p-value: {p:.4f}\")\n",
    "print(f\"자유도: {dof}\")"
   ]
  },
  {
   "cell_type": "markdown",
   "id": "8d64626b",
   "metadata": {},
   "source": [
    "### 가설검정 결과(카이제곱) : 원본\n",
    "- 가설 설정 <br>\n",
    "귀무가설(H₀): 정신건강 위험군 분류와 수면시간 분류는 서로 독립적이다 (즉, 관계가 없다). <br>\n",
    "대립가설(H₁): 정신건강 위험군 분류와 수면시간 분류는 독립적이지 않다 (즉, 관계가 있다).\n",
    "\n",
    "- 검정 결과 <br>\n",
    "Chi² 통계량: 64.770<br>\n",
    "p-value: < 0.0001<br>\n",
    "자유도(df): 4\n",
    "\n",
    "- 결론<br>\n",
    "유의수준 0.05에서 p-value가 매우 작기 때문에, 귀무가설을 기각한다.<br>\n",
    "따라서, 정신건강 위험군과 수면시간 분포 간에는 통계적으로 유의한 관계가 있음을 확인할 수 있다.\n"
   ]
  },
  {
   "cell_type": "code",
   "execution_count": 41,
   "id": "7915e406",
   "metadata": {},
   "outputs": [
    {
     "name": "stdout",
     "output_type": "stream",
     "text": [
      "[샘플 기반 카이제곱 검정]\n",
      "Chi² 통계량: 23.980\n",
      "p-value: 0.0001\n",
      "자유도: 4\n"
     ]
    }
   ],
   "source": [
    "# 위험군 분류와 수면시간 분류 간의 독립성 여부를 카이제곱 검정으로 확인(샘플)\n",
    "ct_s = pd.crosstab(sample['위험군_분류'], sample['수면시간_분류'])\n",
    "chi2, p, dof, expected = sp.stats.chi2_contingency(ct_s)\n",
    "\n",
    "print(f\"[샘플 기반 카이제곱 검정]\")\n",
    "print(f\"Chi² 통계량: {chi2:.3f}\")\n",
    "print(f\"p-value: {p:.4f}\")\n",
    "print(f\"자유도: {dof}\")"
   ]
  },
  {
   "cell_type": "markdown",
   "id": "aca8c85f",
   "metadata": {},
   "source": [
    "### 가설검정 결과(카이제곱) : 샘플 \n",
    "- 가설 설정 <br>\n",
    "귀무가설(H₀): 정신건강 위험군 분류와 수면시간 분류는 독립적이다.<br>\n",
    "대립가설(H₁): 정신건강 위험군 분류와 수면시간 분류는 독립적이지 않다 (즉, 관련이 있다).<br>\n",
    "\n",
    "- 검정 결과 해석<br>\n",
    "p-value = 0.0001 < 0.05 이므로 귀무가설은 기각된다.<br>\n",
    "따라서, 정신건강 위험군 분류와 수면시간 분포 간에는 통계적으로 유의한 관계가 있음을 확인할 수 있다.<br>\n",
    "세 그룹 모두 동일한 표본 수(n)로 통제된 상황에서도 유의미한 차이가 유지되므로, 이 관계는 단순한 표본 수 차이에 의한 것이 아님을 보여준다."
   ]
  },
  {
   "cell_type": "code",
   "execution_count": 42,
   "id": "d71b422c",
   "metadata": {},
   "outputs": [
    {
     "name": "stdout",
     "output_type": "stream",
     "text": [
      "F 통계량: 10.317\n",
      "p-value: 0.0000\n"
     ]
    }
   ],
   "source": [
    "# 위험군 분류에 따라 수면시간 평균이 유의하게 다른지 ANOVA(일원분산분석)로 검정(원본)\n",
    "s_n = md[md['위험군_분류'] == '정상']['주중 수면 시간']\n",
    "s_m = md[md['위험군_분류'] == '중증']['주중 수면 시간']\n",
    "s_r = md[md['위험군_분류'] == '위험']['주중 수면 시간']\n",
    "\n",
    "f_stat, p = stats.f_oneway(s_n, s_m, s_r)\n",
    "print(f\"F 통계량: {f_stat:.3f}\")\n",
    "print(f\"p-value: {p:.4f}\")"
   ]
  },
  {
   "cell_type": "markdown",
   "id": "25c13fd5",
   "metadata": {},
   "source": [
    "### 가설 검정 결과(anova) - 원본\n",
    "- 가설 설정<br>\n",
    "귀무가설(H₀): 정신건강 위험군 분류에 따라 주중 수면시간 평균은 차이가 없다<br>\n",
    "대립가설(H₁): 적어도 하나의 군에서 수면시간 평균이 다르다\n",
    "\n",
    "- 분석 결과<br>\n",
    "F 통계량: 10.317<br>\n",
    "p-value: < 0.0001 (매우 유의함)\n",
    "\n",
    "- 해석 <br>\n",
    "ANOVA 결과, 정신건강 위험군(정상, 중증, 위험) 간 주중 수면시간 평균에 통계적으로 유의한 차이가 있는 것으로 나타났다 (F = 10.317, p < 0.001).\n",
    "이는 적어도 한 그룹 이상에서 수면시간 평균이 다른 집단과 유의하게 다르다는 증거로 해석된다."
   ]
  },
  {
   "cell_type": "code",
   "execution_count": 43,
   "id": "0f2b0f96",
   "metadata": {},
   "outputs": [
    {
     "data": {
      "text/html": [
       "<table class=\"simpletable\">\n",
       "<caption>Multiple Comparison of Means - Tukey HSD, FWER=0.05</caption>\n",
       "<tr>\n",
       "  <th>group1</th> <th>group2</th> <th>meandiff</th>  <th>p-adj</th>  <th>lower</th>   <th>upper</th> <th>reject</th>\n",
       "</tr>\n",
       "<tr>\n",
       "    <td>위험</td>     <td>정상</td>     <td>0.468</td>  <td>0.0002</td> <td>0.1951</td>  <td>0.7409</td>  <td>True</td> \n",
       "</tr>\n",
       "<tr>\n",
       "    <td>위험</td>     <td>중증</td>    <td>0.2794</td>  <td>0.1135</td> <td>-0.0489</td> <td>0.6078</td>  <td>False</td>\n",
       "</tr>\n",
       "<tr>\n",
       "    <td>정상</td>     <td>중증</td>    <td>-0.1886</td> <td>0.0593</td> <td>-0.3828</td> <td>0.0057</td>  <td>False</td>\n",
       "</tr>\n",
       "</table>"
      ],
      "text/latex": [
       "\\begin{center}\n",
       "\\begin{tabular}{ccccccc}\n",
       "\\toprule\n",
       "\\textbf{group1} & \\textbf{group2} & \\textbf{meandiff} & \\textbf{p-adj} & \\textbf{lower} & \\textbf{upper} & \\textbf{reject}  \\\\\n",
       "\\midrule\n",
       "       위험       &        정상       &       0.468       &     0.0002     &     0.1951     &     0.7409     &       True       \\\\\n",
       "       위험       &        중증       &       0.2794      &     0.1135     &    -0.0489     &     0.6078     &      False       \\\\\n",
       "       정상       &        중증       &      -0.1886      &     0.0593     &    -0.3828     &     0.0057     &      False       \\\\\n",
       "\\bottomrule\n",
       "\\end{tabular}\n",
       "%\\caption{Multiple Comparison of Means - Tukey HSD, FWER=0.05}\n",
       "\\end{center}"
      ],
      "text/plain": [
       "<class 'statsmodels.iolib.table.SimpleTable'>"
      ]
     },
     "execution_count": 43,
     "metadata": {},
     "output_type": "execute_result"
    }
   ],
   "source": [
    "# ANOVA에서 유의미한 차이가 있을 경우, 그룹 간 평균 차이를 확인하기 위한 Tukey 사후검정 수행(원본)\n",
    "posthoc = pairwise_tukeyhsd(md['주중 수면 시간'], md['위험군_분류'], alpha=0.05)\n",
    "posthoc.summary()"
   ]
  },
  {
   "cell_type": "markdown",
   "id": "ffc0defe",
   "metadata": {},
   "source": [
    "### Tukey’s HSD Test 결과 분석 - 원본\n",
    "Tukey의 사후검정 결과, 위험군과 정상군 사이에서는 주중 수면시간 평균에 유의한 차이가 있는 것으로 나타났다(p = 0.0002).<br>\n",
    "반면, 위험군 vs 중증군, 정상군 vs 중증군 간에는 통계적으로 유의한 차이가 관찰되지 않았다(p > 0.05).<br>\n",
    "\n",
    "즉, 정신건강이 가장 악화된 ‘위험군’은 ‘정상군’보다 평균 수면시간이 유의하게 짧거나 다르게 나타날 가능성이 높으며,<br>\n",
    "중증군은 양쪽과 모두 유의미한 차이를 보이지 않아 중간적 특성을 가진 것으로 해석될 수 있다.<br>"
   ]
  },
  {
   "cell_type": "code",
   "execution_count": 44,
   "id": "5e49562c",
   "metadata": {},
   "outputs": [
    {
     "name": "stdout",
     "output_type": "stream",
     "text": [
      "F 통계량: 5.801\n",
      "p-value: 0.0033\n"
     ]
    }
   ],
   "source": [
    "# 위험군 분류에 따라 수면시간 평균이 유의하게 다른지 ANOVA(일원분산분석)로 검정(샘플)\n",
    "ss_n = sample[sample['위험군_분류'] == '정상']['주중 수면 시간']\n",
    "ss_m = sample[sample['위험군_분류'] == '중증']['주중 수면 시간']\n",
    "ss_r = sample[sample['위험군_분류'] == '위험']['주중 수면 시간']\n",
    "\n",
    "f_stat, p = stats.f_oneway(ss_n, ss_m, ss_r)\n",
    "print(f\"F 통계량: {f_stat:.3f}\")\n",
    "print(f\"p-value: {p:.4f}\")"
   ]
  },
  {
   "cell_type": "markdown",
   "id": "408f2db7",
   "metadata": {},
   "source": [
    "### ANOVA 결과\n",
    "표본 수를 위험군에 맞춰 균형 있게 샘플링한 후 수행한 일원분산분석(ANOVA) 결과, <br>\n",
    "정신건강 위험군 분류에 따라 주중 수면시간 평균에 통계적으로 유의한 차이가 있는 것으로 나타났다 (F = 5.801, p = 0.0033). <br>\n",
    "이는 정신건강 상태가 수면시간과 연관이 있을 가능성을 뒷받침하며, 표본 수의 영향을 제거한 상태에서도 관계가 유의하게 유지됨을 의미한다."
   ]
  },
  {
   "cell_type": "code",
   "execution_count": 45,
   "id": "5f8fa879",
   "metadata": {},
   "outputs": [
    {
     "data": {
      "text/html": [
       "<table class=\"simpletable\">\n",
       "<caption>Multiple Comparison of Means - Tukey HSD, FWER=0.05</caption>\n",
       "<tr>\n",
       "  <th>group1</th> <th>group2</th> <th>meandiff</th>  <th>p-adj</th>  <th>lower</th>   <th>upper</th> <th>reject</th>\n",
       "</tr>\n",
       "<tr>\n",
       "    <td>위험</td>     <td>정상</td>    <td>0.6529</td>  <td>0.0027</td> <td>0.1918</td>   <td>1.114</td>  <td>True</td> \n",
       "</tr>\n",
       "<tr>\n",
       "    <td>위험</td>     <td>중증</td>    <td>0.2066</td>   <td>0.543</td> <td>-0.2545</td> <td>0.6677</td>  <td>False</td>\n",
       "</tr>\n",
       "<tr>\n",
       "    <td>정상</td>     <td>중증</td>    <td>-0.4463</td> <td>0.0602</td> <td>-0.9074</td> <td>0.0148</td>  <td>False</td>\n",
       "</tr>\n",
       "</table>"
      ],
      "text/latex": [
       "\\begin{center}\n",
       "\\begin{tabular}{ccccccc}\n",
       "\\toprule\n",
       "\\textbf{group1} & \\textbf{group2} & \\textbf{meandiff} & \\textbf{p-adj} & \\textbf{lower} & \\textbf{upper} & \\textbf{reject}  \\\\\n",
       "\\midrule\n",
       "       위험       &        정상       &       0.6529      &     0.0027     &     0.1918     &     1.114      &       True       \\\\\n",
       "       위험       &        중증       &       0.2066      &     0.543      &    -0.2545     &     0.6677     &      False       \\\\\n",
       "       정상       &        중증       &      -0.4463      &     0.0602     &    -0.9074     &     0.0148     &      False       \\\\\n",
       "\\bottomrule\n",
       "\\end{tabular}\n",
       "%\\caption{Multiple Comparison of Means - Tukey HSD, FWER=0.05}\n",
       "\\end{center}"
      ],
      "text/plain": [
       "<class 'statsmodels.iolib.table.SimpleTable'>"
      ]
     },
     "execution_count": 45,
     "metadata": {},
     "output_type": "execute_result"
    }
   ],
   "source": [
    "# ANOVA에서 유의미한 차이가 있을 경우, 그룹 간 평균 차이를 확인하기 위한 Tukey 사후검정 수행(샘플)\n",
    "posthoc = pairwise_tukeyhsd(sample['주중 수면 시간'], sample['위험군_분류'], alpha=0.05)\n",
    "posthoc.summary()"
   ]
  },
  {
   "cell_type": "markdown",
   "id": "8d65f169",
   "metadata": {},
   "source": [
    "### Tukey’s HSD Test 결과 분석 – 샘플\n",
    "Tukey의 사후검정 결과, 위험군과 정상군 사이에서는 주중 수면시간 평균에 유의한 차이가 있는 것으로 나타났다(p = 0.0027).<br>\n",
    "반면, 위험군 vs 중증군, 정상군 vs 중증군 간에는 통계적으로 유의한 차이가 관찰되지 않았다(p > 0.05).<br>\n",
    "\n",
    "즉, 정신건강이 가장 악화된 ‘위험군’은 ‘정상군’보다 평균 수면시간이 유의하게 짧거나 다르게 나타날 가능성이 높으며,<br>\n",
    "중증군은 양쪽과 모두 유의미한 차이를 보이지 않아 중간적 특성을 가진 것으로 해석될 수 있다."
   ]
  },
  {
   "cell_type": "markdown",
   "id": "6270c597",
   "metadata": {},
   "source": [
    "### 스트레스 인지 정도와 수면시간과의 관계"
   ]
  },
  {
   "cell_type": "code",
   "execution_count": 46,
   "id": "3c971bfa",
   "metadata": {},
   "outputs": [
    {
     "data": {
      "text/html": [
       "<div>\n",
       "<style scoped>\n",
       "    .dataframe tbody tr th:only-of-type {\n",
       "        vertical-align: middle;\n",
       "    }\n",
       "\n",
       "    .dataframe tbody tr th {\n",
       "        vertical-align: top;\n",
       "    }\n",
       "\n",
       "    .dataframe thead th {\n",
       "        text-align: right;\n",
       "    }\n",
       "</style>\n",
       "<table border=\"1\" class=\"dataframe\">\n",
       "  <thead>\n",
       "    <tr style=\"text-align: right;\">\n",
       "      <th>주중 수면 시간</th>\n",
       "      <th>3.0</th>\n",
       "      <th>4.0</th>\n",
       "      <th>5.0</th>\n",
       "      <th>6.0</th>\n",
       "      <th>7.0</th>\n",
       "      <th>8.0</th>\n",
       "      <th>9.0</th>\n",
       "      <th>10.0</th>\n",
       "      <th>11.0</th>\n",
       "    </tr>\n",
       "    <tr>\n",
       "      <th>스트레스_인지</th>\n",
       "      <th></th>\n",
       "      <th></th>\n",
       "      <th></th>\n",
       "      <th></th>\n",
       "      <th></th>\n",
       "      <th></th>\n",
       "      <th></th>\n",
       "      <th></th>\n",
       "      <th></th>\n",
       "    </tr>\n",
       "  </thead>\n",
       "  <tbody>\n",
       "    <tr>\n",
       "      <th>0.0</th>\n",
       "      <td>24</td>\n",
       "      <td>102</td>\n",
       "      <td>344</td>\n",
       "      <td>882</td>\n",
       "      <td>1100</td>\n",
       "      <td>816</td>\n",
       "      <td>144</td>\n",
       "      <td>49</td>\n",
       "      <td>3</td>\n",
       "    </tr>\n",
       "    <tr>\n",
       "      <th>1.0</th>\n",
       "      <td>12</td>\n",
       "      <td>38</td>\n",
       "      <td>123</td>\n",
       "      <td>276</td>\n",
       "      <td>235</td>\n",
       "      <td>194</td>\n",
       "      <td>34</td>\n",
       "      <td>20</td>\n",
       "      <td>2</td>\n",
       "    </tr>\n",
       "  </tbody>\n",
       "</table>\n",
       "</div>"
      ],
      "text/plain": [
       "주중 수면 시간  3.0   4.0   5.0   6.0   7.0   8.0   9.0   10.0  11.0\n",
       "스트레스_인지                                                       \n",
       "0.0         24   102   344   882  1100   816   144    49     3\n",
       "1.0         12    38   123   276   235   194    34    20     2"
      ]
     },
     "execution_count": 46,
     "metadata": {},
     "output_type": "execute_result"
    }
   ],
   "source": [
    "cross_md = pd.crosstab(md['스트레스_인지'], md['주중 수면 시간'])\n",
    "cross_md"
   ]
  },
  {
   "cell_type": "code",
   "execution_count": 47,
   "id": "233b5c95",
   "metadata": {},
   "outputs": [
    {
     "data": {
      "text/plain": [
       "Chi2ContingencyResult(statistic=np.float64(35.04435137665491), pvalue=np.float64(2.6245643117221878e-05), dof=8, expected_freq=array([[  28.355,  110.268,  367.824,  912.076, 1051.487,  795.507,\n",
       "         140.198,   54.347,    3.938],\n",
       "       [   7.645,   29.732,   99.176,  245.924,  283.513,  214.493,\n",
       "          37.802,   14.653,    1.062]]))"
      ]
     },
     "execution_count": 47,
     "metadata": {},
     "output_type": "execute_result"
    }
   ],
   "source": [
    "sp.stats.chi2_contingency(cross_md, correction = False)"
   ]
  },
  {
   "cell_type": "code",
   "execution_count": 7,
   "id": "33d16c04",
   "metadata": {},
   "outputs": [
    {
     "data": {
      "text/plain": [
       "Chi2ContingencyResult(statistic=np.float64(1.6850725408862406), pvalue=np.float64(0.6402575952579355), dof=3, expected_freq=array([[ 508.727,  825.482, 1079.845,  375.946],\n",
       "       [ 127.273,  206.518,  270.155,   94.054]]))"
      ]
     },
     "execution_count": 7,
     "metadata": {},
     "output_type": "execute_result"
    }
   ],
   "source": [
    "cross_md2 = pd.crosstab(md2['스트레스_인지'], md2['주말 수면 시간'])\n",
    "cross_md2\n",
    "sp.stats.chi2_contingency(cross_md2, correction = False)"
   ]
  },
  {
   "cell_type": "markdown",
   "id": "b7d2b4d5",
   "metadata": {},
   "source": [
    "H0: 주중 수면 시간과 스트레스 정도는 독립적이다(상관성이 없다).<br>\n",
    "H1: 주중 수면 시간과 스트레스 정도는 독립적이지 않다(상관성이 있다).\n",
    "\n",
    "χ²(카이제곱 통계량): 35.044이고, p-value가 0.0000262로 일반적인 유의수준 0.05보다 작기 때문에 귀무가설(H0)을 기각한다.<br>\n",
    "즉, 주중 수면 시간과 스트레스 정도는 독립적이지 않다고 할 수 있다. 상관성이 있다고 해석할 수 있다."
   ]
  },
  {
   "cell_type": "markdown",
   "id": "2f6e2caf",
   "metadata": {},
   "source": [
    "- 참고  \n",
    "https://mechurak.github.io/2023-10-14_pandas_value-counts/  <br>\n",
    "https://docs.kanaries.net/ko/topics/Pandas/pandas-crosstab <br>\n",
    "https://rfriend.tistory.com/278"
   ]
  }
 ],
 "metadata": {
  "kernelspec": {
   "display_name": ".venv",
   "language": "python",
   "name": "python3"
  },
  "language_info": {
   "codemirror_mode": {
    "name": "ipython",
    "version": 3
   },
   "file_extension": ".py",
   "mimetype": "text/x-python",
   "name": "python",
   "nbconvert_exporter": "python",
   "pygments_lexer": "ipython3",
   "version": "3.11.11"
  }
 },
 "nbformat": 4,
 "nbformat_minor": 5
}
