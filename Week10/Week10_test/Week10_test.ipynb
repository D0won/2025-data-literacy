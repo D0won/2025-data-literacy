{
 "cells": [
  {
   "cell_type": "markdown",
   "metadata": {},
   "source": [
    "# 12주차 실습문제 - 분산분석과 사후검정\n",
    "\n",
    "제출시 HTML(.html) 형식으로 다운로드한 뒤, 올려주세요."
   ]
  },
  {
   "cell_type": "markdown",
   "metadata": {},
   "source": [
    "***"
   ]
  },
  {
   "cell_type": "code",
   "execution_count": 34,
   "metadata": {},
   "outputs": [],
   "source": [
    "# 아래의 라이브러리를 사용하므로 미리 임포트해 두기 바랍니다.\n",
    "import numpy as np\n",
    "import numpy.random as random\n",
    "import scipy as sp\n",
    "import scipy.stats as stats\n",
    "import pandas as pd\n",
    "from pandas import Series, DataFrame\n",
    "\n",
    "import statsmodels.formula.api as smf\n",
    "import statsmodels.api as sm\n",
    "\n",
    "# 시각화 라이브러리\n",
    "import matplotlib.pyplot as plt\n",
    "import matplotlib as mpl\n",
    "mpl.rc('font',family='Malgun Gothic')  # 한글폰트 설정 \"맑은 고딕\"\n",
    "import seaborn as sns\n",
    "%matplotlib inline\n",
    "\n",
    "# 소수점 3자리까지 표시\n",
    "%precision 3\n",
    "\n",
    "data = pd.read_csv('health2018.csv')"
   ]
  },
  {
   "cell_type": "code",
   "execution_count": 35,
   "metadata": {},
   "outputs": [
    {
     "data": {
      "text/html": [
       "<div>\n",
       "<style scoped>\n",
       "    .dataframe tbody tr th:only-of-type {\n",
       "        vertical-align: middle;\n",
       "    }\n",
       "\n",
       "    .dataframe tbody tr th {\n",
       "        vertical-align: top;\n",
       "    }\n",
       "\n",
       "    .dataframe thead th {\n",
       "        text-align: right;\n",
       "    }\n",
       "</style>\n",
       "<table border=\"1\" class=\"dataframe\">\n",
       "  <thead>\n",
       "    <tr style=\"text-align: right;\">\n",
       "      <th></th>\n",
       "      <th>sepal_length</th>\n",
       "      <th>sepal_width</th>\n",
       "      <th>petal_length</th>\n",
       "      <th>petal_width</th>\n",
       "      <th>species</th>\n",
       "    </tr>\n",
       "  </thead>\n",
       "  <tbody>\n",
       "    <tr>\n",
       "      <th>0</th>\n",
       "      <td>5.1</td>\n",
       "      <td>3.5</td>\n",
       "      <td>1.4</td>\n",
       "      <td>0.2</td>\n",
       "      <td>setosa</td>\n",
       "    </tr>\n",
       "    <tr>\n",
       "      <th>2</th>\n",
       "      <td>4.7</td>\n",
       "      <td>3.2</td>\n",
       "      <td>1.3</td>\n",
       "      <td>0.2</td>\n",
       "      <td>setosa</td>\n",
       "    </tr>\n",
       "    <tr>\n",
       "      <th>4</th>\n",
       "      <td>5.0</td>\n",
       "      <td>3.6</td>\n",
       "      <td>1.4</td>\n",
       "      <td>0.2</td>\n",
       "      <td>setosa</td>\n",
       "    </tr>\n",
       "    <tr>\n",
       "      <th>6</th>\n",
       "      <td>4.6</td>\n",
       "      <td>3.4</td>\n",
       "      <td>1.4</td>\n",
       "      <td>0.3</td>\n",
       "      <td>setosa</td>\n",
       "    </tr>\n",
       "    <tr>\n",
       "      <th>8</th>\n",
       "      <td>4.4</td>\n",
       "      <td>2.9</td>\n",
       "      <td>1.4</td>\n",
       "      <td>0.2</td>\n",
       "      <td>setosa</td>\n",
       "    </tr>\n",
       "    <tr>\n",
       "      <th>...</th>\n",
       "      <td>...</td>\n",
       "      <td>...</td>\n",
       "      <td>...</td>\n",
       "      <td>...</td>\n",
       "      <td>...</td>\n",
       "    </tr>\n",
       "    <tr>\n",
       "      <th>140</th>\n",
       "      <td>6.7</td>\n",
       "      <td>3.1</td>\n",
       "      <td>5.6</td>\n",
       "      <td>2.4</td>\n",
       "      <td>virginica</td>\n",
       "    </tr>\n",
       "    <tr>\n",
       "      <th>142</th>\n",
       "      <td>5.8</td>\n",
       "      <td>2.7</td>\n",
       "      <td>5.1</td>\n",
       "      <td>1.9</td>\n",
       "      <td>virginica</td>\n",
       "    </tr>\n",
       "    <tr>\n",
       "      <th>144</th>\n",
       "      <td>6.7</td>\n",
       "      <td>3.3</td>\n",
       "      <td>5.7</td>\n",
       "      <td>2.5</td>\n",
       "      <td>virginica</td>\n",
       "    </tr>\n",
       "    <tr>\n",
       "      <th>146</th>\n",
       "      <td>6.3</td>\n",
       "      <td>2.5</td>\n",
       "      <td>5.0</td>\n",
       "      <td>1.9</td>\n",
       "      <td>virginica</td>\n",
       "    </tr>\n",
       "    <tr>\n",
       "      <th>148</th>\n",
       "      <td>6.2</td>\n",
       "      <td>3.4</td>\n",
       "      <td>5.4</td>\n",
       "      <td>2.3</td>\n",
       "      <td>virginica</td>\n",
       "    </tr>\n",
       "  </tbody>\n",
       "</table>\n",
       "<p>75 rows × 5 columns</p>\n",
       "</div>"
      ],
      "text/plain": [
       "     sepal_length  sepal_width  petal_length  petal_width    species\n",
       "0             5.1          3.5           1.4          0.2     setosa\n",
       "2             4.7          3.2           1.3          0.2     setosa\n",
       "4             5.0          3.6           1.4          0.2     setosa\n",
       "6             4.6          3.4           1.4          0.3     setosa\n",
       "8             4.4          2.9           1.4          0.2     setosa\n",
       "..            ...          ...           ...          ...        ...\n",
       "140           6.7          3.1           5.6          2.4  virginica\n",
       "142           5.8          2.7           5.1          1.9  virginica\n",
       "144           6.7          3.3           5.7          2.5  virginica\n",
       "146           6.3          2.5           5.0          1.9  virginica\n",
       "148           6.2          3.4           5.4          2.3  virginica\n",
       "\n",
       "[75 rows x 5 columns]"
      ]
     },
     "execution_count": 35,
     "metadata": {},
     "output_type": "execute_result"
    }
   ],
   "source": [
    "# Seaborn 라이브러리 내장 \"Iris\" 데이터셋 불러오기\n",
    "iris = sns.load_dataset(\"iris\")\n",
    "iris = iris.iloc[::2,:]\n",
    "iris"
   ]
  },
  {
   "cell_type": "markdown",
   "metadata": {},
   "source": [
    "### 1-1. 붓꽃의 종(species)에 따라 꽃받침 넓이(sepal_width)가 어떻게 다른지 boxplot 및 barplot으로 시각화하시오.\n",
    "barplot에서 나오는 오차막대는 무엇을 의미하는지 설명하시오."
   ]
  },
  {
   "cell_type": "code",
   "execution_count": 28,
   "metadata": {},
   "outputs": [
    {
     "data": {
      "text/plain": [
       "<Axes: xlabel='species', ylabel='sepal_width'>"
      ]
     },
     "execution_count": 28,
     "metadata": {},
     "output_type": "execute_result"
    },
    {
     "data": {
      "image/png": "[encoded data removed]",
      "text/plain": [
       "<Figure size 640x480 with 1 Axes>"
      ]
     },
     "metadata": {},
     "output_type": "display_data"
    }
   ],
   "source": [
    "sns.barplot(data = iris, y = 'sepal_width', x = 'species')"
   ]
  },
  {
   "cell_type": "markdown",
   "metadata": {},
   "source": [
    "- barplot 에 나오는 오차 막대는 신뢰구간 95% 를 뜻한다."
   ]
  },
  {
   "cell_type": "code",
   "execution_count": 29,
   "metadata": {},
   "outputs": [
    {
     "data": {
      "text/plain": [
       "<Axes: xlabel='species', ylabel='sepal_width'>"
      ]
     },
     "execution_count": 29,
     "metadata": {},
     "output_type": "execute_result"
    },
    {
     "data": {
      "image/png": "[encoded data removed]",
      "text/plain": [
       "<Figure size 640x480 with 1 Axes>"
      ]
     },
     "metadata": {},
     "output_type": "display_data"
    }
   ],
   "source": [
    "sns.boxplot(data = iris, y = 'sepal_width', x = 'species')"
   ]
  },
  {
   "cell_type": "markdown",
   "metadata": {},
   "source": [
    "### 1-2. 붓꽃의 종(species)에 따라 꽃받침 넓이(sepal_width)에 차이가 있는지 one-way ANOVA를 통해 검정해보시오.\n",
    "세 그룹 간에 통계적으로 유의한 차이가 있는가? p 값 및 통계적 유의성을 이야기하시오."
   ]
  },
  {
   "cell_type": "code",
   "execution_count": 30,
   "metadata": {},
   "outputs": [
    {
     "data": {
      "text/plain": [
       "F_onewayResult(statistic=np.float64(33.93864215306236), pvalue=np.float64(4.140673250988875e-11))"
      ]
     },
     "execution_count": 30,
     "metadata": {},
     "output_type": "execute_result"
    }
   ],
   "source": [
    "width1 = iris[iris.species == 'setosa'].sepal_width\n",
    "width2 = iris[iris.species == 'versicolor'].sepal_width\n",
    "width3 = iris[iris.species == 'virginica'].sepal_width\n",
    "\n",
    "oneway_anova = stats.f_oneway(width1, width2, width3)\n",
    "oneway_anova"
   ]
  },
  {
   "cell_type": "markdown",
   "metadata": {},
   "source": [
    "- p값이 0.05 이하이므로 세 그룹 간에 통계적으로 유의한 차이가 난다."
   ]
  },
  {
   "cell_type": "markdown",
   "metadata": {},
   "source": [
    "### 1-3. 위 결과가 통계적으로 유의하다면 사후 검정으로 Tukey's HSD test를 시행해보시오.\n",
    "어느 그룹 사이에 통계적으로 유의한 차이가 나는가? 통계적으로 유의한 group 쌍을 모두 명시하시오."
   ]
  },
  {
   "cell_type": "code",
   "execution_count": 31,
   "metadata": {},
   "outputs": [
    {
     "data": {
      "text/html": [
       "<table class=\"simpletable\">\n",
       "<caption>Multiple Comparison of Means - Tukey HSD, FWER=0.05</caption>\n",
       "<tr>\n",
       "    <th>group1</th>     <th>group2</th>   <th>meandiff</th>  <th>p-adj</th>  <th>lower</th>   <th>upper</th>  <th>reject</th>\n",
       "</tr>\n",
       "<tr>\n",
       "    <td>setosa</td>   <td>versicolor</td>  <td>-0.704</td>    <td>0.0</td>  <td>-0.9184</td> <td>-0.4896</td>  <td>True</td> \n",
       "</tr>\n",
       "<tr>\n",
       "    <td>setosa</td>    <td>virginica</td>  <td>-0.544</td>    <td>0.0</td>  <td>-0.7584</td> <td>-0.3296</td>  <td>True</td> \n",
       "</tr>\n",
       "<tr>\n",
       "  <td>versicolor</td>  <td>virginica</td>   <td>0.16</td>   <td>0.1815</td> <td>-0.0544</td> <td>0.3744</td>   <td>False</td>\n",
       "</tr>\n",
       "</table>"
      ],
      "text/latex": [
       "\\begin{center}\n",
       "\\begin{tabular}{ccccccc}\n",
       "\\toprule\n",
       "\\textbf{group1} & \\textbf{group2} & \\textbf{meandiff} & \\textbf{p-adj} & \\textbf{lower} & \\textbf{upper} & \\textbf{reject}  \\\\\n",
       "\\midrule\n",
       "     setosa     &    versicolor   &       -0.704      &      0.0       &    -0.9184     &    -0.4896     &       True       \\\\\n",
       "     setosa     &    virginica    &       -0.544      &      0.0       &    -0.7584     &    -0.3296     &       True       \\\\\n",
       "   versicolor   &    virginica    &        0.16       &     0.1815     &    -0.0544     &     0.3744     &      False       \\\\\n",
       "\\bottomrule\n",
       "\\end{tabular}\n",
       "%\\caption{Multiple Comparison of Means - Tukey HSD, FWER=0.05}\n",
       "\\end{center}"
      ],
      "text/plain": [
       "<class 'statsmodels.iolib.table.SimpleTable'>"
      ]
     },
     "execution_count": 31,
     "metadata": {},
     "output_type": "execute_result"
    }
   ],
   "source": [
    "from statsmodels.stats.multicomp import pairwise_tukeyhsd\n",
    "posthoc = pairwise_tukeyhsd(iris['sepal_width'], iris['species'], alpha=0.05)\n",
    "posthoc.summary()"
   ]
  },
  {
   "cell_type": "markdown",
   "metadata": {},
   "source": [
    "setosa - versicolor, setosa - virginica 사이에 통계적으로 유의한 차이가 난다."
   ]
  },
  {
   "cell_type": "markdown",
   "metadata": {},
   "source": [
    "---"
   ]
  },
  {
   "cell_type": "code",
   "execution_count": 32,
   "metadata": {},
   "outputs": [
    {
     "data": {
      "text/html": [
       "<div>\n",
       "<style scoped>\n",
       "    .dataframe tbody tr th:only-of-type {\n",
       "        vertical-align: middle;\n",
       "    }\n",
       "\n",
       "    .dataframe tbody tr th {\n",
       "        vertical-align: top;\n",
       "    }\n",
       "\n",
       "    .dataframe thead th {\n",
       "        text-align: right;\n",
       "    }\n",
       "</style>\n",
       "<table border=\"1\" class=\"dataframe\">\n",
       "  <thead>\n",
       "    <tr style=\"text-align: right;\">\n",
       "      <th></th>\n",
       "      <th>ID</th>\n",
       "      <th>sex</th>\n",
       "      <th>age</th>\n",
       "      <th>height</th>\n",
       "      <th>weight</th>\n",
       "      <th>waist</th>\n",
       "      <th>BMI</th>\n",
       "      <th>Blood_glucose</th>\n",
       "      <th>obesity</th>\n",
       "    </tr>\n",
       "  </thead>\n",
       "  <tbody>\n",
       "    <tr>\n",
       "      <th>12</th>\n",
       "      <td>A901024803</td>\n",
       "      <td>M</td>\n",
       "      <td>27</td>\n",
       "      <td>188.4</td>\n",
       "      <td>126.7</td>\n",
       "      <td>106.9</td>\n",
       "      <td>35.695611</td>\n",
       "      <td>90</td>\n",
       "      <td>비만</td>\n",
       "    </tr>\n",
       "    <tr>\n",
       "      <th>13</th>\n",
       "      <td>A901024804</td>\n",
       "      <td>M</td>\n",
       "      <td>26</td>\n",
       "      <td>177.9</td>\n",
       "      <td>85.5</td>\n",
       "      <td>90.5</td>\n",
       "      <td>27.015575</td>\n",
       "      <td>96</td>\n",
       "      <td>비만</td>\n",
       "    </tr>\n",
       "    <tr>\n",
       "      <th>68</th>\n",
       "      <td>A903022202</td>\n",
       "      <td>F</td>\n",
       "      <td>23</td>\n",
       "      <td>158.8</td>\n",
       "      <td>42.5</td>\n",
       "      <td>61.6</td>\n",
       "      <td>16.853416</td>\n",
       "      <td>86</td>\n",
       "      <td>저체중</td>\n",
       "    </tr>\n",
       "    <tr>\n",
       "      <th>104</th>\n",
       "      <td>A904024203</td>\n",
       "      <td>M</td>\n",
       "      <td>29</td>\n",
       "      <td>188.2</td>\n",
       "      <td>67.0</td>\n",
       "      <td>71.6</td>\n",
       "      <td>18.916273</td>\n",
       "      <td>93</td>\n",
       "      <td>정상</td>\n",
       "    </tr>\n",
       "    <tr>\n",
       "      <th>113</th>\n",
       "      <td>A904027203</td>\n",
       "      <td>F</td>\n",
       "      <td>26</td>\n",
       "      <td>169.9</td>\n",
       "      <td>58.5</td>\n",
       "      <td>66.5</td>\n",
       "      <td>20.266050</td>\n",
       "      <td>85</td>\n",
       "      <td>정상</td>\n",
       "    </tr>\n",
       "  </tbody>\n",
       "</table>\n",
       "</div>"
      ],
      "text/plain": [
       "             ID sex  age  height  weight  waist        BMI  Blood_glucose  \\\n",
       "12   A901024803   M   27   188.4   126.7  106.9  35.695611             90   \n",
       "13   A901024804   M   26   177.9    85.5   90.5  27.015575             96   \n",
       "68   A903022202   F   23   158.8    42.5   61.6  16.853416             86   \n",
       "104  A904024203   M   29   188.2    67.0   71.6  18.916273             93   \n",
       "113  A904027203   F   26   169.9    58.5   66.5  20.266050             85   \n",
       "\n",
       "    obesity  \n",
       "12       비만  \n",
       "13       비만  \n",
       "68      저체중  \n",
       "104      정상  \n",
       "113      정상  "
      ]
     },
     "execution_count": 32,
     "metadata": {},
     "output_type": "execute_result"
    }
   ],
   "source": [
    "# 국민건강영양조사 데이터\n",
    "data = pd.read_csv('health2018.csv')\n",
    "\n",
    "# 체중 구분 추가\n",
    "BMI_cut = [0, 18.5, 25, 100]\n",
    "BMI_names = ['저체중', '정상', '비만']\n",
    "data['obesity'] = pd.cut(data.BMI, BMI_cut, labels = BMI_names)\n",
    "\n",
    "# 20대 선별\n",
    "data20s = data[data.age < 30]\n",
    "data20s.head()"
   ]
  },
  {
   "cell_type": "markdown",
   "metadata": {},
   "source": [
    "### 2-1. 체중 그룹(obesity)에 따라 키가 다른지 one-way ANOVA 및 사후검정(Tukey's HSD test)으로 검정하시오."
   ]
  },
  {
   "cell_type": "code",
   "execution_count": 33,
   "metadata": {},
   "outputs": [
    {
     "data": {
      "text/plain": [
       "F_onewayResult(statistic=np.float64(16.63900482367357), pvalue=np.float64(8.566318610113073e-08))"
      ]
     },
     "execution_count": 33,
     "metadata": {},
     "output_type": "execute_result"
    }
   ],
   "source": [
    "Glucose1 = data20s[data20s.obesity == '저체중'].height\n",
    "Glucose2 = data20s[data20s.obesity == '정상'].height\n",
    "Glucose3 = data20s[data20s.obesity == '비만'].height\n",
    "\n",
    "oneway_anova_result = stats.f_oneway(Glucose1, Glucose2, Glucose3)\n",
    "oneway_anova_result"
   ]
  },
  {
   "cell_type": "code",
   "execution_count": 18,
   "metadata": {},
   "outputs": [
    {
     "data": {
      "text/html": [
       "<table class=\"simpletable\">\n",
       "<caption>Multiple Comparison of Means - Tukey HSD, FWER=0.05</caption>\n",
       "<tr>\n",
       "  <th>group1</th> <th>group2</th> <th>meandiff</th>  <th>p-adj</th>  <th>lower</th>   <th>upper</th>  <th>reject</th>\n",
       "</tr>\n",
       "<tr>\n",
       "    <td>비만</td>     <td>저체중</td>   <td>-6.4427</td>   <td>0.0</td>  <td>-9.4104</td> <td>-3.475</td>   <td>True</td> \n",
       "</tr>\n",
       "<tr>\n",
       "    <td>비만</td>     <td>정상</td>    <td>-3.3869</td>   <td>0.0</td>  <td>-5.1093</td> <td>-1.6646</td>  <td>True</td> \n",
       "</tr>\n",
       "<tr>\n",
       "    <td>저체중</td>    <td>정상</td>    <td>3.0557</td>  <td>0.0232</td> <td>0.3341</td>  <td>5.7773</td>   <td>True</td> \n",
       "</tr>\n",
       "</table>"
      ],
      "text/latex": [
       "\\begin{center}\n",
       "\\begin{tabular}{ccccccc}\n",
       "\\toprule\n",
       "\\textbf{group1} & \\textbf{group2} & \\textbf{meandiff} & \\textbf{p-adj} & \\textbf{lower} & \\textbf{upper} & \\textbf{reject}  \\\\\n",
       "\\midrule\n",
       "       비만       &       저체중       &      -6.4427      &      0.0       &    -9.4104     &     -3.475     &       True       \\\\\n",
       "       비만       &        정상       &      -3.3869      &      0.0       &    -5.1093     &    -1.6646     &       True       \\\\\n",
       "      저체중       &        정상       &       3.0557      &     0.0232     &     0.3341     &     5.7773     &       True       \\\\\n",
       "\\bottomrule\n",
       "\\end{tabular}\n",
       "%\\caption{Multiple Comparison of Means - Tukey HSD, FWER=0.05}\n",
       "\\end{center}"
      ],
      "text/plain": [
       "<class 'statsmodels.iolib.table.SimpleTable'>"
      ]
     },
     "execution_count": 18,
     "metadata": {},
     "output_type": "execute_result"
    }
   ],
   "source": [
    "posthoc = pairwise_tukeyhsd(data20s['height'], data20s['obesity'], alpha=0.05)\n",
    "posthoc.summary()"
   ]
  },
  {
   "cell_type": "markdown",
   "metadata": {},
   "source": [
    "### 2-2. 체중 그룹별로 성별 분포를 countplot을 통해 비교하시오.\n",
    "x축을 체중그룹(저체중, 정상, 비만)으로 표시하고, 각각마다 남/여가 다른 색상으로 나타나도록 시각화하시오."
   ]
  },
  {
   "cell_type": "code",
   "execution_count": 19,
   "metadata": {},
   "outputs": [
    {
     "data": {
      "text/plain": [
       "<Axes: xlabel='obesity', ylabel='count'>"
      ]
     },
     "execution_count": 19,
     "metadata": {},
     "output_type": "execute_result"
    },
    {
     "data": {
      "image/png": "[encoded data removed]",
      "text/plain": [
       "<Figure size 640x480 with 1 Axes>"
      ]
     },
     "metadata": {},
     "output_type": "display_data"
    }
   ],
   "source": [
    "sns.countplot(data = data20s, x = 'obesity', hue = 'sex' )"
   ]
  },
  {
   "cell_type": "markdown",
   "metadata": {},
   "source": [
    "### 2-3. 여성을 실험군으로 가정하고, 남성 집단(통제군)을 그에 맞춰 재추출하시오. [3점]\n",
    "즉, 새로운 데이터셋을 만들되 여성은 그대로 두고, 남성은 저체중, 정상, 비만 그룹별 인원이 여성과 같도록 재추출하시오.[2점] \n",
    "\n",
    "이후 두 성별에서 저체중, 정상, 비만 인원 수(각 47, 280, 56명)가 일치하는지 확인하시오. (예: 남성, 여성 데이터 결합 후 교차표 생성해서 인원 수 확인 [1점])"
   ]
  },
  {
   "cell_type": "code",
   "execution_count": 22,
   "metadata": {},
   "outputs": [
    {
     "data": {
      "text/html": [
       "<div>\n",
       "<style scoped>\n",
       "    .dataframe tbody tr th:only-of-type {\n",
       "        vertical-align: middle;\n",
       "    }\n",
       "\n",
       "    .dataframe tbody tr th {\n",
       "        vertical-align: top;\n",
       "    }\n",
       "\n",
       "    .dataframe thead th {\n",
       "        text-align: right;\n",
       "    }\n",
       "</style>\n",
       "<table border=\"1\" class=\"dataframe\">\n",
       "  <thead>\n",
       "    <tr style=\"text-align: right;\">\n",
       "      <th>obesity</th>\n",
       "      <th>저체중</th>\n",
       "      <th>정상</th>\n",
       "      <th>비만</th>\n",
       "    </tr>\n",
       "    <tr>\n",
       "      <th>sex</th>\n",
       "      <th></th>\n",
       "      <th></th>\n",
       "      <th></th>\n",
       "    </tr>\n",
       "  </thead>\n",
       "  <tbody>\n",
       "    <tr>\n",
       "      <th>F</th>\n",
       "      <td>47</td>\n",
       "      <td>280</td>\n",
       "      <td>56</td>\n",
       "    </tr>\n",
       "    <tr>\n",
       "      <th>M</th>\n",
       "      <td>47</td>\n",
       "      <td>280</td>\n",
       "      <td>56</td>\n",
       "    </tr>\n",
       "  </tbody>\n",
       "</table>\n",
       "</div>"
      ],
      "text/plain": [
       "obesity  저체중   정상  비만\n",
       "sex                  \n",
       "F         47  280  56\n",
       "M         47  280  56"
      ]
     },
     "execution_count": 22,
     "metadata": {},
     "output_type": "execute_result"
    }
   ],
   "source": [
    "mdata_control = pd.DataFrame()\n",
    "for obesity_i in ['저체중', '정상', '비만'] :\n",
    "    n_count = len(data20s[(data20s['obesity'] == obesity_i) & (data20s['sex'] == 'F')])\n",
    "    mdata_control = pd.concat([mdata_control, data20s[(data20s['obesity'] == obesity_i) & (data20s['sex'] == 'M')].sample(n_count, replace= True)])\n",
    "data_control = pd.concat([mdata_control, data20s[data20s['sex'] == 'F']])\n",
    "pd.crosstab(data_control.sex, data_control.obesity)"
   ]
  },
  {
   "cell_type": "markdown",
   "metadata": {},
   "source": [
    "### 2-4. 재추출한 데이터 셋에서, 체중 그룹에 따라 키가 다른지 one-way ANOVA로 검정하시오. \n",
    "p값 및 통계적 유의성을 보고할 것."
   ]
  },
  {
   "cell_type": "code",
   "execution_count": 23,
   "metadata": {},
   "outputs": [
    {
     "data": {
      "text/plain": [
       "F_onewayResult(statistic=np.float64(0.11520097371170068), pvalue=np.float64(0.8912025186487653))"
      ]
     },
     "execution_count": 23,
     "metadata": {},
     "output_type": "execute_result"
    }
   ],
   "source": [
    "Glucose1 = data_control[data_control.obesity == '저체중'].height\n",
    "Glucose2 = data_control[data_control.obesity == '정상'].height\n",
    "Glucose3 = data_control[data_control.obesity == '비만'].height\n",
    "\n",
    "oneway_anova_result = stats.f_oneway(Glucose1, Glucose2, Glucose3)\n",
    "oneway_anova_result"
   ]
  },
  {
   "cell_type": "markdown",
   "metadata": {},
   "source": [
    "- p값이 유의수준 0.05보다 크므로 세 개의 집단이 통계적으로 유의하지 않다."
   ]
  },
  {
   "cell_type": "markdown",
   "metadata": {},
   "source": [
    "### 2-5. 재추출한 데이터셋에서 stripplot으로 체중그룹별(x축) 키의 분포를 시각화해보시오."
   ]
  },
  {
   "cell_type": "code",
   "execution_count": 24,
   "metadata": {},
   "outputs": [
    {
     "data": {
      "image/png": "[encoded data removed]",
      "text/plain": [
       "<Figure size 640x480 with 1 Axes>"
      ]
     },
     "metadata": {},
     "output_type": "display_data"
    }
   ],
   "source": [
    "sns.stripplot(data = data_control, x='obesity', y='height', hue='sex')\n",
    "plt.show()"
   ]
  }
 ],
 "metadata": {
  "anaconda-cloud": {},
  "kernelspec": {
   "display_name": ".venv",
   "language": "python",
   "name": "python3"
  },
  "language_info": {
   "codemirror_mode": {
    "name": "ipython",
    "version": 3
   },
   "file_extension": ".py",
   "mimetype": "text/x-python",
   "name": "python",
   "nbconvert_exporter": "python",
   "pygments_lexer": "ipython3",
   "version": "3.11.11"
  }
 },
 "nbformat": 4,
 "nbformat_minor": 4
}
