{
 "cells": [
  {
   "cell_type": "markdown",
   "metadata": {},
   "source": [
    "# 12주차 실습(2): 분산분석과 사후 검정(post-hoc test)"
   ]
  },
  {
   "cell_type": "markdown",
   "metadata": {},
   "source": [
    "***"
   ]
  },
  {
   "cell_type": "code",
   "execution_count": 2,
   "metadata": {},
   "outputs": [
    {
     "data": {
      "text/html": [
       "<div>\n",
       "<style scoped>\n",
       "    .dataframe tbody tr th:only-of-type {\n",
       "        vertical-align: middle;\n",
       "    }\n",
       "\n",
       "    .dataframe tbody tr th {\n",
       "        vertical-align: top;\n",
       "    }\n",
       "\n",
       "    .dataframe thead th {\n",
       "        text-align: right;\n",
       "    }\n",
       "</style>\n",
       "<table border=\"1\" class=\"dataframe\">\n",
       "  <thead>\n",
       "    <tr style=\"text-align: right;\">\n",
       "      <th></th>\n",
       "      <th>ID</th>\n",
       "      <th>sex</th>\n",
       "      <th>age</th>\n",
       "      <th>height</th>\n",
       "      <th>weight</th>\n",
       "      <th>waist</th>\n",
       "      <th>BMI</th>\n",
       "      <th>Blood_glucose</th>\n",
       "    </tr>\n",
       "  </thead>\n",
       "  <tbody>\n",
       "    <tr>\n",
       "      <th>0</th>\n",
       "      <td>A901020501</td>\n",
       "      <td>M</td>\n",
       "      <td>80</td>\n",
       "      <td>162.4</td>\n",
       "      <td>56.0</td>\n",
       "      <td>82.2</td>\n",
       "      <td>21.233226</td>\n",
       "      <td>103</td>\n",
       "    </tr>\n",
       "    <tr>\n",
       "      <th>1</th>\n",
       "      <td>A901021301</td>\n",
       "      <td>M</td>\n",
       "      <td>78</td>\n",
       "      <td>167.7</td>\n",
       "      <td>76.4</td>\n",
       "      <td>98.3</td>\n",
       "      <td>27.166096</td>\n",
       "      <td>127</td>\n",
       "    </tr>\n",
       "    <tr>\n",
       "      <th>2</th>\n",
       "      <td>A901021302</td>\n",
       "      <td>F</td>\n",
       "      <td>75</td>\n",
       "      <td>157.7</td>\n",
       "      <td>53.2</td>\n",
       "      <td>80.7</td>\n",
       "      <td>21.391845</td>\n",
       "      <td>134</td>\n",
       "    </tr>\n",
       "    <tr>\n",
       "      <th>3</th>\n",
       "      <td>A901022601</td>\n",
       "      <td>F</td>\n",
       "      <td>43</td>\n",
       "      <td>151.0</td>\n",
       "      <td>53.5</td>\n",
       "      <td>79.7</td>\n",
       "      <td>23.463883</td>\n",
       "      <td>99</td>\n",
       "    </tr>\n",
       "    <tr>\n",
       "      <th>4</th>\n",
       "      <td>A901023303</td>\n",
       "      <td>F</td>\n",
       "      <td>80</td>\n",
       "      <td>146.1</td>\n",
       "      <td>57.6</td>\n",
       "      <td>93.0</td>\n",
       "      <td>26.984977</td>\n",
       "      <td>111</td>\n",
       "    </tr>\n",
       "    <tr>\n",
       "      <th>...</th>\n",
       "      <td>...</td>\n",
       "      <td>...</td>\n",
       "      <td>...</td>\n",
       "      <td>...</td>\n",
       "      <td>...</td>\n",
       "      <td>...</td>\n",
       "      <td>...</td>\n",
       "      <td>...</td>\n",
       "    </tr>\n",
       "    <tr>\n",
       "      <th>5963</th>\n",
       "      <td>R904028502</td>\n",
       "      <td>F</td>\n",
       "      <td>35</td>\n",
       "      <td>159.8</td>\n",
       "      <td>55.6</td>\n",
       "      <td>70.1</td>\n",
       "      <td>21.773149</td>\n",
       "      <td>90</td>\n",
       "    </tr>\n",
       "    <tr>\n",
       "      <th>5964</th>\n",
       "      <td>R904028503</td>\n",
       "      <td>F</td>\n",
       "      <td>66</td>\n",
       "      <td>156.9</td>\n",
       "      <td>63.9</td>\n",
       "      <td>87.3</td>\n",
       "      <td>25.957028</td>\n",
       "      <td>93</td>\n",
       "    </tr>\n",
       "    <tr>\n",
       "      <th>5965</th>\n",
       "      <td>R904028902</td>\n",
       "      <td>F</td>\n",
       "      <td>73</td>\n",
       "      <td>145.2</td>\n",
       "      <td>51.8</td>\n",
       "      <td>77.2</td>\n",
       "      <td>24.569512</td>\n",
       "      <td>99</td>\n",
       "    </tr>\n",
       "    <tr>\n",
       "      <th>5966</th>\n",
       "      <td>R904029201</td>\n",
       "      <td>M</td>\n",
       "      <td>43</td>\n",
       "      <td>176.8</td>\n",
       "      <td>84.1</td>\n",
       "      <td>99.2</td>\n",
       "      <td>26.904906</td>\n",
       "      <td>108</td>\n",
       "    </tr>\n",
       "    <tr>\n",
       "      <th>5967</th>\n",
       "      <td>R904029202</td>\n",
       "      <td>F</td>\n",
       "      <td>39</td>\n",
       "      <td>163.1</td>\n",
       "      <td>59.5</td>\n",
       "      <td>81.2</td>\n",
       "      <td>22.367067</td>\n",
       "      <td>94</td>\n",
       "    </tr>\n",
       "  </tbody>\n",
       "</table>\n",
       "<p>5968 rows × 8 columns</p>\n",
       "</div>"
      ],
      "text/plain": [
       "              ID sex  age  height  weight  waist        BMI  Blood_glucose\n",
       "0     A901020501   M   80   162.4    56.0   82.2  21.233226            103\n",
       "1     A901021301   M   78   167.7    76.4   98.3  27.166096            127\n",
       "2     A901021302   F   75   157.7    53.2   80.7  21.391845            134\n",
       "3     A901022601   F   43   151.0    53.5   79.7  23.463883             99\n",
       "4     A901023303   F   80   146.1    57.6   93.0  26.984977            111\n",
       "...          ...  ..  ...     ...     ...    ...        ...            ...\n",
       "5963  R904028502   F   35   159.8    55.6   70.1  21.773149             90\n",
       "5964  R904028503   F   66   156.9    63.9   87.3  25.957028             93\n",
       "5965  R904028902   F   73   145.2    51.8   77.2  24.569512             99\n",
       "5966  R904029201   M   43   176.8    84.1   99.2  26.904906            108\n",
       "5967  R904029202   F   39   163.1    59.5   81.2  22.367067             94\n",
       "\n",
       "[5968 rows x 8 columns]"
      ]
     },
     "execution_count": 2,
     "metadata": {},
     "output_type": "execute_result"
    }
   ],
   "source": [
    "# 아래의 라이브러리를 사용하므로 미리 임포트해 두기 바랍니다.\n",
    "import numpy as np\n",
    "import numpy.random as random\n",
    "import scipy as sp\n",
    "import scipy.stats as stats\n",
    "import pandas as pd\n",
    "from pandas import Series, DataFrame\n",
    "\n",
    "import statsmodels.formula.api as smf\n",
    "import statsmodels.api as sm\n",
    "\n",
    "# 시각화 라이브러리\n",
    "import matplotlib.pyplot as plt\n",
    "import matplotlib as mpl\n",
    "mpl.rc('font',family='Malgun Gothic')  # 한글폰트 설정 \"맑은 고딕\"\n",
    "import seaborn as sns\n",
    "%matplotlib inline\n",
    "\n",
    "# 소수점 3자리까지 표시\n",
    "%precision 3\n",
    "\n",
    "data = pd.read_csv('health2018.csv')\n",
    "data"
   ]
  },
  {
   "cell_type": "markdown",
   "metadata": {},
   "source": [
    "### 구간화(pd.cut)를 이용해 다음 체중 분류를 obesity 열로 추가.\n",
    "BMI 18.5 미만 : \"저체중\"\n",
    "\n",
    "BMI 18.5 이상 25 미만 : \"정상\"\n",
    "\n",
    "BMI 25 이상 : \"비만\""
   ]
  },
  {
   "cell_type": "code",
   "execution_count": 3,
   "metadata": {},
   "outputs": [
    {
     "data": {
      "text/html": [
       "<div>\n",
       "<style scoped>\n",
       "    .dataframe tbody tr th:only-of-type {\n",
       "        vertical-align: middle;\n",
       "    }\n",
       "\n",
       "    .dataframe tbody tr th {\n",
       "        vertical-align: top;\n",
       "    }\n",
       "\n",
       "    .dataframe thead th {\n",
       "        text-align: right;\n",
       "    }\n",
       "</style>\n",
       "<table border=\"1\" class=\"dataframe\">\n",
       "  <thead>\n",
       "    <tr style=\"text-align: right;\">\n",
       "      <th></th>\n",
       "      <th>ID</th>\n",
       "      <th>sex</th>\n",
       "      <th>age</th>\n",
       "      <th>height</th>\n",
       "      <th>weight</th>\n",
       "      <th>waist</th>\n",
       "      <th>BMI</th>\n",
       "      <th>Blood_glucose</th>\n",
       "      <th>obesity</th>\n",
       "    </tr>\n",
       "  </thead>\n",
       "  <tbody>\n",
       "    <tr>\n",
       "      <th>0</th>\n",
       "      <td>A901020501</td>\n",
       "      <td>M</td>\n",
       "      <td>80</td>\n",
       "      <td>162.4</td>\n",
       "      <td>56.0</td>\n",
       "      <td>82.2</td>\n",
       "      <td>21.233226</td>\n",
       "      <td>103</td>\n",
       "      <td>정상</td>\n",
       "    </tr>\n",
       "    <tr>\n",
       "      <th>1</th>\n",
       "      <td>A901021301</td>\n",
       "      <td>M</td>\n",
       "      <td>78</td>\n",
       "      <td>167.7</td>\n",
       "      <td>76.4</td>\n",
       "      <td>98.3</td>\n",
       "      <td>27.166096</td>\n",
       "      <td>127</td>\n",
       "      <td>비만</td>\n",
       "    </tr>\n",
       "    <tr>\n",
       "      <th>2</th>\n",
       "      <td>A901021302</td>\n",
       "      <td>F</td>\n",
       "      <td>75</td>\n",
       "      <td>157.7</td>\n",
       "      <td>53.2</td>\n",
       "      <td>80.7</td>\n",
       "      <td>21.391845</td>\n",
       "      <td>134</td>\n",
       "      <td>정상</td>\n",
       "    </tr>\n",
       "    <tr>\n",
       "      <th>3</th>\n",
       "      <td>A901022601</td>\n",
       "      <td>F</td>\n",
       "      <td>43</td>\n",
       "      <td>151.0</td>\n",
       "      <td>53.5</td>\n",
       "      <td>79.7</td>\n",
       "      <td>23.463883</td>\n",
       "      <td>99</td>\n",
       "      <td>정상</td>\n",
       "    </tr>\n",
       "    <tr>\n",
       "      <th>4</th>\n",
       "      <td>A901023303</td>\n",
       "      <td>F</td>\n",
       "      <td>80</td>\n",
       "      <td>146.1</td>\n",
       "      <td>57.6</td>\n",
       "      <td>93.0</td>\n",
       "      <td>26.984977</td>\n",
       "      <td>111</td>\n",
       "      <td>비만</td>\n",
       "    </tr>\n",
       "  </tbody>\n",
       "</table>\n",
       "</div>"
      ],
      "text/plain": [
       "           ID sex  age  height  weight  waist        BMI  Blood_glucose  \\\n",
       "0  A901020501   M   80   162.4    56.0   82.2  21.233226            103   \n",
       "1  A901021301   M   78   167.7    76.4   98.3  27.166096            127   \n",
       "2  A901021302   F   75   157.7    53.2   80.7  21.391845            134   \n",
       "3  A901022601   F   43   151.0    53.5   79.7  23.463883             99   \n",
       "4  A901023303   F   80   146.1    57.6   93.0  26.984977            111   \n",
       "\n",
       "  obesity  \n",
       "0      정상  \n",
       "1      비만  \n",
       "2      정상  \n",
       "3      정상  \n",
       "4      비만  "
      ]
     },
     "execution_count": 3,
     "metadata": {},
     "output_type": "execute_result"
    }
   ],
   "source": [
    "BMI_cut = [0, 18.5, 25, 100]\n",
    "BMI_names = ['저체중', '정상', '비만']\n",
    "data['obesity'] = pd.cut(data.BMI, BMI_cut, labels = BMI_names)\n",
    "data.head()"
   ]
  },
  {
   "cell_type": "markdown",
   "metadata": {},
   "source": [
    "### 구간화(pd.cut)를 이용해 연령 분류를 age_group 열로 추가.\n",
    "20세 이상 30세 미만: '20대' ..."
   ]
  },
  {
   "cell_type": "code",
   "execution_count": 4,
   "metadata": {},
   "outputs": [
    {
     "data": {
      "text/html": [
       "<div>\n",
       "<style scoped>\n",
       "    .dataframe tbody tr th:only-of-type {\n",
       "        vertical-align: middle;\n",
       "    }\n",
       "\n",
       "    .dataframe tbody tr th {\n",
       "        vertical-align: top;\n",
       "    }\n",
       "\n",
       "    .dataframe thead th {\n",
       "        text-align: right;\n",
       "    }\n",
       "</style>\n",
       "<table border=\"1\" class=\"dataframe\">\n",
       "  <thead>\n",
       "    <tr style=\"text-align: right;\">\n",
       "      <th></th>\n",
       "      <th>ID</th>\n",
       "      <th>sex</th>\n",
       "      <th>age</th>\n",
       "      <th>height</th>\n",
       "      <th>weight</th>\n",
       "      <th>waist</th>\n",
       "      <th>BMI</th>\n",
       "      <th>Blood_glucose</th>\n",
       "      <th>obesity</th>\n",
       "      <th>age_group</th>\n",
       "    </tr>\n",
       "  </thead>\n",
       "  <tbody>\n",
       "    <tr>\n",
       "      <th>0</th>\n",
       "      <td>A901020501</td>\n",
       "      <td>M</td>\n",
       "      <td>80</td>\n",
       "      <td>162.4</td>\n",
       "      <td>56.0</td>\n",
       "      <td>82.2</td>\n",
       "      <td>21.233226</td>\n",
       "      <td>103</td>\n",
       "      <td>정상</td>\n",
       "      <td>NaN</td>\n",
       "    </tr>\n",
       "    <tr>\n",
       "      <th>1</th>\n",
       "      <td>A901021301</td>\n",
       "      <td>M</td>\n",
       "      <td>78</td>\n",
       "      <td>167.7</td>\n",
       "      <td>76.4</td>\n",
       "      <td>98.3</td>\n",
       "      <td>27.166096</td>\n",
       "      <td>127</td>\n",
       "      <td>비만</td>\n",
       "      <td>70대</td>\n",
       "    </tr>\n",
       "    <tr>\n",
       "      <th>2</th>\n",
       "      <td>A901021302</td>\n",
       "      <td>F</td>\n",
       "      <td>75</td>\n",
       "      <td>157.7</td>\n",
       "      <td>53.2</td>\n",
       "      <td>80.7</td>\n",
       "      <td>21.391845</td>\n",
       "      <td>134</td>\n",
       "      <td>정상</td>\n",
       "      <td>70대</td>\n",
       "    </tr>\n",
       "    <tr>\n",
       "      <th>3</th>\n",
       "      <td>A901022601</td>\n",
       "      <td>F</td>\n",
       "      <td>43</td>\n",
       "      <td>151.0</td>\n",
       "      <td>53.5</td>\n",
       "      <td>79.7</td>\n",
       "      <td>23.463883</td>\n",
       "      <td>99</td>\n",
       "      <td>정상</td>\n",
       "      <td>40대</td>\n",
       "    </tr>\n",
       "    <tr>\n",
       "      <th>4</th>\n",
       "      <td>A901023303</td>\n",
       "      <td>F</td>\n",
       "      <td>80</td>\n",
       "      <td>146.1</td>\n",
       "      <td>57.6</td>\n",
       "      <td>93.0</td>\n",
       "      <td>26.984977</td>\n",
       "      <td>111</td>\n",
       "      <td>비만</td>\n",
       "      <td>NaN</td>\n",
       "    </tr>\n",
       "    <tr>\n",
       "      <th>...</th>\n",
       "      <td>...</td>\n",
       "      <td>...</td>\n",
       "      <td>...</td>\n",
       "      <td>...</td>\n",
       "      <td>...</td>\n",
       "      <td>...</td>\n",
       "      <td>...</td>\n",
       "      <td>...</td>\n",
       "      <td>...</td>\n",
       "      <td>...</td>\n",
       "    </tr>\n",
       "    <tr>\n",
       "      <th>5963</th>\n",
       "      <td>R904028502</td>\n",
       "      <td>F</td>\n",
       "      <td>35</td>\n",
       "      <td>159.8</td>\n",
       "      <td>55.6</td>\n",
       "      <td>70.1</td>\n",
       "      <td>21.773149</td>\n",
       "      <td>90</td>\n",
       "      <td>정상</td>\n",
       "      <td>30대</td>\n",
       "    </tr>\n",
       "    <tr>\n",
       "      <th>5964</th>\n",
       "      <td>R904028503</td>\n",
       "      <td>F</td>\n",
       "      <td>66</td>\n",
       "      <td>156.9</td>\n",
       "      <td>63.9</td>\n",
       "      <td>87.3</td>\n",
       "      <td>25.957028</td>\n",
       "      <td>93</td>\n",
       "      <td>비만</td>\n",
       "      <td>60대</td>\n",
       "    </tr>\n",
       "    <tr>\n",
       "      <th>5965</th>\n",
       "      <td>R904028902</td>\n",
       "      <td>F</td>\n",
       "      <td>73</td>\n",
       "      <td>145.2</td>\n",
       "      <td>51.8</td>\n",
       "      <td>77.2</td>\n",
       "      <td>24.569512</td>\n",
       "      <td>99</td>\n",
       "      <td>정상</td>\n",
       "      <td>70대</td>\n",
       "    </tr>\n",
       "    <tr>\n",
       "      <th>5966</th>\n",
       "      <td>R904029201</td>\n",
       "      <td>M</td>\n",
       "      <td>43</td>\n",
       "      <td>176.8</td>\n",
       "      <td>84.1</td>\n",
       "      <td>99.2</td>\n",
       "      <td>26.904906</td>\n",
       "      <td>108</td>\n",
       "      <td>비만</td>\n",
       "      <td>40대</td>\n",
       "    </tr>\n",
       "    <tr>\n",
       "      <th>5967</th>\n",
       "      <td>R904029202</td>\n",
       "      <td>F</td>\n",
       "      <td>39</td>\n",
       "      <td>163.1</td>\n",
       "      <td>59.5</td>\n",
       "      <td>81.2</td>\n",
       "      <td>22.367067</td>\n",
       "      <td>94</td>\n",
       "      <td>정상</td>\n",
       "      <td>30대</td>\n",
       "    </tr>\n",
       "  </tbody>\n",
       "</table>\n",
       "<p>5968 rows × 10 columns</p>\n",
       "</div>"
      ],
      "text/plain": [
       "              ID sex  age  height  weight  waist        BMI  Blood_glucose  \\\n",
       "0     A901020501   M   80   162.4    56.0   82.2  21.233226            103   \n",
       "1     A901021301   M   78   167.7    76.4   98.3  27.166096            127   \n",
       "2     A901021302   F   75   157.7    53.2   80.7  21.391845            134   \n",
       "3     A901022601   F   43   151.0    53.5   79.7  23.463883             99   \n",
       "4     A901023303   F   80   146.1    57.6   93.0  26.984977            111   \n",
       "...          ...  ..  ...     ...     ...    ...        ...            ...   \n",
       "5963  R904028502   F   35   159.8    55.6   70.1  21.773149             90   \n",
       "5964  R904028503   F   66   156.9    63.9   87.3  25.957028             93   \n",
       "5965  R904028902   F   73   145.2    51.8   77.2  24.569512             99   \n",
       "5966  R904029201   M   43   176.8    84.1   99.2  26.904906            108   \n",
       "5967  R904029202   F   39   163.1    59.5   81.2  22.367067             94   \n",
       "\n",
       "     obesity age_group  \n",
       "0         정상       NaN  \n",
       "1         비만       70대  \n",
       "2         정상       70대  \n",
       "3         정상       40대  \n",
       "4         비만       NaN  \n",
       "...      ...       ...  \n",
       "5963      정상       30대  \n",
       "5964      비만       60대  \n",
       "5965      정상       70대  \n",
       "5966      비만       40대  \n",
       "5967      정상       30대  \n",
       "\n",
       "[5968 rows x 10 columns]"
      ]
     },
     "execution_count": 4,
     "metadata": {},
     "output_type": "execute_result"
    }
   ],
   "source": [
    "age_cut = [20, 30, 40, 50, 60, 70, 80]\n",
    "age_names = ['20대', '30대', '40대', '50대', '60대', '70대']\n",
    "data['age_group'] = pd.cut(data.age, age_cut, labels = age_names, right = False)\n",
    "data"
   ]
  },
  {
   "cell_type": "markdown",
   "metadata": {},
   "source": [
    "## 교차표 생성\n",
    "### 20대 그룹에서 성별로 저체중/정상/비만 체중 분포를 교차표로 구함."
   ]
  },
  {
   "cell_type": "code",
   "execution_count": 5,
   "metadata": {},
   "outputs": [
    {
     "data": {
      "text/html": [
       "<div>\n",
       "<style scoped>\n",
       "    .dataframe tbody tr th:only-of-type {\n",
       "        vertical-align: middle;\n",
       "    }\n",
       "\n",
       "    .dataframe tbody tr th {\n",
       "        vertical-align: top;\n",
       "    }\n",
       "\n",
       "    .dataframe thead th {\n",
       "        text-align: right;\n",
       "    }\n",
       "</style>\n",
       "<table border=\"1\" class=\"dataframe\">\n",
       "  <thead>\n",
       "    <tr style=\"text-align: right;\">\n",
       "      <th>obesity</th>\n",
       "      <th>저체중</th>\n",
       "      <th>정상</th>\n",
       "      <th>비만</th>\n",
       "    </tr>\n",
       "    <tr>\n",
       "      <th>sex</th>\n",
       "      <th></th>\n",
       "      <th></th>\n",
       "      <th></th>\n",
       "    </tr>\n",
       "  </thead>\n",
       "  <tbody>\n",
       "    <tr>\n",
       "      <th>F</th>\n",
       "      <td>46</td>\n",
       "      <td>256</td>\n",
       "      <td>56</td>\n",
       "    </tr>\n",
       "    <tr>\n",
       "      <th>M</th>\n",
       "      <td>12</td>\n",
       "      <td>194</td>\n",
       "      <td>116</td>\n",
       "    </tr>\n",
       "  </tbody>\n",
       "</table>\n",
       "</div>"
      ],
      "text/plain": [
       "obesity  저체중   정상   비만\n",
       "sex                   \n",
       "F         46  256   56\n",
       "M         12  194  116"
      ]
     },
     "execution_count": 5,
     "metadata": {},
     "output_type": "execute_result"
    }
   ],
   "source": [
    "pd.crosstab(data[data.age_group == '20대'].sex, data[data.age_group == '20대'].obesity)"
   ]
  },
  {
   "cell_type": "code",
   "execution_count": 6,
   "metadata": {},
   "outputs": [
    {
     "data": {
      "image/png": "[encoded data removed]",
      "text/plain": [
       "<Figure size 640x480 with 1 Axes>"
      ]
     },
     "metadata": {},
     "output_type": "display_data"
    }
   ],
   "source": [
    "sns.countplot(data = data[data.age_group == '20대'], x='sex', hue = 'obesity')\n",
    "plt.show()"
   ]
  },
  {
   "cell_type": "markdown",
   "metadata": {},
   "source": [
    "### 카이 제곱 검정을 통해 성별로 저체중/정상체중/비만의 비율이 다른지 검증한다."
   ]
  },
  {
   "cell_type": "code",
   "execution_count": 7,
   "metadata": {},
   "outputs": [
    {
     "name": "stdout",
     "output_type": "stream",
     "text": [
      "obesity  저체중   정상   비만\n",
      "sex                   \n",
      "F         46  256   56\n",
      "M         12  194  116\n"
     ]
    },
    {
     "data": {
      "text/plain": [
       "Chi2ContingencyResult(statistic=np.float64(47.63110585739196), pvalue=np.float64(4.5398006174993676e-11), dof=2, expected_freq=array([[ 30.535, 236.912,  90.553],\n",
       "       [ 27.465, 213.088,  81.447]]))"
      ]
     },
     "execution_count": 7,
     "metadata": {},
     "output_type": "execute_result"
    }
   ],
   "source": [
    "obesity_age20s = pd.crosstab(data[data.age_group == '20대'].sex, data[data.age_group == '20대'].obesity)\n",
    "print(obesity_age20s)\n",
    "stats.chi2_contingency(obesity_age20s)"
   ]
  },
  {
   "cell_type": "code",
   "execution_count": 8,
   "metadata": {},
   "outputs": [],
   "source": [
    "# chi^2 = 47.63, p = 4.54*10^-11 으로 통계적으로 유의하게 다른 것을 확인."
   ]
  },
  {
   "cell_type": "markdown",
   "metadata": {},
   "source": [
    "## 20대 남녀 데이터만 따로 저장하여 처리"
   ]
  },
  {
   "cell_type": "code",
   "execution_count": 8,
   "metadata": {},
   "outputs": [
    {
     "data": {
      "text/html": [
       "<div>\n",
       "<style scoped>\n",
       "    .dataframe tbody tr th:only-of-type {\n",
       "        vertical-align: middle;\n",
       "    }\n",
       "\n",
       "    .dataframe tbody tr th {\n",
       "        vertical-align: top;\n",
       "    }\n",
       "\n",
       "    .dataframe thead th {\n",
       "        text-align: right;\n",
       "    }\n",
       "</style>\n",
       "<table border=\"1\" class=\"dataframe\">\n",
       "  <thead>\n",
       "    <tr style=\"text-align: right;\">\n",
       "      <th></th>\n",
       "      <th>ID</th>\n",
       "      <th>sex</th>\n",
       "      <th>age</th>\n",
       "      <th>height</th>\n",
       "      <th>weight</th>\n",
       "      <th>waist</th>\n",
       "      <th>BMI</th>\n",
       "      <th>Blood_glucose</th>\n",
       "      <th>obesity</th>\n",
       "      <th>age_group</th>\n",
       "    </tr>\n",
       "  </thead>\n",
       "  <tbody>\n",
       "    <tr>\n",
       "      <th>12</th>\n",
       "      <td>A901024803</td>\n",
       "      <td>M</td>\n",
       "      <td>27</td>\n",
       "      <td>188.4</td>\n",
       "      <td>126.7</td>\n",
       "      <td>106.9</td>\n",
       "      <td>35.695611</td>\n",
       "      <td>90</td>\n",
       "      <td>비만</td>\n",
       "      <td>20대</td>\n",
       "    </tr>\n",
       "    <tr>\n",
       "      <th>13</th>\n",
       "      <td>A901024804</td>\n",
       "      <td>M</td>\n",
       "      <td>26</td>\n",
       "      <td>177.9</td>\n",
       "      <td>85.5</td>\n",
       "      <td>90.5</td>\n",
       "      <td>27.015575</td>\n",
       "      <td>96</td>\n",
       "      <td>비만</td>\n",
       "      <td>20대</td>\n",
       "    </tr>\n",
       "    <tr>\n",
       "      <th>68</th>\n",
       "      <td>A903022202</td>\n",
       "      <td>F</td>\n",
       "      <td>23</td>\n",
       "      <td>158.8</td>\n",
       "      <td>42.5</td>\n",
       "      <td>61.6</td>\n",
       "      <td>16.853416</td>\n",
       "      <td>86</td>\n",
       "      <td>저체중</td>\n",
       "      <td>20대</td>\n",
       "    </tr>\n",
       "    <tr>\n",
       "      <th>104</th>\n",
       "      <td>A904024203</td>\n",
       "      <td>M</td>\n",
       "      <td>29</td>\n",
       "      <td>188.2</td>\n",
       "      <td>67.0</td>\n",
       "      <td>71.6</td>\n",
       "      <td>18.916273</td>\n",
       "      <td>93</td>\n",
       "      <td>정상</td>\n",
       "      <td>20대</td>\n",
       "    </tr>\n",
       "    <tr>\n",
       "      <th>113</th>\n",
       "      <td>A904027203</td>\n",
       "      <td>F</td>\n",
       "      <td>26</td>\n",
       "      <td>169.9</td>\n",
       "      <td>58.5</td>\n",
       "      <td>66.5</td>\n",
       "      <td>20.266050</td>\n",
       "      <td>85</td>\n",
       "      <td>정상</td>\n",
       "      <td>20대</td>\n",
       "    </tr>\n",
       "    <tr>\n",
       "      <th>...</th>\n",
       "      <td>...</td>\n",
       "      <td>...</td>\n",
       "      <td>...</td>\n",
       "      <td>...</td>\n",
       "      <td>...</td>\n",
       "      <td>...</td>\n",
       "      <td>...</td>\n",
       "      <td>...</td>\n",
       "      <td>...</td>\n",
       "      <td>...</td>\n",
       "    </tr>\n",
       "    <tr>\n",
       "      <th>5931</th>\n",
       "      <td>R903029201</td>\n",
       "      <td>M</td>\n",
       "      <td>25</td>\n",
       "      <td>193.0</td>\n",
       "      <td>74.5</td>\n",
       "      <td>76.4</td>\n",
       "      <td>20.000537</td>\n",
       "      <td>95</td>\n",
       "      <td>정상</td>\n",
       "      <td>20대</td>\n",
       "    </tr>\n",
       "    <tr>\n",
       "      <th>5934</th>\n",
       "      <td>R903033301</td>\n",
       "      <td>M</td>\n",
       "      <td>25</td>\n",
       "      <td>174.7</td>\n",
       "      <td>73.8</td>\n",
       "      <td>89.2</td>\n",
       "      <td>24.180794</td>\n",
       "      <td>97</td>\n",
       "      <td>정상</td>\n",
       "      <td>20대</td>\n",
       "    </tr>\n",
       "    <tr>\n",
       "      <th>5935</th>\n",
       "      <td>R903034901</td>\n",
       "      <td>M</td>\n",
       "      <td>22</td>\n",
       "      <td>173.2</td>\n",
       "      <td>67.1</td>\n",
       "      <td>73.1</td>\n",
       "      <td>22.367979</td>\n",
       "      <td>94</td>\n",
       "      <td>정상</td>\n",
       "      <td>20대</td>\n",
       "    </tr>\n",
       "    <tr>\n",
       "      <th>5936</th>\n",
       "      <td>R903035101</td>\n",
       "      <td>M</td>\n",
       "      <td>22</td>\n",
       "      <td>175.5</td>\n",
       "      <td>63.0</td>\n",
       "      <td>74.1</td>\n",
       "      <td>20.454379</td>\n",
       "      <td>99</td>\n",
       "      <td>정상</td>\n",
       "      <td>20대</td>\n",
       "    </tr>\n",
       "    <tr>\n",
       "      <th>5957</th>\n",
       "      <td>R904026303</td>\n",
       "      <td>M</td>\n",
       "      <td>24</td>\n",
       "      <td>174.8</td>\n",
       "      <td>98.9</td>\n",
       "      <td>102.3</td>\n",
       "      <td>32.367819</td>\n",
       "      <td>102</td>\n",
       "      <td>비만</td>\n",
       "      <td>20대</td>\n",
       "    </tr>\n",
       "  </tbody>\n",
       "</table>\n",
       "<p>680 rows × 10 columns</p>\n",
       "</div>"
      ],
      "text/plain": [
       "              ID sex  age  height  weight  waist        BMI  Blood_glucose  \\\n",
       "12    A901024803   M   27   188.4   126.7  106.9  35.695611             90   \n",
       "13    A901024804   M   26   177.9    85.5   90.5  27.015575             96   \n",
       "68    A903022202   F   23   158.8    42.5   61.6  16.853416             86   \n",
       "104   A904024203   M   29   188.2    67.0   71.6  18.916273             93   \n",
       "113   A904027203   F   26   169.9    58.5   66.5  20.266050             85   \n",
       "...          ...  ..  ...     ...     ...    ...        ...            ...   \n",
       "5931  R903029201   M   25   193.0    74.5   76.4  20.000537             95   \n",
       "5934  R903033301   M   25   174.7    73.8   89.2  24.180794             97   \n",
       "5935  R903034901   M   22   173.2    67.1   73.1  22.367979             94   \n",
       "5936  R903035101   M   22   175.5    63.0   74.1  20.454379             99   \n",
       "5957  R904026303   M   24   174.8    98.9  102.3  32.367819            102   \n",
       "\n",
       "     obesity age_group  \n",
       "12        비만       20대  \n",
       "13        비만       20대  \n",
       "68       저체중       20대  \n",
       "104       정상       20대  \n",
       "113       정상       20대  \n",
       "...      ...       ...  \n",
       "5931      정상       20대  \n",
       "5934      정상       20대  \n",
       "5935      정상       20대  \n",
       "5936      정상       20대  \n",
       "5957      비만       20대  \n",
       "\n",
       "[680 rows x 10 columns]"
      ]
     },
     "execution_count": 8,
     "metadata": {},
     "output_type": "execute_result"
    }
   ],
   "source": [
    "data_age20 = data[data.age_group == '20대']\n",
    "data_age20"
   ]
  },
  {
   "cell_type": "code",
   "execution_count": 9,
   "metadata": {},
   "outputs": [
    {
     "data": {
      "image/png": "[encoded data removed]",
      "text/plain": [
       "<Figure size 640x480 with 1 Axes>"
      ]
     },
     "metadata": {},
     "output_type": "display_data"
    }
   ],
   "source": [
    "sns.boxplot(data = data_age20, y = 'Blood_glucose', x = 'obesity')\n",
    "plt.show()"
   ]
  },
  {
   "cell_type": "markdown",
   "metadata": {},
   "source": [
    "### 체중 분류에 따른 혈당(Blood_glucose) 차이가 나는지 ANOVA로 검증"
   ]
  },
  {
   "cell_type": "code",
   "execution_count": 10,
   "metadata": {},
   "outputs": [
    {
     "data": {
      "text/plain": [
       "F_onewayResult(statistic=np.float64(21.84720724177906), pvalue=np.float64(6.389957551575535e-10))"
      ]
     },
     "execution_count": 10,
     "metadata": {},
     "output_type": "execute_result"
    }
   ],
   "source": [
    "# stats.f-oneway() 함수를 이용한 one-way ANOVA\n",
    "\n",
    "Glucose1 = data_age20[data_age20.obesity == '저체중'].Blood_glucose\n",
    "Glucose2 = data_age20[data_age20.obesity == '정상'].Blood_glucose\n",
    "Glucose3 = data_age20[data_age20.obesity == '비만'].Blood_glucose\n",
    "\n",
    "oneway_anova_result = stats.f_oneway(Glucose1, Glucose2, Glucose3)\n",
    "oneway_anova_result"
   ]
  },
  {
   "cell_type": "code",
   "execution_count": 11,
   "metadata": {},
   "outputs": [
    {
     "data": {
      "text/html": [
       "<div>\n",
       "<style scoped>\n",
       "    .dataframe tbody tr th:only-of-type {\n",
       "        vertical-align: middle;\n",
       "    }\n",
       "\n",
       "    .dataframe tbody tr th {\n",
       "        vertical-align: top;\n",
       "    }\n",
       "\n",
       "    .dataframe thead th {\n",
       "        text-align: right;\n",
       "    }\n",
       "</style>\n",
       "<table border=\"1\" class=\"dataframe\">\n",
       "  <thead>\n",
       "    <tr style=\"text-align: right;\">\n",
       "      <th></th>\n",
       "      <th>sum_sq</th>\n",
       "      <th>df</th>\n",
       "      <th>F</th>\n",
       "      <th>PR(&gt;F)</th>\n",
       "    </tr>\n",
       "  </thead>\n",
       "  <tbody>\n",
       "    <tr>\n",
       "      <th>obesity</th>\n",
       "      <td>2956.207059</td>\n",
       "      <td>2.0</td>\n",
       "      <td>21.847207</td>\n",
       "      <td>6.389958e-10</td>\n",
       "    </tr>\n",
       "    <tr>\n",
       "      <th>Residual</th>\n",
       "      <td>45803.387059</td>\n",
       "      <td>677.0</td>\n",
       "      <td>NaN</td>\n",
       "      <td>NaN</td>\n",
       "    </tr>\n",
       "  </tbody>\n",
       "</table>\n",
       "</div>"
      ],
      "text/plain": [
       "                sum_sq     df          F        PR(>F)\n",
       "obesity    2956.207059    2.0  21.847207  6.389958e-10\n",
       "Residual  45803.387059  677.0        NaN           NaN"
      ]
     },
     "execution_count": 11,
     "metadata": {},
     "output_type": "execute_result"
    }
   ],
   "source": [
    "# OLS (Ordinary Least Squares) 기반 모델 피팅을 이용한 ANOVA \n",
    "\n",
    "results = smf.ols('Blood_glucose ~ obesity', data = data_age20).fit()\n",
    "sm.stats.anova_lm(results, typ=2)"
   ]
  },
  {
   "cell_type": "markdown",
   "metadata": {},
   "source": [
    "### 그룹 간에 유의한 차이가 있는 경우 사후 검정(post-hoc analysis) 시행"
   ]
  },
  {
   "cell_type": "code",
   "execution_count": 12,
   "metadata": {},
   "outputs": [
    {
     "data": {
      "text/html": [
       "<table class=\"simpletable\">\n",
       "<caption>Multiple Comparison of Means - Tukey HSD, FWER=0.05</caption>\n",
       "<tr>\n",
       "  <th>group1</th> <th>group2</th> <th>meandiff</th>  <th>p-adj</th>  <th>lower</th>   <th>upper</th>  <th>reject</th>\n",
       "</tr>\n",
       "<tr>\n",
       "    <td>비만</td>     <td>저체중</td>   <td>-5.9463</td>   <td>0.0</td>  <td>-8.8799</td> <td>-3.0127</td>  <td>True</td> \n",
       "</tr>\n",
       "<tr>\n",
       "    <td>비만</td>     <td>정상</td>    <td>-4.5567</td>   <td>0.0</td>  <td>-6.2887</td> <td>-2.8247</td>  <td>True</td> \n",
       "</tr>\n",
       "<tr>\n",
       "    <td>저체중</td>    <td>정상</td>    <td>1.3896</td>  <td>0.4471</td> <td>-1.3058</td>  <td>4.085</td>   <td>False</td>\n",
       "</tr>\n",
       "</table>"
      ],
      "text/latex": [
       "\\begin{center}\n",
       "\\begin{tabular}{ccccccc}\n",
       "\\toprule\n",
       "\\textbf{group1} & \\textbf{group2} & \\textbf{meandiff} & \\textbf{p-adj} & \\textbf{lower} & \\textbf{upper} & \\textbf{reject}  \\\\\n",
       "\\midrule\n",
       "       비만       &       저체중       &      -5.9463      &      0.0       &    -8.8799     &    -3.0127     &       True       \\\\\n",
       "       비만       &        정상       &      -4.5567      &      0.0       &    -6.2887     &    -2.8247     &       True       \\\\\n",
       "      저체중       &        정상       &       1.3896      &     0.4471     &    -1.3058     &     4.085      &      False       \\\\\n",
       "\\bottomrule\n",
       "\\end{tabular}\n",
       "%\\caption{Multiple Comparison of Means - Tukey HSD, FWER=0.05}\n",
       "\\end{center}"
      ],
      "text/plain": [
       "<class 'statsmodels.iolib.table.SimpleTable'>"
      ]
     },
     "execution_count": 12,
     "metadata": {},
     "output_type": "execute_result"
    }
   ],
   "source": [
    "# 사후 검정 (Post-hoc analysis)\n",
    "# ANOVA가 유의하게 나온 경우, 어느 그룹 쌍 간에 유의한 차이가 나는지 후속 분석.\n",
    "\n",
    "from statsmodels.stats.multicomp import pairwise_tukeyhsd\n",
    "\n",
    "posthoc = pairwise_tukeyhsd(data_age20['Blood_glucose'], data_age20['obesity'], alpha=0.05)\n",
    "posthoc.summary()"
   ]
  },
  {
   "cell_type": "code",
   "execution_count": 13,
   "metadata": {},
   "outputs": [
    {
     "data": {
      "image/png": "[encoded data removed]",
      "text/plain": [
       "<Figure size 640x480 with 1 Axes>"
      ]
     },
     "metadata": {},
     "output_type": "display_data"
    }
   ],
   "source": [
    "sns.barplot(data = data_age20, y = 'Blood_glucose', x = 'obesity')\n",
    "plt.show()"
   ]
  },
  {
   "cell_type": "code",
   "execution_count": 14,
   "metadata": {},
   "outputs": [
    {
     "data": {
      "image/png": "[encoded data removed]",
      "text/plain": [
       "<Figure size 640x480 with 1 Axes>"
      ]
     },
     "metadata": {},
     "output_type": "display_data"
    }
   ],
   "source": [
    "sns.stripplot(data = data_age20, y = 'Blood_glucose', x = 'obesity')\n",
    "plt.show()"
   ]
  },
  {
   "cell_type": "code",
   "execution_count": 15,
   "metadata": {},
   "outputs": [
    {
     "name": "stderr",
     "output_type": "stream",
     "text": [
      "/Users/idowon/Library/Mobile Documents/com~apple~CloudDocs/Study/2025-school/2025-data-literacy/.venv/lib/python3.11/site-packages/seaborn/categorical.py:3399: UserWarning: 40.7% of the points cannot be placed; you may want to decrease the size of the markers or use stripplot.\n",
      "  warnings.warn(msg, UserWarning)\n",
      "/Users/idowon/Library/Mobile Documents/com~apple~CloudDocs/Study/2025-school/2025-data-literacy/.venv/lib/python3.11/site-packages/seaborn/categorical.py:3399: UserWarning: 52.4% of the points cannot be placed; you may want to decrease the size of the markers or use stripplot.\n",
      "  warnings.warn(msg, UserWarning)\n",
      "/Users/idowon/Library/Mobile Documents/com~apple~CloudDocs/Study/2025-school/2025-data-literacy/.venv/lib/python3.11/site-packages/seaborn/categorical.py:3399: UserWarning: 9.3% of the points cannot be placed; you may want to decrease the size of the markers or use stripplot.\n",
      "  warnings.warn(msg, UserWarning)\n"
     ]
    },
    {
     "data": {
      "image/png": "[encoded data removed]",
      "text/plain": [
       "<Figure size 640x480 with 1 Axes>"
      ]
     },
     "metadata": {},
     "output_type": "display_data"
    }
   ],
   "source": [
    "sns.swarmplot(data = data_age20, y = 'Blood_glucose', x = 'obesity')\n",
    "plt.show()"
   ]
  },
  {
   "cell_type": "code",
   "execution_count": 16,
   "metadata": {},
   "outputs": [
    {
     "data": {
      "image/png": "[encoded data removed]",
      "text/plain": [
       "<Figure size 640x480 with 1 Axes>"
      ]
     },
     "metadata": {},
     "output_type": "display_data"
    }
   ],
   "source": [
    "sns.swarmplot(data = data_age20, y = 'Blood_glucose', x = 'obesity', size = 2)\n",
    "plt.show()"
   ]
  },
  {
   "cell_type": "markdown",
   "metadata": {},
   "source": [
    "### 체중분류(obesity)에 따라 키(height)가 다른지 boxplot을 그리고 ANOVA로 분석해본다."
   ]
  },
  {
   "cell_type": "code",
   "execution_count": 17,
   "metadata": {},
   "outputs": [
    {
     "data": {
      "image/png": "[encoded data removed]",
      "text/plain": [
       "<Figure size 640x480 with 1 Axes>"
      ]
     },
     "metadata": {},
     "output_type": "display_data"
    }
   ],
   "source": [
    "sns.boxplot(data=data_age20, x='obesity', y='height')\n",
    "plt.show()"
   ]
  },
  {
   "cell_type": "code",
   "execution_count": 18,
   "metadata": {},
   "outputs": [
    {
     "data": {
      "text/html": [
       "<div>\n",
       "<style scoped>\n",
       "    .dataframe tbody tr th:only-of-type {\n",
       "        vertical-align: middle;\n",
       "    }\n",
       "\n",
       "    .dataframe tbody tr th {\n",
       "        vertical-align: top;\n",
       "    }\n",
       "\n",
       "    .dataframe thead th {\n",
       "        text-align: right;\n",
       "    }\n",
       "</style>\n",
       "<table border=\"1\" class=\"dataframe\">\n",
       "  <thead>\n",
       "    <tr style=\"text-align: right;\">\n",
       "      <th></th>\n",
       "      <th>sum_sq</th>\n",
       "      <th>df</th>\n",
       "      <th>F</th>\n",
       "      <th>PR(&gt;F)</th>\n",
       "    </tr>\n",
       "  </thead>\n",
       "  <tbody>\n",
       "    <tr>\n",
       "      <th>obesity</th>\n",
       "      <td>2165.326067</td>\n",
       "      <td>2.0</td>\n",
       "      <td>15.186361</td>\n",
       "      <td>3.534370e-07</td>\n",
       "    </tr>\n",
       "    <tr>\n",
       "      <th>Residual</th>\n",
       "      <td>48264.549683</td>\n",
       "      <td>677.0</td>\n",
       "      <td>NaN</td>\n",
       "      <td>NaN</td>\n",
       "    </tr>\n",
       "  </tbody>\n",
       "</table>\n",
       "</div>"
      ],
      "text/plain": [
       "                sum_sq     df          F        PR(>F)\n",
       "obesity    2165.326067    2.0  15.186361  3.534370e-07\n",
       "Residual  48264.549683  677.0        NaN           NaN"
      ]
     },
     "execution_count": 18,
     "metadata": {},
     "output_type": "execute_result"
    }
   ],
   "source": [
    "results = smf.ols('height ~ obesity', data = data_age20).fit()\n",
    "sm.stats.anova_lm(results, typ=2)"
   ]
  },
  {
   "cell_type": "code",
   "execution_count": 19,
   "metadata": {},
   "outputs": [
    {
     "data": {
      "text/html": [
       "<table class=\"simpletable\">\n",
       "<caption>Multiple Comparison of Means - Tukey HSD, FWER=0.05</caption>\n",
       "<tr>\n",
       "  <th>group1</th> <th>group2</th> <th>meandiff</th>  <th>p-adj</th>  <th>lower</th>   <th>upper</th>  <th>reject</th>\n",
       "</tr>\n",
       "<tr>\n",
       "    <td>비만</td>     <td>저체중</td>   <td>-6.2813</td>   <td>0.0</td>  <td>-9.2927</td> <td>-3.2699</td>  <td>True</td> \n",
       "</tr>\n",
       "<tr>\n",
       "    <td>비만</td>     <td>정상</td>    <td>-3.3111</td>   <td>0.0</td>  <td>-5.089</td>  <td>-1.5332</td>  <td>True</td> \n",
       "</tr>\n",
       "<tr>\n",
       "    <td>저체중</td>    <td>정상</td>    <td>2.9702</td>  <td>0.0319</td> <td>0.2033</td>  <td>5.7371</td>   <td>True</td> \n",
       "</tr>\n",
       "</table>"
      ],
      "text/latex": [
       "\\begin{center}\n",
       "\\begin{tabular}{ccccccc}\n",
       "\\toprule\n",
       "\\textbf{group1} & \\textbf{group2} & \\textbf{meandiff} & \\textbf{p-adj} & \\textbf{lower} & \\textbf{upper} & \\textbf{reject}  \\\\\n",
       "\\midrule\n",
       "       비만       &       저체중       &      -6.2813      &      0.0       &    -9.2927     &    -3.2699     &       True       \\\\\n",
       "       비만       &        정상       &      -3.3111      &      0.0       &     -5.089     &    -1.5332     &       True       \\\\\n",
       "      저체중       &        정상       &       2.9702      &     0.0319     &     0.2033     &     5.7371     &       True       \\\\\n",
       "\\bottomrule\n",
       "\\end{tabular}\n",
       "%\\caption{Multiple Comparison of Means - Tukey HSD, FWER=0.05}\n",
       "\\end{center}"
      ],
      "text/plain": [
       "<class 'statsmodels.iolib.table.SimpleTable'>"
      ]
     },
     "execution_count": 19,
     "metadata": {},
     "output_type": "execute_result"
    }
   ],
   "source": [
    "from statsmodels.stats.multicomp import pairwise_tukeyhsd\n",
    "\n",
    "posthoc = pairwise_tukeyhsd(data_age20['height'], data_age20['obesity'], alpha=0.05)\n",
    "posthoc.summary()"
   ]
  },
  {
   "cell_type": "code",
   "execution_count": 20,
   "metadata": {},
   "outputs": [
    {
     "data": {
      "image/png": "[encoded data removed]",
      "text/plain": [
       "<Figure size 640x480 with 1 Axes>"
      ]
     },
     "metadata": {},
     "output_type": "display_data"
    }
   ],
   "source": [
    "# 저체중 - 정상 - 비만 의 키 차이가 순수히 체중분류에 따른 것일까? \n",
    "# : 성별 분포를 비교해본다.\n",
    "sns.countplot(data = data_age20, x='sex', hue = 'obesity')\n",
    "plt.show()"
   ]
  },
  {
   "cell_type": "code",
   "execution_count": 21,
   "metadata": {},
   "outputs": [
    {
     "data": {
      "image/png": "[encoded data removed]",
      "text/plain": [
       "<Figure size 640x480 with 1 Axes>"
      ]
     },
     "metadata": {},
     "output_type": "display_data"
    }
   ],
   "source": [
    "sns.stripplot(data = data_age20, x='obesity', y='height', hue='sex')\n",
    "plt.show()"
   ]
  },
  {
   "cell_type": "code",
   "execution_count": 22,
   "metadata": {},
   "outputs": [
    {
     "name": "stderr",
     "output_type": "stream",
     "text": [
      "/Users/idowon/Library/Mobile Documents/com~apple~CloudDocs/Study/2025-school/2025-data-literacy/.venv/lib/python3.11/site-packages/seaborn/categorical.py:3399: UserWarning: 6.9% of the points cannot be placed; you may want to decrease the size of the markers or use stripplot.\n",
      "  warnings.warn(msg, UserWarning)\n"
     ]
    },
    {
     "data": {
      "image/png": "[encoded data removed]",
      "text/plain": [
       "<Figure size 640x480 with 1 Axes>"
      ]
     },
     "metadata": {},
     "output_type": "display_data"
    }
   ],
   "source": [
    "sns.swarmplot(data = data_age20, x='obesity', y='height', hue='sex')\n",
    "plt.show()"
   ]
  },
  {
   "cell_type": "markdown",
   "metadata": {},
   "source": [
    "### 성별로 나누어서 각각 따로 비교한 경우"
   ]
  },
  {
   "cell_type": "code",
   "execution_count": 23,
   "metadata": {},
   "outputs": [
    {
     "data": {
      "image/png": "[encoded data removed]",
      "text/plain": [
       "<Figure size 640x480 with 1 Axes>"
      ]
     },
     "metadata": {},
     "output_type": "display_data"
    }
   ],
   "source": [
    "# 남성\n",
    "sns.boxplot(data = data_age20.query(\"sex=='M'\"), x='obesity', y='height', color = 'skyblue')\n",
    "plt.show()"
   ]
  },
  {
   "cell_type": "code",
   "execution_count": 24,
   "metadata": {},
   "outputs": [
    {
     "data": {
      "image/png": "[encoded data removed]",
      "text/plain": [
       "<Figure size 640x480 with 1 Axes>"
      ]
     },
     "metadata": {},
     "output_type": "display_data"
    }
   ],
   "source": [
    "sns.swarmplot(data = data_age20.query(\"sex=='M'\"), x='obesity', y='height', color = 'blue')\n",
    "plt.show()"
   ]
  },
  {
   "cell_type": "code",
   "execution_count": 25,
   "metadata": {},
   "outputs": [
    {
     "data": {
      "text/html": [
       "<div>\n",
       "<style scoped>\n",
       "    .dataframe tbody tr th:only-of-type {\n",
       "        vertical-align: middle;\n",
       "    }\n",
       "\n",
       "    .dataframe tbody tr th {\n",
       "        vertical-align: top;\n",
       "    }\n",
       "\n",
       "    .dataframe thead th {\n",
       "        text-align: right;\n",
       "    }\n",
       "</style>\n",
       "<table border=\"1\" class=\"dataframe\">\n",
       "  <thead>\n",
       "    <tr style=\"text-align: right;\">\n",
       "      <th></th>\n",
       "      <th>sum_sq</th>\n",
       "      <th>df</th>\n",
       "      <th>F</th>\n",
       "      <th>PR(&gt;F)</th>\n",
       "    </tr>\n",
       "  </thead>\n",
       "  <tbody>\n",
       "    <tr>\n",
       "      <th>obesity</th>\n",
       "      <td>9.107741</td>\n",
       "      <td>2.0</td>\n",
       "      <td>0.131272</td>\n",
       "      <td>0.877026</td>\n",
       "    </tr>\n",
       "    <tr>\n",
       "      <th>Residual</th>\n",
       "      <td>11066.195271</td>\n",
       "      <td>319.0</td>\n",
       "      <td>NaN</td>\n",
       "      <td>NaN</td>\n",
       "    </tr>\n",
       "  </tbody>\n",
       "</table>\n",
       "</div>"
      ],
      "text/plain": [
       "                sum_sq     df         F    PR(>F)\n",
       "obesity       9.107741    2.0  0.131272  0.877026\n",
       "Residual  11066.195271  319.0       NaN       NaN"
      ]
     },
     "execution_count": 25,
     "metadata": {},
     "output_type": "execute_result"
    }
   ],
   "source": [
    "# ANOVA 분석 \n",
    "# 남성\n",
    "results = smf.ols('height ~ obesity', data = data_age20.query(\"sex=='M'\")).fit()\n",
    "sm.stats.anova_lm(results, typ=2)"
   ]
  },
  {
   "cell_type": "code",
   "execution_count": 26,
   "metadata": {},
   "outputs": [
    {
     "data": {
      "image/png": "[encoded data removed]",
      "text/plain": [
       "<Figure size 640x480 with 1 Axes>"
      ]
     },
     "metadata": {},
     "output_type": "display_data"
    }
   ],
   "source": [
    "# 여성\n",
    "sns.boxplot(data = data_age20.query(\"sex=='F'\"), x='obesity', y='height', color = 'pink')\n",
    "plt.show()"
   ]
  },
  {
   "cell_type": "code",
   "execution_count": 27,
   "metadata": {},
   "outputs": [
    {
     "data": {
      "image/png": "[encoded data removed]",
      "text/plain": [
       "<Figure size 640x480 with 1 Axes>"
      ]
     },
     "metadata": {},
     "output_type": "display_data"
    }
   ],
   "source": [
    "sns.swarmplot(data = data_age20.query(\"sex=='F'\"), x='obesity', y='height', color = 'red')\n",
    "plt.show()"
   ]
  },
  {
   "cell_type": "code",
   "execution_count": 28,
   "metadata": {},
   "outputs": [
    {
     "data": {
      "text/html": [
       "<div>\n",
       "<style scoped>\n",
       "    .dataframe tbody tr th:only-of-type {\n",
       "        vertical-align: middle;\n",
       "    }\n",
       "\n",
       "    .dataframe tbody tr th {\n",
       "        vertical-align: top;\n",
       "    }\n",
       "\n",
       "    .dataframe thead th {\n",
       "        text-align: right;\n",
       "    }\n",
       "</style>\n",
       "<table border=\"1\" class=\"dataframe\">\n",
       "  <thead>\n",
       "    <tr style=\"text-align: right;\">\n",
       "      <th></th>\n",
       "      <th>sum_sq</th>\n",
       "      <th>df</th>\n",
       "      <th>F</th>\n",
       "      <th>PR(&gt;F)</th>\n",
       "    </tr>\n",
       "  </thead>\n",
       "  <tbody>\n",
       "    <tr>\n",
       "      <th>obesity</th>\n",
       "      <td>14.705088</td>\n",
       "      <td>2.0</td>\n",
       "      <td>0.244873</td>\n",
       "      <td>0.782936</td>\n",
       "    </tr>\n",
       "    <tr>\n",
       "      <th>Residual</th>\n",
       "      <td>10659.205638</td>\n",
       "      <td>355.0</td>\n",
       "      <td>NaN</td>\n",
       "      <td>NaN</td>\n",
       "    </tr>\n",
       "  </tbody>\n",
       "</table>\n",
       "</div>"
      ],
      "text/plain": [
       "                sum_sq     df         F    PR(>F)\n",
       "obesity      14.705088    2.0  0.244873  0.782936\n",
       "Residual  10659.205638  355.0       NaN       NaN"
      ]
     },
     "execution_count": 28,
     "metadata": {},
     "output_type": "execute_result"
    }
   ],
   "source": [
    "# ANOVA 분석 \n",
    "# 여성\n",
    "results = smf.ols('height ~ obesity', data = data_age20.query(\"sex=='F'\")).fit()\n",
    "sm.stats.anova_lm(results, typ=2)"
   ]
  },
  {
   "cell_type": "markdown",
   "metadata": {},
   "source": [
    "---"
   ]
  },
  {
   "cell_type": "markdown",
   "metadata": {},
   "source": [
    "## 비교할 그룹 간의 성별 비율 맞추기 (예시)\n",
    "비만 vs. 정상체중 에서 혈당을 비교하고자 하는데, 비만 집단에서 남성의 비율이 더 높다."
   ]
  },
  {
   "cell_type": "code",
   "execution_count": 29,
   "metadata": {},
   "outputs": [
    {
     "data": {
      "image/png": "[encoded data removed]",
      "text/plain": [
       "<Figure size 640x480 with 1 Axes>"
      ]
     },
     "metadata": {},
     "output_type": "display_data"
    }
   ],
   "source": [
    "sns.countplot(data = data_age20, x='obesity', hue = 'sex')\n",
    "plt.show()"
   ]
  },
  {
   "cell_type": "code",
   "execution_count": 30,
   "metadata": {},
   "outputs": [
    {
     "data": {
      "text/html": [
       "<div>\n",
       "<style scoped>\n",
       "    .dataframe tbody tr th:only-of-type {\n",
       "        vertical-align: middle;\n",
       "    }\n",
       "\n",
       "    .dataframe tbody tr th {\n",
       "        vertical-align: top;\n",
       "    }\n",
       "\n",
       "    .dataframe thead th {\n",
       "        text-align: right;\n",
       "    }\n",
       "</style>\n",
       "<table border=\"1\" class=\"dataframe\">\n",
       "  <thead>\n",
       "    <tr style=\"text-align: right;\">\n",
       "      <th></th>\n",
       "      <th>ID</th>\n",
       "      <th>sex</th>\n",
       "      <th>age</th>\n",
       "      <th>height</th>\n",
       "      <th>weight</th>\n",
       "      <th>waist</th>\n",
       "      <th>BMI</th>\n",
       "      <th>Blood_glucose</th>\n",
       "      <th>obesity</th>\n",
       "      <th>age_group</th>\n",
       "    </tr>\n",
       "  </thead>\n",
       "  <tbody>\n",
       "    <tr>\n",
       "      <th>12</th>\n",
       "      <td>A901024803</td>\n",
       "      <td>M</td>\n",
       "      <td>27</td>\n",
       "      <td>188.4</td>\n",
       "      <td>126.7</td>\n",
       "      <td>106.9</td>\n",
       "      <td>35.695611</td>\n",
       "      <td>90</td>\n",
       "      <td>비만</td>\n",
       "      <td>20대</td>\n",
       "    </tr>\n",
       "    <tr>\n",
       "      <th>13</th>\n",
       "      <td>A901024804</td>\n",
       "      <td>M</td>\n",
       "      <td>26</td>\n",
       "      <td>177.9</td>\n",
       "      <td>85.5</td>\n",
       "      <td>90.5</td>\n",
       "      <td>27.015575</td>\n",
       "      <td>96</td>\n",
       "      <td>비만</td>\n",
       "      <td>20대</td>\n",
       "    </tr>\n",
       "    <tr>\n",
       "      <th>124</th>\n",
       "      <td>A905021101</td>\n",
       "      <td>M</td>\n",
       "      <td>27</td>\n",
       "      <td>184.7</td>\n",
       "      <td>109.2</td>\n",
       "      <td>106.4</td>\n",
       "      <td>32.010234</td>\n",
       "      <td>139</td>\n",
       "      <td>비만</td>\n",
       "      <td>20대</td>\n",
       "    </tr>\n",
       "    <tr>\n",
       "      <th>137</th>\n",
       "      <td>A905031002</td>\n",
       "      <td>M</td>\n",
       "      <td>28</td>\n",
       "      <td>181.2</td>\n",
       "      <td>144.2</td>\n",
       "      <td>129.7</td>\n",
       "      <td>43.918639</td>\n",
       "      <td>88</td>\n",
       "      <td>비만</td>\n",
       "      <td>20대</td>\n",
       "    </tr>\n",
       "    <tr>\n",
       "      <th>164</th>\n",
       "      <td>A906024401</td>\n",
       "      <td>M</td>\n",
       "      <td>26</td>\n",
       "      <td>182.9</td>\n",
       "      <td>98.5</td>\n",
       "      <td>99.8</td>\n",
       "      <td>29.444814</td>\n",
       "      <td>96</td>\n",
       "      <td>비만</td>\n",
       "      <td>20대</td>\n",
       "    </tr>\n",
       "  </tbody>\n",
       "</table>\n",
       "</div>"
      ],
      "text/plain": [
       "             ID sex  age  height  weight  waist        BMI  Blood_glucose  \\\n",
       "12   A901024803   M   27   188.4   126.7  106.9  35.695611             90   \n",
       "13   A901024804   M   26   177.9    85.5   90.5  27.015575             96   \n",
       "124  A905021101   M   27   184.7   109.2  106.4  32.010234            139   \n",
       "137  A905031002   M   28   181.2   144.2  129.7  43.918639             88   \n",
       "164  A906024401   M   26   182.9    98.5   99.8  29.444814             96   \n",
       "\n",
       "    obesity age_group  \n",
       "12       비만       20대  \n",
       "13       비만       20대  \n",
       "124      비만       20대  \n",
       "137      비만       20대  \n",
       "164      비만       20대  "
      ]
     },
     "execution_count": 30,
     "metadata": {},
     "output_type": "execute_result"
    }
   ],
   "source": [
    "data_obese = data_age20[data_age20.obesity == '비만']\n",
    "data_obese.head()"
   ]
  },
  {
   "cell_type": "code",
   "execution_count": 31,
   "metadata": {},
   "outputs": [
    {
     "name": "stdout",
     "output_type": "stream",
     "text": [
      "116 56\n",
      "2.0714285714285716\n"
     ]
    }
   ],
   "source": [
    "# 비만체중 집단 (전체) - 남녀 비율\n",
    "N_male = sum(data_obese.sex=='M')\n",
    "N_female = sum(data_obese.sex=='F')\n",
    "print(N_male, N_female)\n",
    "print(N_male/N_female)"
   ]
  },
  {
   "cell_type": "code",
   "execution_count": 32,
   "metadata": {},
   "outputs": [
    {
     "name": "stdout",
     "output_type": "stream",
     "text": [
      "194 256\n",
      "0.7578125\n"
     ]
    }
   ],
   "source": [
    "# 정상체중 집단 (전체) - 남녀 비율\n",
    "data_normal = data_age20[data_age20.obesity == '정상']\n",
    "print(sum(data_normal.sex=='M'), sum(data_normal.sex=='F'))\n",
    "print(sum(data_normal.sex=='M')/sum(data_normal.sex=='F'))\n",
    "# 남녀 성비가 다름."
   ]
  },
  {
   "cell_type": "code",
   "execution_count": 33,
   "metadata": {},
   "outputs": [],
   "source": [
    "# 비만 집단과 비교하기 위해서, 같은 남/녀 숫자로 정상체중 집단의 샘플을 추출해 통제군(control group) 생성.\n",
    "data_control_M = data_normal[data_normal.sex=='M'].sample(n=N_male)\n",
    "data_control_F = data_normal[data_normal.sex=='F'].sample(n=N_female)"
   ]
  },
  {
   "cell_type": "code",
   "execution_count": 34,
   "metadata": {},
   "outputs": [
    {
     "data": {
      "text/html": [
       "<div>\n",
       "<style scoped>\n",
       "    .dataframe tbody tr th:only-of-type {\n",
       "        vertical-align: middle;\n",
       "    }\n",
       "\n",
       "    .dataframe tbody tr th {\n",
       "        vertical-align: top;\n",
       "    }\n",
       "\n",
       "    .dataframe thead th {\n",
       "        text-align: right;\n",
       "    }\n",
       "</style>\n",
       "<table border=\"1\" class=\"dataframe\">\n",
       "  <thead>\n",
       "    <tr style=\"text-align: right;\">\n",
       "      <th></th>\n",
       "      <th>ID</th>\n",
       "      <th>sex</th>\n",
       "      <th>age</th>\n",
       "      <th>height</th>\n",
       "      <th>weight</th>\n",
       "      <th>waist</th>\n",
       "      <th>BMI</th>\n",
       "      <th>Blood_glucose</th>\n",
       "      <th>obesity</th>\n",
       "      <th>age_group</th>\n",
       "    </tr>\n",
       "  </thead>\n",
       "  <tbody>\n",
       "    <tr>\n",
       "      <th>2709</th>\n",
       "      <td>H901027704</td>\n",
       "      <td>M</td>\n",
       "      <td>24</td>\n",
       "      <td>170.1</td>\n",
       "      <td>68.1</td>\n",
       "      <td>80.3</td>\n",
       "      <td>23.536316</td>\n",
       "      <td>89</td>\n",
       "      <td>정상</td>\n",
       "      <td>20대</td>\n",
       "    </tr>\n",
       "    <tr>\n",
       "      <th>2886</th>\n",
       "      <td>H906022304</td>\n",
       "      <td>M</td>\n",
       "      <td>21</td>\n",
       "      <td>168.1</td>\n",
       "      <td>55.9</td>\n",
       "      <td>70.7</td>\n",
       "      <td>19.782282</td>\n",
       "      <td>96</td>\n",
       "      <td>정상</td>\n",
       "      <td>20대</td>\n",
       "    </tr>\n",
       "    <tr>\n",
       "      <th>1873</th>\n",
       "      <td>D902030603</td>\n",
       "      <td>M</td>\n",
       "      <td>22</td>\n",
       "      <td>170.2</td>\n",
       "      <td>71.4</td>\n",
       "      <td>81.4</td>\n",
       "      <td>24.647853</td>\n",
       "      <td>85</td>\n",
       "      <td>정상</td>\n",
       "      <td>20대</td>\n",
       "    </tr>\n",
       "    <tr>\n",
       "      <th>3877</th>\n",
       "      <td>H934032603</td>\n",
       "      <td>M</td>\n",
       "      <td>22</td>\n",
       "      <td>175.3</td>\n",
       "      <td>57.8</td>\n",
       "      <td>74.1</td>\n",
       "      <td>18.808926</td>\n",
       "      <td>80</td>\n",
       "      <td>정상</td>\n",
       "      <td>20대</td>\n",
       "    </tr>\n",
       "    <tr>\n",
       "      <th>1166</th>\n",
       "      <td>B902029803</td>\n",
       "      <td>M</td>\n",
       "      <td>24</td>\n",
       "      <td>179.4</td>\n",
       "      <td>69.1</td>\n",
       "      <td>75.8</td>\n",
       "      <td>21.470056</td>\n",
       "      <td>86</td>\n",
       "      <td>정상</td>\n",
       "      <td>20대</td>\n",
       "    </tr>\n",
       "    <tr>\n",
       "      <th>...</th>\n",
       "      <td>...</td>\n",
       "      <td>...</td>\n",
       "      <td>...</td>\n",
       "      <td>...</td>\n",
       "      <td>...</td>\n",
       "      <td>...</td>\n",
       "      <td>...</td>\n",
       "      <td>...</td>\n",
       "      <td>...</td>\n",
       "      <td>...</td>\n",
       "    </tr>\n",
       "    <tr>\n",
       "      <th>509</th>\n",
       "      <td>A917027203</td>\n",
       "      <td>F</td>\n",
       "      <td>23</td>\n",
       "      <td>163.1</td>\n",
       "      <td>52.4</td>\n",
       "      <td>63.6</td>\n",
       "      <td>19.698056</td>\n",
       "      <td>88</td>\n",
       "      <td>정상</td>\n",
       "      <td>20대</td>\n",
       "    </tr>\n",
       "    <tr>\n",
       "      <th>3622</th>\n",
       "      <td>H927027003</td>\n",
       "      <td>F</td>\n",
       "      <td>23</td>\n",
       "      <td>162.8</td>\n",
       "      <td>56.8</td>\n",
       "      <td>69.8</td>\n",
       "      <td>21.430857</td>\n",
       "      <td>84</td>\n",
       "      <td>정상</td>\n",
       "      <td>20대</td>\n",
       "    </tr>\n",
       "    <tr>\n",
       "      <th>5147</th>\n",
       "      <td>N904029402</td>\n",
       "      <td>F</td>\n",
       "      <td>29</td>\n",
       "      <td>166.8</td>\n",
       "      <td>57.9</td>\n",
       "      <td>72.0</td>\n",
       "      <td>20.810690</td>\n",
       "      <td>92</td>\n",
       "      <td>정상</td>\n",
       "      <td>20대</td>\n",
       "    </tr>\n",
       "    <tr>\n",
       "      <th>352</th>\n",
       "      <td>A912026903</td>\n",
       "      <td>F</td>\n",
       "      <td>22</td>\n",
       "      <td>161.4</td>\n",
       "      <td>61.5</td>\n",
       "      <td>76.7</td>\n",
       "      <td>23.608482</td>\n",
       "      <td>84</td>\n",
       "      <td>정상</td>\n",
       "      <td>20대</td>\n",
       "    </tr>\n",
       "    <tr>\n",
       "      <th>4107</th>\n",
       "      <td>H942026903</td>\n",
       "      <td>F</td>\n",
       "      <td>21</td>\n",
       "      <td>155.3</td>\n",
       "      <td>51.4</td>\n",
       "      <td>69.5</td>\n",
       "      <td>21.311804</td>\n",
       "      <td>89</td>\n",
       "      <td>정상</td>\n",
       "      <td>20대</td>\n",
       "    </tr>\n",
       "  </tbody>\n",
       "</table>\n",
       "<p>172 rows × 10 columns</p>\n",
       "</div>"
      ],
      "text/plain": [
       "              ID sex  age  height  weight  waist        BMI  Blood_glucose  \\\n",
       "2709  H901027704   M   24   170.1    68.1   80.3  23.536316             89   \n",
       "2886  H906022304   M   21   168.1    55.9   70.7  19.782282             96   \n",
       "1873  D902030603   M   22   170.2    71.4   81.4  24.647853             85   \n",
       "3877  H934032603   M   22   175.3    57.8   74.1  18.808926             80   \n",
       "1166  B902029803   M   24   179.4    69.1   75.8  21.470056             86   \n",
       "...          ...  ..  ...     ...     ...    ...        ...            ...   \n",
       "509   A917027203   F   23   163.1    52.4   63.6  19.698056             88   \n",
       "3622  H927027003   F   23   162.8    56.8   69.8  21.430857             84   \n",
       "5147  N904029402   F   29   166.8    57.9   72.0  20.810690             92   \n",
       "352   A912026903   F   22   161.4    61.5   76.7  23.608482             84   \n",
       "4107  H942026903   F   21   155.3    51.4   69.5  21.311804             89   \n",
       "\n",
       "     obesity age_group  \n",
       "2709      정상       20대  \n",
       "2886      정상       20대  \n",
       "1873      정상       20대  \n",
       "3877      정상       20대  \n",
       "1166      정상       20대  \n",
       "...      ...       ...  \n",
       "509       정상       20대  \n",
       "3622      정상       20대  \n",
       "5147      정상       20대  \n",
       "352       정상       20대  \n",
       "4107      정상       20대  \n",
       "\n",
       "[172 rows x 10 columns]"
      ]
     },
     "execution_count": 34,
     "metadata": {},
     "output_type": "execute_result"
    }
   ],
   "source": [
    "data_control = pd.concat([data_control_M, data_control_F])\n",
    "data_control"
   ]
  },
  {
   "cell_type": "code",
   "execution_count": 35,
   "metadata": {},
   "outputs": [
    {
     "name": "stdout",
     "output_type": "stream",
     "text": [
      "116 56\n",
      "116 56\n"
     ]
    }
   ],
   "source": [
    "print(sum(data_obese.sex=='M'), sum(data_obese.sex=='F'))\n",
    "print(sum(data_control.sex=='M'), sum(data_control.sex=='F'))"
   ]
  },
  {
   "cell_type": "code",
   "execution_count": 36,
   "metadata": {},
   "outputs": [
    {
     "data": {
      "text/html": [
       "<div>\n",
       "<style scoped>\n",
       "    .dataframe tbody tr th:only-of-type {\n",
       "        vertical-align: middle;\n",
       "    }\n",
       "\n",
       "    .dataframe tbody tr th {\n",
       "        vertical-align: top;\n",
       "    }\n",
       "\n",
       "    .dataframe thead th {\n",
       "        text-align: right;\n",
       "    }\n",
       "</style>\n",
       "<table border=\"1\" class=\"dataframe\">\n",
       "  <thead>\n",
       "    <tr style=\"text-align: right;\">\n",
       "      <th></th>\n",
       "      <th>ID</th>\n",
       "      <th>sex</th>\n",
       "      <th>age</th>\n",
       "      <th>height</th>\n",
       "      <th>weight</th>\n",
       "      <th>waist</th>\n",
       "      <th>BMI</th>\n",
       "      <th>Blood_glucose</th>\n",
       "      <th>obesity</th>\n",
       "      <th>age_group</th>\n",
       "    </tr>\n",
       "  </thead>\n",
       "  <tbody>\n",
       "    <tr>\n",
       "      <th>12</th>\n",
       "      <td>A901024803</td>\n",
       "      <td>M</td>\n",
       "      <td>27</td>\n",
       "      <td>188.4</td>\n",
       "      <td>126.7</td>\n",
       "      <td>106.9</td>\n",
       "      <td>35.695611</td>\n",
       "      <td>90</td>\n",
       "      <td>비만</td>\n",
       "      <td>20대</td>\n",
       "    </tr>\n",
       "    <tr>\n",
       "      <th>13</th>\n",
       "      <td>A901024804</td>\n",
       "      <td>M</td>\n",
       "      <td>26</td>\n",
       "      <td>177.9</td>\n",
       "      <td>85.5</td>\n",
       "      <td>90.5</td>\n",
       "      <td>27.015575</td>\n",
       "      <td>96</td>\n",
       "      <td>비만</td>\n",
       "      <td>20대</td>\n",
       "    </tr>\n",
       "    <tr>\n",
       "      <th>124</th>\n",
       "      <td>A905021101</td>\n",
       "      <td>M</td>\n",
       "      <td>27</td>\n",
       "      <td>184.7</td>\n",
       "      <td>109.2</td>\n",
       "      <td>106.4</td>\n",
       "      <td>32.010234</td>\n",
       "      <td>139</td>\n",
       "      <td>비만</td>\n",
       "      <td>20대</td>\n",
       "    </tr>\n",
       "    <tr>\n",
       "      <th>137</th>\n",
       "      <td>A905031002</td>\n",
       "      <td>M</td>\n",
       "      <td>28</td>\n",
       "      <td>181.2</td>\n",
       "      <td>144.2</td>\n",
       "      <td>129.7</td>\n",
       "      <td>43.918639</td>\n",
       "      <td>88</td>\n",
       "      <td>비만</td>\n",
       "      <td>20대</td>\n",
       "    </tr>\n",
       "    <tr>\n",
       "      <th>164</th>\n",
       "      <td>A906024401</td>\n",
       "      <td>M</td>\n",
       "      <td>26</td>\n",
       "      <td>182.9</td>\n",
       "      <td>98.5</td>\n",
       "      <td>99.8</td>\n",
       "      <td>29.444814</td>\n",
       "      <td>96</td>\n",
       "      <td>비만</td>\n",
       "      <td>20대</td>\n",
       "    </tr>\n",
       "    <tr>\n",
       "      <th>...</th>\n",
       "      <td>...</td>\n",
       "      <td>...</td>\n",
       "      <td>...</td>\n",
       "      <td>...</td>\n",
       "      <td>...</td>\n",
       "      <td>...</td>\n",
       "      <td>...</td>\n",
       "      <td>...</td>\n",
       "      <td>...</td>\n",
       "      <td>...</td>\n",
       "    </tr>\n",
       "    <tr>\n",
       "      <th>509</th>\n",
       "      <td>A917027203</td>\n",
       "      <td>F</td>\n",
       "      <td>23</td>\n",
       "      <td>163.1</td>\n",
       "      <td>52.4</td>\n",
       "      <td>63.6</td>\n",
       "      <td>19.698056</td>\n",
       "      <td>88</td>\n",
       "      <td>정상</td>\n",
       "      <td>20대</td>\n",
       "    </tr>\n",
       "    <tr>\n",
       "      <th>3622</th>\n",
       "      <td>H927027003</td>\n",
       "      <td>F</td>\n",
       "      <td>23</td>\n",
       "      <td>162.8</td>\n",
       "      <td>56.8</td>\n",
       "      <td>69.8</td>\n",
       "      <td>21.430857</td>\n",
       "      <td>84</td>\n",
       "      <td>정상</td>\n",
       "      <td>20대</td>\n",
       "    </tr>\n",
       "    <tr>\n",
       "      <th>5147</th>\n",
       "      <td>N904029402</td>\n",
       "      <td>F</td>\n",
       "      <td>29</td>\n",
       "      <td>166.8</td>\n",
       "      <td>57.9</td>\n",
       "      <td>72.0</td>\n",
       "      <td>20.810690</td>\n",
       "      <td>92</td>\n",
       "      <td>정상</td>\n",
       "      <td>20대</td>\n",
       "    </tr>\n",
       "    <tr>\n",
       "      <th>352</th>\n",
       "      <td>A912026903</td>\n",
       "      <td>F</td>\n",
       "      <td>22</td>\n",
       "      <td>161.4</td>\n",
       "      <td>61.5</td>\n",
       "      <td>76.7</td>\n",
       "      <td>23.608482</td>\n",
       "      <td>84</td>\n",
       "      <td>정상</td>\n",
       "      <td>20대</td>\n",
       "    </tr>\n",
       "    <tr>\n",
       "      <th>4107</th>\n",
       "      <td>H942026903</td>\n",
       "      <td>F</td>\n",
       "      <td>21</td>\n",
       "      <td>155.3</td>\n",
       "      <td>51.4</td>\n",
       "      <td>69.5</td>\n",
       "      <td>21.311804</td>\n",
       "      <td>89</td>\n",
       "      <td>정상</td>\n",
       "      <td>20대</td>\n",
       "    </tr>\n",
       "  </tbody>\n",
       "</table>\n",
       "<p>344 rows × 10 columns</p>\n",
       "</div>"
      ],
      "text/plain": [
       "              ID sex  age  height  weight  waist        BMI  Blood_glucose  \\\n",
       "12    A901024803   M   27   188.4   126.7  106.9  35.695611             90   \n",
       "13    A901024804   M   26   177.9    85.5   90.5  27.015575             96   \n",
       "124   A905021101   M   27   184.7   109.2  106.4  32.010234            139   \n",
       "137   A905031002   M   28   181.2   144.2  129.7  43.918639             88   \n",
       "164   A906024401   M   26   182.9    98.5   99.8  29.444814             96   \n",
       "...          ...  ..  ...     ...     ...    ...        ...            ...   \n",
       "509   A917027203   F   23   163.1    52.4   63.6  19.698056             88   \n",
       "3622  H927027003   F   23   162.8    56.8   69.8  21.430857             84   \n",
       "5147  N904029402   F   29   166.8    57.9   72.0  20.810690             92   \n",
       "352   A912026903   F   22   161.4    61.5   76.7  23.608482             84   \n",
       "4107  H942026903   F   21   155.3    51.4   69.5  21.311804             89   \n",
       "\n",
       "     obesity age_group  \n",
       "12        비만       20대  \n",
       "13        비만       20대  \n",
       "124       비만       20대  \n",
       "137       비만       20대  \n",
       "164       비만       20대  \n",
       "...      ...       ...  \n",
       "509       정상       20대  \n",
       "3622      정상       20대  \n",
       "5147      정상       20대  \n",
       "352       정상       20대  \n",
       "4107      정상       20대  \n",
       "\n",
       "[344 rows x 10 columns]"
      ]
     },
     "execution_count": 36,
     "metadata": {},
     "output_type": "execute_result"
    }
   ],
   "source": [
    "data_new = pd.concat([data_obese, data_control])\n",
    "data_new"
   ]
  },
  {
   "cell_type": "code",
   "execution_count": 37,
   "metadata": {},
   "outputs": [
    {
     "data": {
      "image/png": "[encoded data removed]",
      "text/plain": [
       "<Figure size 640x480 with 1 Axes>"
      ]
     },
     "metadata": {},
     "output_type": "display_data"
    }
   ],
   "source": [
    "sns.countplot(data = data_new, x='obesity', hue = 'sex')\n",
    "plt.show()"
   ]
  },
  {
   "cell_type": "code",
   "execution_count": 38,
   "metadata": {},
   "outputs": [
    {
     "name": "stdout",
     "output_type": "stream",
     "text": [
      "1.43785701423552 0.15204444861258903\n"
     ]
    }
   ],
   "source": [
    "# 독립표본 t검정\n",
    "[T_independent, p_independent] = stats.ttest_ind(data_new[data_new.sex=='M'].Blood_glucose, data_new[data_new.sex=='F'].Blood_glucose, equal_var = False)\n",
    "print(T_independent, p_independent)"
   ]
  },
  {
   "cell_type": "code",
   "execution_count": 44,
   "metadata": {},
   "outputs": [
    {
     "name": "stderr",
     "output_type": "stream",
     "text": [
      "/Users/idowon/Library/Mobile Documents/com~apple~CloudDocs/Study/2025-school/2025-data-literacy/.venv/lib/python3.11/site-packages/seaborn/categorical.py:3399: UserWarning: 6.9% of the points cannot be placed; you may want to decrease the size of the markers or use stripplot.\n",
      "  warnings.warn(msg, UserWarning)\n"
     ]
    },
    {
     "data": {
      "image/png": "[encoded data removed]",
      "text/plain": [
       "<Figure size 640x480 with 1 Axes>"
      ]
     },
     "metadata": {},
     "output_type": "display_data"
    }
   ],
   "source": [
    "sns.swarmplot(data = data_new, x = 'sex', y = 'Blood_glucose', hue = 'sex')\n",
    "plt.show()"
   ]
  },
  {
   "cell_type": "code",
   "execution_count": 40,
   "metadata": {},
   "outputs": [
    {
     "name": "stdout",
     "output_type": "stream",
     "text": [
      "3.5194750685084704 0.0004939115732962055\n"
     ]
    }
   ],
   "source": [
    "[T_independent, p_independent] = stats.ttest_ind(data_new[data_new.obesity=='비만'].Blood_glucose, data_new[data_new.obesity=='정상'].Blood_glucose, equal_var = False)\n",
    "print(T_independent, p_independent)"
   ]
  },
  {
   "cell_type": "code",
   "execution_count": 41,
   "metadata": {},
   "outputs": [
    {
     "data": {
      "image/png": "[encoded data removed]",
      "text/plain": [
       "<Figure size 640x480 with 1 Axes>"
      ]
     },
     "metadata": {},
     "output_type": "display_data"
    }
   ],
   "source": [
    "sns.swarmplot(data = data_new, x = 'obesity', y = 'Blood_glucose', hue = 'sex', size = 4)\n",
    "plt.show()"
   ]
  },
  {
   "cell_type": "markdown",
   "metadata": {},
   "source": [
    "---\n",
    "## 환자군에 대응해 연령 및 성별 조건 맞춘 통제군 만들기\n",
    "적은 수의 환자군을 먼저 지정하고, 그와 연령+성별 조건을 맞춘 통제군(control group)을 재추출."
   ]
  },
  {
   "cell_type": "code",
   "execution_count": 42,
   "metadata": {},
   "outputs": [
    {
     "data": {
      "text/html": [
       "<div>\n",
       "<style scoped>\n",
       "    .dataframe tbody tr th:only-of-type {\n",
       "        vertical-align: middle;\n",
       "    }\n",
       "\n",
       "    .dataframe tbody tr th {\n",
       "        vertical-align: top;\n",
       "    }\n",
       "\n",
       "    .dataframe thead th {\n",
       "        text-align: right;\n",
       "    }\n",
       "</style>\n",
       "<table border=\"1\" class=\"dataframe\">\n",
       "  <thead>\n",
       "    <tr style=\"text-align: right;\">\n",
       "      <th></th>\n",
       "      <th>ID</th>\n",
       "      <th>sex</th>\n",
       "      <th>age</th>\n",
       "      <th>height</th>\n",
       "      <th>weight</th>\n",
       "      <th>waist</th>\n",
       "      <th>BMI</th>\n",
       "      <th>Blood_glucose</th>\n",
       "      <th>obesity</th>\n",
       "      <th>age_group</th>\n",
       "    </tr>\n",
       "  </thead>\n",
       "  <tbody>\n",
       "    <tr>\n",
       "      <th>1</th>\n",
       "      <td>A901021301</td>\n",
       "      <td>M</td>\n",
       "      <td>78</td>\n",
       "      <td>167.7</td>\n",
       "      <td>76.4</td>\n",
       "      <td>98.3</td>\n",
       "      <td>27.166096</td>\n",
       "      <td>127</td>\n",
       "      <td>비만</td>\n",
       "      <td>70대</td>\n",
       "    </tr>\n",
       "    <tr>\n",
       "      <th>2</th>\n",
       "      <td>A901021302</td>\n",
       "      <td>F</td>\n",
       "      <td>75</td>\n",
       "      <td>157.7</td>\n",
       "      <td>53.2</td>\n",
       "      <td>80.7</td>\n",
       "      <td>21.391845</td>\n",
       "      <td>134</td>\n",
       "      <td>정상</td>\n",
       "      <td>70대</td>\n",
       "    </tr>\n",
       "    <tr>\n",
       "      <th>3</th>\n",
       "      <td>A901022601</td>\n",
       "      <td>F</td>\n",
       "      <td>43</td>\n",
       "      <td>151.0</td>\n",
       "      <td>53.5</td>\n",
       "      <td>79.7</td>\n",
       "      <td>23.463883</td>\n",
       "      <td>99</td>\n",
       "      <td>정상</td>\n",
       "      <td>40대</td>\n",
       "    </tr>\n",
       "    <tr>\n",
       "      <th>5</th>\n",
       "      <td>A901023304</td>\n",
       "      <td>F</td>\n",
       "      <td>71</td>\n",
       "      <td>157.2</td>\n",
       "      <td>53.2</td>\n",
       "      <td>78.4</td>\n",
       "      <td>21.528142</td>\n",
       "      <td>51</td>\n",
       "      <td>정상</td>\n",
       "      <td>70대</td>\n",
       "    </tr>\n",
       "    <tr>\n",
       "      <th>6</th>\n",
       "      <td>A901023501</td>\n",
       "      <td>M</td>\n",
       "      <td>44</td>\n",
       "      <td>180.0</td>\n",
       "      <td>85.6</td>\n",
       "      <td>96.1</td>\n",
       "      <td>26.419753</td>\n",
       "      <td>163</td>\n",
       "      <td>비만</td>\n",
       "      <td>40대</td>\n",
       "    </tr>\n",
       "  </tbody>\n",
       "</table>\n",
       "</div>"
      ],
      "text/plain": [
       "           ID sex  age  height  weight  waist        BMI  Blood_glucose  \\\n",
       "1  A901021301   M   78   167.7    76.4   98.3  27.166096            127   \n",
       "2  A901021302   F   75   157.7    53.2   80.7  21.391845            134   \n",
       "3  A901022601   F   43   151.0    53.5   79.7  23.463883             99   \n",
       "5  A901023304   F   71   157.2    53.2   78.4  21.528142             51   \n",
       "6  A901023501   M   44   180.0    85.6   96.1  26.419753            163   \n",
       "\n",
       "  obesity age_group  \n",
       "1      비만       70대  \n",
       "2      정상       70대  \n",
       "3      정상       40대  \n",
       "5      정상       70대  \n",
       "6      비만       40대  "
      ]
     },
     "execution_count": 42,
     "metadata": {},
     "output_type": "execute_result"
    }
   ],
   "source": [
    "# 전체 연령대 데이터 사용\n",
    "data = data.dropna()\n",
    "data.head()"
   ]
  },
  {
   "cell_type": "code",
   "execution_count": 43,
   "metadata": {},
   "outputs": [
    {
     "name": "stdout",
     "output_type": "stream",
     "text": [
      "N: 193\n"
     ]
    },
    {
     "data": {
      "text/html": [
       "<div>\n",
       "<style scoped>\n",
       "    .dataframe tbody tr th:only-of-type {\n",
       "        vertical-align: middle;\n",
       "    }\n",
       "\n",
       "    .dataframe tbody tr th {\n",
       "        vertical-align: top;\n",
       "    }\n",
       "\n",
       "    .dataframe thead th {\n",
       "        text-align: right;\n",
       "    }\n",
       "</style>\n",
       "<table border=\"1\" class=\"dataframe\">\n",
       "  <thead>\n",
       "    <tr style=\"text-align: right;\">\n",
       "      <th>age_group</th>\n",
       "      <th>20대</th>\n",
       "      <th>30대</th>\n",
       "      <th>40대</th>\n",
       "      <th>50대</th>\n",
       "      <th>60대</th>\n",
       "      <th>70대</th>\n",
       "    </tr>\n",
       "    <tr>\n",
       "      <th>sex</th>\n",
       "      <th></th>\n",
       "      <th></th>\n",
       "      <th></th>\n",
       "      <th></th>\n",
       "      <th></th>\n",
       "      <th></th>\n",
       "    </tr>\n",
       "  </thead>\n",
       "  <tbody>\n",
       "    <tr>\n",
       "      <th>F</th>\n",
       "      <td>46</td>\n",
       "      <td>43</td>\n",
       "      <td>28</td>\n",
       "      <td>19</td>\n",
       "      <td>9</td>\n",
       "      <td>3</td>\n",
       "    </tr>\n",
       "    <tr>\n",
       "      <th>M</th>\n",
       "      <td>12</td>\n",
       "      <td>8</td>\n",
       "      <td>9</td>\n",
       "      <td>4</td>\n",
       "      <td>4</td>\n",
       "      <td>8</td>\n",
       "    </tr>\n",
       "  </tbody>\n",
       "</table>\n",
       "</div>"
      ],
      "text/plain": [
       "age_group  20대  30대  40대  50대  60대  70대\n",
       "sex                                    \n",
       "F           46   43   28   19    9    3\n",
       "M           12    8    9    4    4    8"
      ]
     },
     "execution_count": 43,
     "metadata": {},
     "output_type": "execute_result"
    }
   ],
   "source": [
    "# 환자군 = 저체중 집단\n",
    "data_lowW = data[data.obesity=='저체중']\n",
    "print('N:', len(data_lowW))\n",
    "pd.crosstab(data_lowW.sex, data_lowW.age_group)"
   ]
  },
  {
   "cell_type": "code",
   "execution_count": 45,
   "metadata": {},
   "outputs": [
    {
     "data": {
      "text/html": [
       "<div>\n",
       "<style scoped>\n",
       "    .dataframe tbody tr th:only-of-type {\n",
       "        vertical-align: middle;\n",
       "    }\n",
       "\n",
       "    .dataframe tbody tr th {\n",
       "        vertical-align: top;\n",
       "    }\n",
       "\n",
       "    .dataframe thead th {\n",
       "        text-align: right;\n",
       "    }\n",
       "</style>\n",
       "<table border=\"1\" class=\"dataframe\">\n",
       "  <thead>\n",
       "    <tr style=\"text-align: right;\">\n",
       "      <th>age_group</th>\n",
       "      <th>20대</th>\n",
       "      <th>30대</th>\n",
       "      <th>40대</th>\n",
       "      <th>50대</th>\n",
       "      <th>60대</th>\n",
       "      <th>70대</th>\n",
       "    </tr>\n",
       "    <tr>\n",
       "      <th>sex</th>\n",
       "      <th></th>\n",
       "      <th></th>\n",
       "      <th></th>\n",
       "      <th></th>\n",
       "      <th></th>\n",
       "      <th></th>\n",
       "    </tr>\n",
       "  </thead>\n",
       "  <tbody>\n",
       "    <tr>\n",
       "      <th>F</th>\n",
       "      <td>46</td>\n",
       "      <td>43</td>\n",
       "      <td>28</td>\n",
       "      <td>19</td>\n",
       "      <td>9</td>\n",
       "      <td>3</td>\n",
       "    </tr>\n",
       "    <tr>\n",
       "      <th>M</th>\n",
       "      <td>12</td>\n",
       "      <td>8</td>\n",
       "      <td>9</td>\n",
       "      <td>4</td>\n",
       "      <td>4</td>\n",
       "      <td>8</td>\n",
       "    </tr>\n",
       "  </tbody>\n",
       "</table>\n",
       "</div>"
      ],
      "text/plain": [
       "age_group  20대  30대  40대  50대  60대  70대\n",
       "sex                                    \n",
       "F           46   43   28   19    9    3\n",
       "M           12    8    9    4    4    8"
      ]
     },
     "execution_count": 45,
     "metadata": {},
     "output_type": "execute_result"
    }
   ],
   "source": [
    "pd.crosstab(data_lowW.sex, data_lowW.age_group)"
   ]
  },
  {
   "cell_type": "code",
   "execution_count": 46,
   "metadata": {},
   "outputs": [
    {
     "name": "stdout",
     "output_type": "stream",
     "text": [
      "N: 3494\n"
     ]
    },
    {
     "data": {
      "text/html": [
       "<div>\n",
       "<style scoped>\n",
       "    .dataframe tbody tr th:only-of-type {\n",
       "        vertical-align: middle;\n",
       "    }\n",
       "\n",
       "    .dataframe tbody tr th {\n",
       "        vertical-align: top;\n",
       "    }\n",
       "\n",
       "    .dataframe thead th {\n",
       "        text-align: right;\n",
       "    }\n",
       "</style>\n",
       "<table border=\"1\" class=\"dataframe\">\n",
       "  <thead>\n",
       "    <tr style=\"text-align: right;\">\n",
       "      <th>age_group</th>\n",
       "      <th>20대</th>\n",
       "      <th>30대</th>\n",
       "      <th>40대</th>\n",
       "      <th>50대</th>\n",
       "      <th>60대</th>\n",
       "      <th>70대</th>\n",
       "    </tr>\n",
       "    <tr>\n",
       "      <th>sex</th>\n",
       "      <th></th>\n",
       "      <th></th>\n",
       "      <th></th>\n",
       "      <th></th>\n",
       "      <th></th>\n",
       "      <th></th>\n",
       "    </tr>\n",
       "  </thead>\n",
       "  <tbody>\n",
       "    <tr>\n",
       "      <th>F</th>\n",
       "      <td>256</td>\n",
       "      <td>328</td>\n",
       "      <td>445</td>\n",
       "      <td>464</td>\n",
       "      <td>357</td>\n",
       "      <td>246</td>\n",
       "    </tr>\n",
       "    <tr>\n",
       "      <th>M</th>\n",
       "      <td>194</td>\n",
       "      <td>191</td>\n",
       "      <td>230</td>\n",
       "      <td>285</td>\n",
       "      <td>290</td>\n",
       "      <td>208</td>\n",
       "    </tr>\n",
       "  </tbody>\n",
       "</table>\n",
       "</div>"
      ],
      "text/plain": [
       "age_group  20대  30대  40대  50대  60대  70대\n",
       "sex                                    \n",
       "F          256  328  445  464  357  246\n",
       "M          194  191  230  285  290  208"
      ]
     },
     "execution_count": 46,
     "metadata": {},
     "output_type": "execute_result"
    }
   ],
   "source": [
    "# 정상체중군 전체\n",
    "data_normal = data[data.obesity=='정상']\n",
    "print('N:', len(data_normal))\n",
    "pd.crosstab(data_normal.sex, data_normal.age_group)"
   ]
  },
  {
   "cell_type": "code",
   "execution_count": 47,
   "metadata": {},
   "outputs": [
    {
     "name": "stdout",
     "output_type": "stream",
     "text": [
      "N: 193\n"
     ]
    },
    {
     "data": {
      "text/html": [
       "<div>\n",
       "<style scoped>\n",
       "    .dataframe tbody tr th:only-of-type {\n",
       "        vertical-align: middle;\n",
       "    }\n",
       "\n",
       "    .dataframe tbody tr th {\n",
       "        vertical-align: top;\n",
       "    }\n",
       "\n",
       "    .dataframe thead th {\n",
       "        text-align: right;\n",
       "    }\n",
       "</style>\n",
       "<table border=\"1\" class=\"dataframe\">\n",
       "  <thead>\n",
       "    <tr style=\"text-align: right;\">\n",
       "      <th>age_group</th>\n",
       "      <th>20대</th>\n",
       "      <th>30대</th>\n",
       "      <th>40대</th>\n",
       "      <th>50대</th>\n",
       "      <th>60대</th>\n",
       "      <th>70대</th>\n",
       "    </tr>\n",
       "    <tr>\n",
       "      <th>sex</th>\n",
       "      <th></th>\n",
       "      <th></th>\n",
       "      <th></th>\n",
       "      <th></th>\n",
       "      <th></th>\n",
       "      <th></th>\n",
       "    </tr>\n",
       "  </thead>\n",
       "  <tbody>\n",
       "    <tr>\n",
       "      <th>F</th>\n",
       "      <td>46</td>\n",
       "      <td>43</td>\n",
       "      <td>28</td>\n",
       "      <td>19</td>\n",
       "      <td>9</td>\n",
       "      <td>3</td>\n",
       "    </tr>\n",
       "    <tr>\n",
       "      <th>M</th>\n",
       "      <td>12</td>\n",
       "      <td>8</td>\n",
       "      <td>9</td>\n",
       "      <td>4</td>\n",
       "      <td>4</td>\n",
       "      <td>8</td>\n",
       "    </tr>\n",
       "  </tbody>\n",
       "</table>\n",
       "</div>"
      ],
      "text/plain": [
       "age_group  20대  30대  40대  50대  60대  70대\n",
       "sex                                    \n",
       "F           46   43   28   19    9    3\n",
       "M           12    8    9    4    4    8"
      ]
     },
     "execution_count": 47,
     "metadata": {},
     "output_type": "execute_result"
    }
   ],
   "source": [
    "## 환자군(저체중군)의 연령대+성별에 맞춘 통제군 추출하기\n",
    "\n",
    "data_control = data_normal.head(0)\n",
    "\n",
    "for sex_i in ['M', 'F']:\n",
    "    for age_i in ['20대', '30대', '40대', '50대', '60대', '70대']:\n",
    "        n_count = len(data_lowW[(data_lowW.sex==sex_i) & (data_lowW.age_group==age_i)])\n",
    "        data_control = pd.concat([data_control, \n",
    "                                  data_normal[(data_normal.sex==sex_i) & (data_normal.age_group==age_i)].sample(n_count)])\n",
    "\n",
    "print('N:', len(data_control))\n",
    "pd.crosstab(data_control.sex, data_control.age_group)"
   ]
  },
  {
   "cell_type": "code",
   "execution_count": 48,
   "metadata": {},
   "outputs": [
    {
     "data": {
      "text/html": [
       "<div>\n",
       "<style scoped>\n",
       "    .dataframe tbody tr th:only-of-type {\n",
       "        vertical-align: middle;\n",
       "    }\n",
       "\n",
       "    .dataframe tbody tr th {\n",
       "        vertical-align: top;\n",
       "    }\n",
       "\n",
       "    .dataframe thead th {\n",
       "        text-align: right;\n",
       "    }\n",
       "</style>\n",
       "<table border=\"1\" class=\"dataframe\">\n",
       "  <thead>\n",
       "    <tr style=\"text-align: right;\">\n",
       "      <th></th>\n",
       "      <th>ID</th>\n",
       "      <th>sex</th>\n",
       "      <th>age</th>\n",
       "      <th>height</th>\n",
       "      <th>weight</th>\n",
       "      <th>waist</th>\n",
       "      <th>BMI</th>\n",
       "      <th>Blood_glucose</th>\n",
       "      <th>obesity</th>\n",
       "      <th>age_group</th>\n",
       "    </tr>\n",
       "  </thead>\n",
       "  <tbody>\n",
       "    <tr>\n",
       "      <th>4738</th>\n",
       "      <td>L903024603</td>\n",
       "      <td>M</td>\n",
       "      <td>28</td>\n",
       "      <td>178.0</td>\n",
       "      <td>59.6</td>\n",
       "      <td>70.2</td>\n",
       "      <td>18.810756</td>\n",
       "      <td>87</td>\n",
       "      <td>정상</td>\n",
       "      <td>20대</td>\n",
       "    </tr>\n",
       "    <tr>\n",
       "      <th>2709</th>\n",
       "      <td>H901027704</td>\n",
       "      <td>M</td>\n",
       "      <td>24</td>\n",
       "      <td>170.1</td>\n",
       "      <td>68.1</td>\n",
       "      <td>80.3</td>\n",
       "      <td>23.536316</td>\n",
       "      <td>89</td>\n",
       "      <td>정상</td>\n",
       "      <td>20대</td>\n",
       "    </tr>\n",
       "    <tr>\n",
       "      <th>3933</th>\n",
       "      <td>H936032702</td>\n",
       "      <td>M</td>\n",
       "      <td>24</td>\n",
       "      <td>180.8</td>\n",
       "      <td>78.1</td>\n",
       "      <td>83.7</td>\n",
       "      <td>23.892092</td>\n",
       "      <td>93</td>\n",
       "      <td>정상</td>\n",
       "      <td>20대</td>\n",
       "    </tr>\n",
       "    <tr>\n",
       "      <th>5027</th>\n",
       "      <td>M907023403</td>\n",
       "      <td>M</td>\n",
       "      <td>20</td>\n",
       "      <td>170.1</td>\n",
       "      <td>61.5</td>\n",
       "      <td>73.7</td>\n",
       "      <td>21.255263</td>\n",
       "      <td>85</td>\n",
       "      <td>정상</td>\n",
       "      <td>20대</td>\n",
       "    </tr>\n",
       "    <tr>\n",
       "      <th>387</th>\n",
       "      <td>A913027101</td>\n",
       "      <td>M</td>\n",
       "      <td>26</td>\n",
       "      <td>169.1</td>\n",
       "      <td>64.4</td>\n",
       "      <td>76.6</td>\n",
       "      <td>22.521569</td>\n",
       "      <td>86</td>\n",
       "      <td>정상</td>\n",
       "      <td>20대</td>\n",
       "    </tr>\n",
       "    <tr>\n",
       "      <th>...</th>\n",
       "      <td>...</td>\n",
       "      <td>...</td>\n",
       "      <td>...</td>\n",
       "      <td>...</td>\n",
       "      <td>...</td>\n",
       "      <td>...</td>\n",
       "      <td>...</td>\n",
       "      <td>...</td>\n",
       "      <td>...</td>\n",
       "      <td>...</td>\n",
       "    </tr>\n",
       "    <tr>\n",
       "      <th>2005</th>\n",
       "      <td>D906031901</td>\n",
       "      <td>F</td>\n",
       "      <td>60</td>\n",
       "      <td>152.2</td>\n",
       "      <td>52.4</td>\n",
       "      <td>72.4</td>\n",
       "      <td>22.620489</td>\n",
       "      <td>103</td>\n",
       "      <td>정상</td>\n",
       "      <td>60대</td>\n",
       "    </tr>\n",
       "    <tr>\n",
       "      <th>730</th>\n",
       "      <td>A924032302</td>\n",
       "      <td>F</td>\n",
       "      <td>61</td>\n",
       "      <td>163.2</td>\n",
       "      <td>49.8</td>\n",
       "      <td>69.9</td>\n",
       "      <td>18.697736</td>\n",
       "      <td>94</td>\n",
       "      <td>정상</td>\n",
       "      <td>60대</td>\n",
       "    </tr>\n",
       "    <tr>\n",
       "      <th>1798</th>\n",
       "      <td>C909029202</td>\n",
       "      <td>F</td>\n",
       "      <td>75</td>\n",
       "      <td>155.3</td>\n",
       "      <td>55.3</td>\n",
       "      <td>83.3</td>\n",
       "      <td>22.928847</td>\n",
       "      <td>101</td>\n",
       "      <td>정상</td>\n",
       "      <td>70대</td>\n",
       "    </tr>\n",
       "    <tr>\n",
       "      <th>4992</th>\n",
       "      <td>M906022401</td>\n",
       "      <td>F</td>\n",
       "      <td>76</td>\n",
       "      <td>147.5</td>\n",
       "      <td>52.3</td>\n",
       "      <td>86.7</td>\n",
       "      <td>24.039069</td>\n",
       "      <td>100</td>\n",
       "      <td>정상</td>\n",
       "      <td>70대</td>\n",
       "    </tr>\n",
       "    <tr>\n",
       "      <th>1067</th>\n",
       "      <td>A937029102</td>\n",
       "      <td>F</td>\n",
       "      <td>76</td>\n",
       "      <td>162.7</td>\n",
       "      <td>63.0</td>\n",
       "      <td>84.3</td>\n",
       "      <td>23.799369</td>\n",
       "      <td>121</td>\n",
       "      <td>정상</td>\n",
       "      <td>70대</td>\n",
       "    </tr>\n",
       "  </tbody>\n",
       "</table>\n",
       "<p>193 rows × 10 columns</p>\n",
       "</div>"
      ],
      "text/plain": [
       "              ID sex  age  height  weight  waist        BMI  Blood_glucose  \\\n",
       "4738  L903024603   M   28   178.0    59.6   70.2  18.810756             87   \n",
       "2709  H901027704   M   24   170.1    68.1   80.3  23.536316             89   \n",
       "3933  H936032702   M   24   180.8    78.1   83.7  23.892092             93   \n",
       "5027  M907023403   M   20   170.1    61.5   73.7  21.255263             85   \n",
       "387   A913027101   M   26   169.1    64.4   76.6  22.521569             86   \n",
       "...          ...  ..  ...     ...     ...    ...        ...            ...   \n",
       "2005  D906031901   F   60   152.2    52.4   72.4  22.620489            103   \n",
       "730   A924032302   F   61   163.2    49.8   69.9  18.697736             94   \n",
       "1798  C909029202   F   75   155.3    55.3   83.3  22.928847            101   \n",
       "4992  M906022401   F   76   147.5    52.3   86.7  24.039069            100   \n",
       "1067  A937029102   F   76   162.7    63.0   84.3  23.799369            121   \n",
       "\n",
       "     obesity age_group  \n",
       "4738      정상       20대  \n",
       "2709      정상       20대  \n",
       "3933      정상       20대  \n",
       "5027      정상       20대  \n",
       "387       정상       20대  \n",
       "...      ...       ...  \n",
       "2005      정상       60대  \n",
       "730       정상       60대  \n",
       "1798      정상       70대  \n",
       "4992      정상       70대  \n",
       "1067      정상       70대  \n",
       "\n",
       "[193 rows x 10 columns]"
      ]
     },
     "execution_count": 48,
     "metadata": {},
     "output_type": "execute_result"
    }
   ],
   "source": [
    "data_control"
   ]
  },
  {
   "cell_type": "code",
   "execution_count": 49,
   "metadata": {},
   "outputs": [
    {
     "name": "stdout",
     "output_type": "stream",
     "text": [
      "N: 1930\n"
     ]
    },
    {
     "data": {
      "text/html": [
       "<div>\n",
       "<style scoped>\n",
       "    .dataframe tbody tr th:only-of-type {\n",
       "        vertical-align: middle;\n",
       "    }\n",
       "\n",
       "    .dataframe tbody tr th {\n",
       "        vertical-align: top;\n",
       "    }\n",
       "\n",
       "    .dataframe thead th {\n",
       "        text-align: right;\n",
       "    }\n",
       "</style>\n",
       "<table border=\"1\" class=\"dataframe\">\n",
       "  <thead>\n",
       "    <tr style=\"text-align: right;\">\n",
       "      <th>age_group</th>\n",
       "      <th>20대</th>\n",
       "      <th>30대</th>\n",
       "      <th>40대</th>\n",
       "      <th>50대</th>\n",
       "      <th>60대</th>\n",
       "      <th>70대</th>\n",
       "    </tr>\n",
       "    <tr>\n",
       "      <th>sex</th>\n",
       "      <th></th>\n",
       "      <th></th>\n",
       "      <th></th>\n",
       "      <th></th>\n",
       "      <th></th>\n",
       "      <th></th>\n",
       "    </tr>\n",
       "  </thead>\n",
       "  <tbody>\n",
       "    <tr>\n",
       "      <th>F</th>\n",
       "      <td>460</td>\n",
       "      <td>430</td>\n",
       "      <td>280</td>\n",
       "      <td>190</td>\n",
       "      <td>90</td>\n",
       "      <td>30</td>\n",
       "    </tr>\n",
       "    <tr>\n",
       "      <th>M</th>\n",
       "      <td>120</td>\n",
       "      <td>80</td>\n",
       "      <td>90</td>\n",
       "      <td>40</td>\n",
       "      <td>40</td>\n",
       "      <td>80</td>\n",
       "    </tr>\n",
       "  </tbody>\n",
       "</table>\n",
       "</div>"
      ],
      "text/plain": [
       "age_group  20대  30대  40대  50대  60대  70대\n",
       "sex                                    \n",
       "F          460  430  280  190   90   30\n",
       "M          120   80   90   40   40   80"
      ]
     },
     "execution_count": 49,
     "metadata": {},
     "output_type": "execute_result"
    }
   ],
   "source": [
    "## 환자군(저체중군)의 연령대+성별에 맞춘 통제군 추출하기\n",
    "## 복원 추출: 통제군을 10배수로 추출\n",
    "\n",
    "data_control = data_normal.head(0)\n",
    "\n",
    "for sex_i in ['M', 'F']:\n",
    "    for age_i in ['20대', '30대', '40대', '50대', '60대', '70대']:\n",
    "        n_count = len(data_lowW[(data_lowW.sex == sex_i) & (data_lowW.age_group == age_i)])\n",
    "        data_control = pd.concat([data_control, \n",
    "                                  data_normal[(data_normal.sex == sex_i) & (data_normal.age_group == age_i)].sample(n_count *10, replace=True)])\n",
    "        # .sample()메소드의 replace=True 옵션: 복원추출 (원래 정상군 하위집단보다 더 많은 수의 샘플 추출 가능)\n",
    "    \n",
    "print('N:', len(data_control))\n",
    "pd.crosstab(data_control.sex, data_control.age_group)"
   ]
  }
 ],
 "metadata": {
  "anaconda-cloud": {},
  "kernelspec": {
   "display_name": ".venv",
   "language": "python",
   "name": "python3"
  },
  "language_info": {
   "codemirror_mode": {
    "name": "ipython",
    "version": 3
   },
   "file_extension": ".py",
   "mimetype": "text/x-python",
   "name": "python",
   "nbconvert_exporter": "python",
   "pygments_lexer": "ipython3",
   "version": "3.11.11"
  }
 },
 "nbformat": 4,
 "nbformat_minor": 4
}
