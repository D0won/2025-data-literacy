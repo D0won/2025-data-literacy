{
 "cells": [
  {
   "cell_type": "markdown",
   "metadata": {},
   "source": [
    "# 파이썬으로 배우는 통계학 (6장 일반선형모델)\n",
    "\n",
    "## 6.3. 로지스틱 회귀"
   ]
  },
  {
   "cell_type": "markdown",
   "metadata": {},
   "source": [
    "### 분석 준비"
   ]
  },
  {
   "cell_type": "code",
   "execution_count": 1,
   "metadata": {
    "scrolled": true
   },
   "outputs": [],
   "source": [
    "import numpy as np\n",
    "import pandas as pd\n",
    "import scipy as sp\n",
    "from scipy import stats\n",
    "\n",
    "from matplotlib import pyplot as plt\n",
    "import seaborn as sns\n",
    "sns.set()\n",
    "\n",
    "import statsmodels.formula.api as smf\n",
    "import statsmodels.api as sm\n",
    "\n",
    "%precision 3\n",
    "%matplotlib inline\n"
   ]
  },
  {
   "cell_type": "markdown",
   "metadata": {},
   "source": [
    "### 6.3.10. 데이터 읽어들이기와 그래프 표시"
   ]
  },
  {
   "cell_type": "code",
   "execution_count": 2,
   "metadata": {},
   "outputs": [
    {
     "data": {
      "text/html": [
       "<div>\n",
       "<style scoped>\n",
       "    .dataframe tbody tr th:only-of-type {\n",
       "        vertical-align: middle;\n",
       "    }\n",
       "\n",
       "    .dataframe tbody tr th {\n",
       "        vertical-align: top;\n",
       "    }\n",
       "\n",
       "    .dataframe thead th {\n",
       "        text-align: right;\n",
       "    }\n",
       "</style>\n",
       "<table border=\"1\" class=\"dataframe\">\n",
       "  <thead>\n",
       "    <tr style=\"text-align: right;\">\n",
       "      <th></th>\n",
       "      <th>hours</th>\n",
       "      <th>result</th>\n",
       "    </tr>\n",
       "  </thead>\n",
       "  <tbody>\n",
       "    <tr>\n",
       "      <th>0</th>\n",
       "      <td>0</td>\n",
       "      <td>0</td>\n",
       "    </tr>\n",
       "    <tr>\n",
       "      <th>1</th>\n",
       "      <td>0</td>\n",
       "      <td>0</td>\n",
       "    </tr>\n",
       "    <tr>\n",
       "      <th>2</th>\n",
       "      <td>0</td>\n",
       "      <td>0</td>\n",
       "    </tr>\n",
       "    <tr>\n",
       "      <th>3</th>\n",
       "      <td>0</td>\n",
       "      <td>0</td>\n",
       "    </tr>\n",
       "    <tr>\n",
       "      <th>4</th>\n",
       "      <td>0</td>\n",
       "      <td>0</td>\n",
       "    </tr>\n",
       "    <tr>\n",
       "      <th>...</th>\n",
       "      <td>...</td>\n",
       "      <td>...</td>\n",
       "    </tr>\n",
       "    <tr>\n",
       "      <th>95</th>\n",
       "      <td>9</td>\n",
       "      <td>1</td>\n",
       "    </tr>\n",
       "    <tr>\n",
       "      <th>96</th>\n",
       "      <td>9</td>\n",
       "      <td>1</td>\n",
       "    </tr>\n",
       "    <tr>\n",
       "      <th>97</th>\n",
       "      <td>9</td>\n",
       "      <td>1</td>\n",
       "    </tr>\n",
       "    <tr>\n",
       "      <th>98</th>\n",
       "      <td>9</td>\n",
       "      <td>1</td>\n",
       "    </tr>\n",
       "    <tr>\n",
       "      <th>99</th>\n",
       "      <td>9</td>\n",
       "      <td>1</td>\n",
       "    </tr>\n",
       "  </tbody>\n",
       "</table>\n",
       "<p>100 rows × 2 columns</p>\n",
       "</div>"
      ],
      "text/plain": [
       "    hours  result\n",
       "0       0       0\n",
       "1       0       0\n",
       "2       0       0\n",
       "3       0       0\n",
       "4       0       0\n",
       "..    ...     ...\n",
       "95      9       1\n",
       "96      9       1\n",
       "97      9       1\n",
       "98      9       1\n",
       "99      9       1\n",
       "\n",
       "[100 rows x 2 columns]"
      ]
     },
     "execution_count": 2,
     "metadata": {},
     "output_type": "execute_result"
    }
   ],
   "source": [
    "# 데이터 읽기\n",
    "test_result = pd.read_csv(\"6-3-1-logistic-regression.csv\")\n",
    "test_result"
   ]
  },
  {
   "cell_type": "code",
   "execution_count": 3,
   "metadata": {},
   "outputs": [
    {
     "data": {
      "image/png": "[encoded data removed]",
      "text/plain": [
       "<Figure size 640x480 with 1 Axes>"
      ]
     },
     "metadata": {},
     "output_type": "display_data"
    }
   ],
   "source": [
    "# 데이터 표시\n",
    "sns.barplot(x = \"hours\",y = \"result\", data = test_result, hue='hours')\n",
    "plt.show()"
   ]
  },
  {
   "cell_type": "code",
   "execution_count": 4,
   "metadata": {},
   "outputs": [
    {
     "name": "stdout",
     "output_type": "stream",
     "text": [
      "       result\n",
      "hours        \n",
      "0         0.0\n",
      "1         0.0\n",
      "2         0.1\n",
      "3         0.1\n",
      "4         0.4\n",
      "5         0.4\n",
      "6         0.9\n",
      "7         0.8\n",
      "8         0.9\n",
      "9         1.0\n"
     ]
    }
   ],
   "source": [
    "# 공부시간에 따른 합격률\n",
    "print(test_result.groupby(\"hours\").mean())"
   ]
  },
  {
   "cell_type": "markdown",
   "metadata": {},
   "source": [
    "### 6.3.11 로지스틱 회귀 실습\n",
    "시험 합격 여부(합격=1, 불합격=0) ~ b0 + b1*(공부시간)\n",
    "\n",
    "* b0 + b1*(공부시간) : 선형예측자 (-∞ 부터 +∞ 까지의 범위를 가질 수 있음)\n",
    "\n",
    "* 시험합격률: 0~1 사이의 확률\n",
    "\n",
    "링크 함수로 아래의 logistic function 사용: 선형예측자의 값에 따라 나올 수 있는 결과값을 0~1 사이 값으로 변환.\n",
    "\n",
    "g(y) = 1 / (1+exp(-y))\n",
    "\n",
    "* y = -∞ 일 때, g(y) = 0\n",
    "* y = +∞ 일 때, g(y) = 1\n",
    "* y = 0 일 때, g(y) = 0.5 "
   ]
  },
  {
   "cell_type": "code",
   "execution_count": null,
   "metadata": {},
   "outputs": [],
   "source": [
    "# 모델링\n",
    "mod_glm = smf.glm(formula = \"result ~ hours\", \n",
    "                  data = test_result, \n",
    "                  family=sm.families.Binomial()).fit()"
   ]
  },
  {
   "cell_type": "markdown",
   "metadata": {},
   "source": [
    "### 6.3.12 로지스틱 회귀 결과의 출력"
   ]
  },
  {
   "cell_type": "code",
   "execution_count": 6,
   "metadata": {},
   "outputs": [
    {
     "data": {
      "text/html": [
       "<table class=\"simpletable\">\n",
       "<caption>Generalized Linear Model Regression Results</caption>\n",
       "<tr>\n",
       "  <th>Dep. Variable:</th>        <td>result</td>      <th>  No. Observations:  </th>  <td>   100</td> \n",
       "</tr>\n",
       "<tr>\n",
       "  <th>Model:</th>                  <td>GLM</td>       <th>  Df Residuals:      </th>  <td>    98</td> \n",
       "</tr>\n",
       "<tr>\n",
       "  <th>Model Family:</th>        <td>Binomial</td>     <th>  Df Model:          </th>  <td>     1</td> \n",
       "</tr>\n",
       "<tr>\n",
       "  <th>Link Function:</th>         <td>Logit</td>      <th>  Scale:             </th> <td>  1.0000</td>\n",
       "</tr>\n",
       "<tr>\n",
       "  <th>Method:</th>                <td>IRLS</td>       <th>  Log-Likelihood:    </th> <td> -34.014</td>\n",
       "</tr>\n",
       "<tr>\n",
       "  <th>Date:</th>            <td>Mon, 02 Jun 2025</td> <th>  Deviance:          </th> <td>  68.028</td>\n",
       "</tr>\n",
       "<tr>\n",
       "  <th>Time:</th>                <td>15:27:25</td>     <th>  Pearson chi2:      </th>  <td>  84.9</td> \n",
       "</tr>\n",
       "<tr>\n",
       "  <th>No. Iterations:</th>          <td>6</td>        <th>  Pseudo R-squ. (CS):</th>  <td>0.5032</td> \n",
       "</tr>\n",
       "<tr>\n",
       "  <th>Covariance Type:</th>     <td>nonrobust</td>    <th>                     </th>     <td> </td>   \n",
       "</tr>\n",
       "</table>\n",
       "<table class=\"simpletable\">\n",
       "<tr>\n",
       "      <td></td>         <th>coef</th>     <th>std err</th>      <th>z</th>      <th>P>|z|</th>  <th>[0.025</th>    <th>0.975]</th>  \n",
       "</tr>\n",
       "<tr>\n",
       "  <th>Intercept</th> <td>   -4.5587</td> <td>    0.901</td> <td>   -5.061</td> <td> 0.000</td> <td>   -6.324</td> <td>   -2.793</td>\n",
       "</tr>\n",
       "<tr>\n",
       "  <th>hours</th>     <td>    0.9289</td> <td>    0.174</td> <td>    5.345</td> <td> 0.000</td> <td>    0.588</td> <td>    1.270</td>\n",
       "</tr>\n",
       "</table>"
      ],
      "text/latex": [
       "\\begin{center}\n",
       "\\begin{tabular}{lclc}\n",
       "\\toprule\n",
       "\\textbf{Dep. Variable:}   &      result      & \\textbf{  No. Observations:  } &      100    \\\\\n",
       "\\textbf{Model:}           &       GLM        & \\textbf{  Df Residuals:      } &       98    \\\\\n",
       "\\textbf{Model Family:}    &     Binomial     & \\textbf{  Df Model:          } &        1    \\\\\n",
       "\\textbf{Link Function:}   &      Logit       & \\textbf{  Scale:             } &    1.0000   \\\\\n",
       "\\textbf{Method:}          &       IRLS       & \\textbf{  Log-Likelihood:    } &   -34.014   \\\\\n",
       "\\textbf{Date:}            & Mon, 02 Jun 2025 & \\textbf{  Deviance:          } &    68.028   \\\\\n",
       "\\textbf{Time:}            &     15:27:25     & \\textbf{  Pearson chi2:      } &     84.9    \\\\\n",
       "\\textbf{No. Iterations:}  &        6         & \\textbf{  Pseudo R-squ. (CS):} &   0.5032    \\\\\n",
       "\\textbf{Covariance Type:} &    nonrobust     & \\textbf{                     } &             \\\\\n",
       "\\bottomrule\n",
       "\\end{tabular}\n",
       "\\begin{tabular}{lcccccc}\n",
       "                   & \\textbf{coef} & \\textbf{std err} & \\textbf{z} & \\textbf{P$> |$z$|$} & \\textbf{[0.025} & \\textbf{0.975]}  \\\\\n",
       "\\midrule\n",
       "\\textbf{Intercept} &      -4.5587  &        0.901     &    -5.061  &         0.000        &       -6.324    &       -2.793     \\\\\n",
       "\\textbf{hours}     &       0.9289  &        0.174     &     5.345  &         0.000        &        0.588    &        1.270     \\\\\n",
       "\\bottomrule\n",
       "\\end{tabular}\n",
       "%\\caption{Generalized Linear Model Regression Results}\n",
       "\\end{center}"
      ],
      "text/plain": [
       "<class 'statsmodels.iolib.summary.Summary'>\n",
       "\"\"\"\n",
       "                 Generalized Linear Model Regression Results                  \n",
       "==============================================================================\n",
       "Dep. Variable:                 result   No. Observations:                  100\n",
       "Model:                            GLM   Df Residuals:                       98\n",
       "Model Family:                Binomial   Df Model:                            1\n",
       "Link Function:                  Logit   Scale:                          1.0000\n",
       "Method:                          IRLS   Log-Likelihood:                -34.014\n",
       "Date:                Mon, 02 Jun 2025   Deviance:                       68.028\n",
       "Time:                        15:27:25   Pearson chi2:                     84.9\n",
       "No. Iterations:                     6   Pseudo R-squ. (CS):             0.5032\n",
       "Covariance Type:            nonrobust                                         \n",
       "==============================================================================\n",
       "                 coef    std err          z      P>|z|      [0.025      0.975]\n",
       "------------------------------------------------------------------------------\n",
       "Intercept     -4.5587      0.901     -5.061      0.000      -6.324      -2.793\n",
       "hours          0.9289      0.174      5.345      0.000       0.588       1.270\n",
       "==============================================================================\n",
       "\"\"\""
      ]
     },
     "execution_count": 6,
     "metadata": {},
     "output_type": "execute_result"
    }
   ],
   "source": [
    "# 결과의 출력\n",
    "mod_glm.summary()"
   ]
  },
  {
   "cell_type": "markdown",
   "metadata": {},
   "source": [
    "* Method: IRLS = Iterative Reweighted Least Squares (최소제곱법)\n",
    "* 모델의 적합도 지표: Deviance, Pearson chi2, AIC\n",
    "* 계수의 검정: Wald 검정 (P > |z|)"
   ]
  },
  {
   "cell_type": "markdown",
   "metadata": {},
   "source": [
    "### 6.3.13 모델 선택"
   ]
  },
  {
   "cell_type": "code",
   "execution_count": 7,
   "metadata": {},
   "outputs": [],
   "source": [
    "# Null 모델\n",
    "mod_glm_null = smf.glm(\n",
    "    \"result ~ 1\", data = test_result, \n",
    "    family=sm.families.Binomial()).fit()"
   ]
  },
  {
   "cell_type": "code",
   "execution_count": 8,
   "metadata": {},
   "outputs": [
    {
     "name": "stdout",
     "output_type": "stream",
     "text": [
      "Null모델　： 139.99\n",
      "변수가 있는 모델： 72.03\n"
     ]
    }
   ],
   "source": [
    "# AIC의 비교\n",
    "print(\"Null모델　：\", mod_glm_null.aic.round(2))\n",
    "print(\"변수가 있는 모델：\", mod_glm.aic.round(2))"
   ]
  },
  {
   "cell_type": "markdown",
   "metadata": {},
   "source": [
    "### 6.3.14 로지스틱 회귀곡선 그래프"
   ]
  },
  {
   "cell_type": "code",
   "execution_count": 9,
   "metadata": {},
   "outputs": [
    {
     "data": {
      "image/png": "[encoded data removed]",
      "text/plain": [
       "<Figure size 500x500 with 1 Axes>"
      ]
     },
     "metadata": {},
     "output_type": "display_data"
    }
   ],
   "source": [
    "# lmplot으로 로지스틱 회귀곡선 그래프 그리기\n",
    "sns.lmplot(x = \"hours\", y = \"result\",\n",
    "           data = test_result, \n",
    "           logistic = True,\n",
    "           scatter_kws = {\"color\": \"gray\", \"s\": 15},\n",
    "           line_kws    = {\"color\": \"black\"},\n",
    "           x_jitter = 0.1, y_jitter = 0.03)\n",
    "plt.show()"
   ]
  },
  {
   "cell_type": "markdown",
   "metadata": {},
   "source": [
    "### 6.3.15 성공확률 예측"
   ]
  },
  {
   "cell_type": "code",
   "execution_count": null,
   "metadata": {},
   "outputs": [
    {
     "data": {
      "text/plain": [
       "0    0.010367\n",
       "1    0.025836\n",
       "2    0.062920\n",
       "3    0.145291\n",
       "4    0.300876\n",
       "5    0.521427\n",
       "6    0.733929\n",
       "7    0.874741\n",
       "8    0.946467\n",
       "9    0.978147\n",
       "dtype: float64"
      ]
     },
     "execution_count": 10,
     "metadata": {},
     "output_type": "execute_result"
    }
   ],
   "source": [
    "# 0~9까지 1씩 증가하는 등차수열 (공부 시간)\n",
    "exp_val = pd.DataFrame({\n",
    "    \"hours\": np.arange(0, 10, 1)\n",
    "})\n",
    "# 성공확률의 예측치\n",
    "pred = mod_glm.predict(exp_val)\n",
    "pred"
   ]
  },
  {
   "cell_type": "markdown",
   "metadata": {},
   "source": [
    "### 6.3.17 로지스틱 회귀계수와 오즈 비(Odds ratio)의 관계\n",
    "\n",
    "* 오즈(Odds) = p/(1-p). 성공:실패 확률의 비율이 얼마인가 (예: 성공확률 75%, 실패확률 25% -> 성공:실패 = 3:1 = 오즈 3)\n",
    "* 오즈 비(Odds ratio): 오즈가 몇 배로 증가/감소했는가"
   ]
  },
  {
   "cell_type": "markdown",
   "metadata": {},
   "source": [
    "## 📊 로지스틱 회귀계수와 오즈비(odds ratio)의 관계\n",
    "\n",
    "### 🔹 1. 로지스틱 회귀 모델 식\n",
    "\n",
    "로지스틱 회귀는 사건 발생 확률 \\( p \\)를 예측하는 대신, **로그 오즈 (log-odds)**를 예측합니다.\n",
    "\n",
    "\\[\n",
    "\\log\\left( \\frac{p}{1 - p} \\right) = \\beta_0 + \\beta_1 x\n",
    "\\]\n",
    "\n",
    "- \\( p \\): 사건이 일어날 확률\n",
    "- \\( \\frac{p}{1 - p} \\): 오즈 (odds)\n",
    "- \\( \\log(\\text{odds}) \\): 로그 오즈 또는 로짓(logit)\n",
    "- \\( \\beta_1 \\): 회귀계수 (기울기)\n",
    "\n",
    "---\n",
    "\n",
    "### 🔹 2. 회귀계수와 오즈비의 관계\n",
    "\n",
    "로지스틱 회귀의 회귀계수는 **오즈의 로그값**이며, 이를 지수변환하면 오즈비(odds ratio)를 구할 수 있습니다.\n",
    "\n",
    "\\[\n",
    "\\text{Odds Ratio} = e^{\\beta_1}\n",
    "\\]\n",
    "\n",
    "- \\( e^{\\beta_1} > 1 \\): x가 증가할수록 사건이 발생할 확률 증가\n",
    "- \\( e^{\\beta_1} < 1 \\): x가 증가할수록 사건이 발생할 확률 감소\n",
    "\n",
    "---\n",
    "\n",
    "### 🔹 3. 예시\n",
    "\n",
    "예를 들어 회귀계수 \\( \\beta_1 = 0.405 \\) 라면,\n",
    "\n",
    "\\[\n",
    "\\text{오즈비} = e^{0.405} \\approx 1.5\n",
    "\\]\n",
    "\n",
    "> x가 1 증가할 때, 사건이 발생할 **오즈가 1.5배 증가**한다는 의미입니다.\n",
    "\n",
    "---\n",
    "\n",
    "### 🔹 4. 해석 요약\n",
    "\n",
    "| 회귀계수 \\( \\beta \\) | 오즈비 \\( e^{\\beta} \\) | 해석 |\n",
    "|---------------------|------------------------|------|\n",
    "| > 0                | > 1                   | x 증가 → 사건 발생 확률 증가 |\n",
    "| < 0                | < 1                   | x 증가 → 사건 발생 확률 감소 |\n",
    "| = 0                | = 1                   | x는 사건 발생과 무관 |\n",
    "\n"
   ]
  },
  {
   "cell_type": "code",
   "execution_count": 11,
   "metadata": {},
   "outputs": [
    {
     "name": "stdout",
     "output_type": "stream",
     "text": [
      "0    0.300876\n",
      "1    0.521427\n",
      "dtype: float64\n"
     ]
    }
   ],
   "source": [
    "# 공부시간이 4시간, 5시간일 때의 합격률\n",
    "exp_val = pd.DataFrame({\"hours\": [4, 5]})\n",
    "pred_list = mod_glm.predict(exp_val)\n",
    "\n",
    "print(pred_list)\n",
    "\n",
    "pred_1 = pred_list[0]\n",
    "pred_2 = pred_list[1]"
   ]
  },
  {
   "cell_type": "code",
   "execution_count": 12,
   "metadata": {},
   "outputs": [
    {
     "name": "stdout",
     "output_type": "stream",
     "text": [
      "[np.float64(0.4303610926570525), np.float64(1.0895442650001606)]\n",
      "2.5316978778757773\n"
     ]
    },
    {
     "data": {
      "text/plain": [
       "0.929"
      ]
     },
     "execution_count": 12,
     "metadata": {},
     "output_type": "execute_result"
    }
   ],
   "source": [
    "# 오즈(Odds): 실패하는 것보다 성공하는 것이 몇 배 더 가능성이 높은가.\n",
    "odds_1 = pred_1 / (1 - pred_1)\n",
    "odds_2 = pred_2 / (1 - pred_2)\n",
    "print([odds_1, odds_2])\n",
    "\n",
    "# 오즈 비(Odd ratio)\n",
    "print(odds_2/odds_1)\n",
    "\n",
    "# 로그오즈비 \n",
    "np.log(odds_2 / odds_1)"
   ]
  },
  {
   "cell_type": "code",
   "execution_count": 13,
   "metadata": {},
   "outputs": [
    {
     "name": "stdout",
     "output_type": "stream",
     "text": [
      "[np.float64(0.026521456371377337), np.float64(0.06714431481359097)]\n",
      "2.5316978778757755\n"
     ]
    },
    {
     "data": {
      "text/plain": [
       "0.929"
      ]
     },
     "execution_count": 13,
     "metadata": {},
     "output_type": "execute_result"
    }
   ],
   "source": [
    "# 참고: 공부시간이 1시간 -> 2시간으로 늘어났을 때의 오즈 비\n",
    "exp_val = pd.DataFrame({\"hours\": [1, 2]})\n",
    "pred_list = mod_glm.predict(exp_val)\n",
    "pred_1 = pred_list[0]\n",
    "pred_2 = pred_list[1]\n",
    "\n",
    "# 오즈(Odds): 실패하는 것보다 성공하는 것이 몇 배 더 가능성이 높은가.\n",
    "odds_1 = pred_1 / (1 - pred_1)\n",
    "odds_2 = pred_2 / (1 - pred_2)\n",
    "print([odds_1, odds_2])\n",
    "\n",
    "# 오즈 비(Odd ratio)\n",
    "print(odds_2/odds_1)\n",
    "\n",
    "# 로그오즈비 \n",
    "np.log(odds_2 / odds_1)"
   ]
  },
  {
   "cell_type": "code",
   "execution_count": 14,
   "metadata": {},
   "outputs": [
    {
     "data": {
      "text/plain": [
       "0.929"
      ]
     },
     "execution_count": 14,
     "metadata": {},
     "output_type": "execute_result"
    }
   ],
   "source": [
    "# 모델의 계수: beta\n",
    "mod_glm.params[\"hours\"]"
   ]
  },
  {
   "cell_type": "code",
   "execution_count": 15,
   "metadata": {},
   "outputs": [
    {
     "data": {
      "text/plain": [
       "2.532"
      ]
     },
     "execution_count": 15,
     "metadata": {},
     "output_type": "execute_result"
    }
   ],
   "source": [
    "# 참고: 오즈비 역산 = exp(beta)\n",
    "# 입력변수 X가 1만큼 증가했을 때, Y의 가능성(odds)이 몇 배 늘어나는가?\n",
    "np.exp(mod_glm.params[\"hours\"])"
   ]
  },
  {
   "cell_type": "markdown",
   "metadata": {
    "collapsed": true,
    "jupyter": {
     "outputs_hidden": true
    }
   },
   "source": [
    "**로지스틱 회귀의 구조**\n",
    "\n",
    "log (p/(1-p)) = b0 + b1*(공부시간) \n",
    "\n",
    "p/(1-p) = exp (b0 + b1*(공부시간))\n",
    "\n",
    "p = 1 / (1 + exp(-(b0 + b1*(공부시간))))"
   ]
  },
  {
   "cell_type": "markdown",
   "metadata": {},
   "source": [
    "### 6.4.4. 피어슨 잔차\n",
    "이항분포 B(N, p)\n",
    "* 기대값: N * p\n",
    "* 분산: N * p * (1-p)\n",
    "\n",
    "피어슨 잔차\n",
    "\n",
    "Pearson residuals = ( y - N * p ) / √(N * p * (1-p))  \n",
    "\n",
    "Pearson residuals = ( y - p ) / √(p * (1-p))  : 각 단일 샘플에 대한 예측 오차\n"
   ]
  },
  {
   "cell_type": "code",
   "execution_count": 16,
   "metadata": {},
   "outputs": [
    {
     "data": {
      "text/plain": [
       "0   -0.102351\n",
       "1   -0.102351\n",
       "2   -0.102351\n",
       "3   -0.102351\n",
       "4   -0.102351\n",
       "Name: result, dtype: float64"
      ]
     },
     "execution_count": 16,
     "metadata": {},
     "output_type": "execute_result"
    }
   ],
   "source": [
    "# 피어슨 잔차의 계산\n",
    "\n",
    "# 예측한 성공확률\n",
    "pred = mod_glm.predict()\n",
    "# 종속변수(시험 합격여부)\n",
    "y = test_result.result\n",
    "\n",
    "# 피어슨 잔차\n",
    "peason_resid = (y - pred) / np.sqrt(pred * (1 - pred))\n",
    "peason_resid.head(5)"
   ]
  },
  {
   "cell_type": "code",
   "execution_count": 17,
   "metadata": {},
   "outputs": [
    {
     "data": {
      "text/plain": [
       "0   -0.102351\n",
       "1   -0.102351\n",
       "2   -0.102351\n",
       "3   -0.102351\n",
       "4   -0.102351\n",
       "dtype: float64"
      ]
     },
     "execution_count": 17,
     "metadata": {},
     "output_type": "execute_result"
    }
   ],
   "source": [
    "# 피어슨 잔차 (직접 추출)\n",
    "mod_glm.resid_pearson.head(5)"
   ]
  },
  {
   "cell_type": "code",
   "execution_count": 18,
   "metadata": {},
   "outputs": [
    {
     "data": {
      "text/plain": [
       "84.911"
      ]
     },
     "execution_count": 18,
     "metadata": {},
     "output_type": "execute_result"
    }
   ],
   "source": [
    "# 피어슨 잔차 제곱합\n",
    "np.sum(mod_glm.resid_pearson**2)"
   ]
  },
  {
   "cell_type": "code",
   "execution_count": 19,
   "metadata": {},
   "outputs": [
    {
     "data": {
      "text/plain": [
       "84.911"
      ]
     },
     "execution_count": 19,
     "metadata": {},
     "output_type": "execute_result"
    }
   ],
   "source": [
    "# summary()함수에서 피어슨 잔차 제곱합 추출\n",
    "mod_glm.pearson_chi2"
   ]
  },
  {
   "cell_type": "code",
   "execution_count": 20,
   "metadata": {},
   "outputs": [
    {
     "data": {
      "text/html": [
       "<table class=\"simpletable\">\n",
       "<caption>Generalized Linear Model Regression Results</caption>\n",
       "<tr>\n",
       "  <th>Dep. Variable:</th>        <td>result</td>      <th>  No. Observations:  </th>  <td>   100</td> \n",
       "</tr>\n",
       "<tr>\n",
       "  <th>Model:</th>                  <td>GLM</td>       <th>  Df Residuals:      </th>  <td>    98</td> \n",
       "</tr>\n",
       "<tr>\n",
       "  <th>Model Family:</th>        <td>Binomial</td>     <th>  Df Model:          </th>  <td>     1</td> \n",
       "</tr>\n",
       "<tr>\n",
       "  <th>Link Function:</th>         <td>Logit</td>      <th>  Scale:             </th> <td>  1.0000</td>\n",
       "</tr>\n",
       "<tr>\n",
       "  <th>Method:</th>                <td>IRLS</td>       <th>  Log-Likelihood:    </th> <td> -34.014</td>\n",
       "</tr>\n",
       "<tr>\n",
       "  <th>Date:</th>            <td>Mon, 02 Jun 2025</td> <th>  Deviance:          </th> <td>  68.028</td>\n",
       "</tr>\n",
       "<tr>\n",
       "  <th>Time:</th>                <td>15:27:32</td>     <th>  Pearson chi2:      </th>  <td>  84.9</td> \n",
       "</tr>\n",
       "<tr>\n",
       "  <th>No. Iterations:</th>          <td>6</td>        <th>  Pseudo R-squ. (CS):</th>  <td>0.5032</td> \n",
       "</tr>\n",
       "<tr>\n",
       "  <th>Covariance Type:</th>     <td>nonrobust</td>    <th>                     </th>     <td> </td>   \n",
       "</tr>\n",
       "</table>\n",
       "<table class=\"simpletable\">\n",
       "<tr>\n",
       "      <td></td>         <th>coef</th>     <th>std err</th>      <th>z</th>      <th>P>|z|</th>  <th>[0.025</th>    <th>0.975]</th>  \n",
       "</tr>\n",
       "<tr>\n",
       "  <th>Intercept</th> <td>   -4.5587</td> <td>    0.901</td> <td>   -5.061</td> <td> 0.000</td> <td>   -6.324</td> <td>   -2.793</td>\n",
       "</tr>\n",
       "<tr>\n",
       "  <th>hours</th>     <td>    0.9289</td> <td>    0.174</td> <td>    5.345</td> <td> 0.000</td> <td>    0.588</td> <td>    1.270</td>\n",
       "</tr>\n",
       "</table>"
      ],
      "text/latex": [
       "\\begin{center}\n",
       "\\begin{tabular}{lclc}\n",
       "\\toprule\n",
       "\\textbf{Dep. Variable:}   &      result      & \\textbf{  No. Observations:  } &      100    \\\\\n",
       "\\textbf{Model:}           &       GLM        & \\textbf{  Df Residuals:      } &       98    \\\\\n",
       "\\textbf{Model Family:}    &     Binomial     & \\textbf{  Df Model:          } &        1    \\\\\n",
       "\\textbf{Link Function:}   &      Logit       & \\textbf{  Scale:             } &    1.0000   \\\\\n",
       "\\textbf{Method:}          &       IRLS       & \\textbf{  Log-Likelihood:    } &   -34.014   \\\\\n",
       "\\textbf{Date:}            & Mon, 02 Jun 2025 & \\textbf{  Deviance:          } &    68.028   \\\\\n",
       "\\textbf{Time:}            &     15:27:32     & \\textbf{  Pearson chi2:      } &     84.9    \\\\\n",
       "\\textbf{No. Iterations:}  &        6         & \\textbf{  Pseudo R-squ. (CS):} &   0.5032    \\\\\n",
       "\\textbf{Covariance Type:} &    nonrobust     & \\textbf{                     } &             \\\\\n",
       "\\bottomrule\n",
       "\\end{tabular}\n",
       "\\begin{tabular}{lcccccc}\n",
       "                   & \\textbf{coef} & \\textbf{std err} & \\textbf{z} & \\textbf{P$> |$z$|$} & \\textbf{[0.025} & \\textbf{0.975]}  \\\\\n",
       "\\midrule\n",
       "\\textbf{Intercept} &      -4.5587  &        0.901     &    -5.061  &         0.000        &       -6.324    &       -2.793     \\\\\n",
       "\\textbf{hours}     &       0.9289  &        0.174     &     5.345  &         0.000        &        0.588    &        1.270     \\\\\n",
       "\\bottomrule\n",
       "\\end{tabular}\n",
       "%\\caption{Generalized Linear Model Regression Results}\n",
       "\\end{center}"
      ],
      "text/plain": [
       "<class 'statsmodels.iolib.summary.Summary'>\n",
       "\"\"\"\n",
       "                 Generalized Linear Model Regression Results                  \n",
       "==============================================================================\n",
       "Dep. Variable:                 result   No. Observations:                  100\n",
       "Model:                            GLM   Df Residuals:                       98\n",
       "Model Family:                Binomial   Df Model:                            1\n",
       "Link Function:                  Logit   Scale:                          1.0000\n",
       "Method:                          IRLS   Log-Likelihood:                -34.014\n",
       "Date:                Mon, 02 Jun 2025   Deviance:                       68.028\n",
       "Time:                        15:27:32   Pearson chi2:                     84.9\n",
       "No. Iterations:                     6   Pseudo R-squ. (CS):             0.5032\n",
       "Covariance Type:            nonrobust                                         \n",
       "==============================================================================\n",
       "                 coef    std err          z      P>|z|      [0.025      0.975]\n",
       "------------------------------------------------------------------------------\n",
       "Intercept     -4.5587      0.901     -5.061      0.000      -6.324      -2.793\n",
       "hours          0.9289      0.174      5.345      0.000       0.588       1.270\n",
       "==============================================================================\n",
       "\"\"\""
      ]
     },
     "execution_count": 20,
     "metadata": {},
     "output_type": "execute_result"
    }
   ],
   "source": [
    "mod_glm.summary()"
   ]
  },
  {
   "cell_type": "markdown",
   "metadata": {},
   "source": [
    "## 📊 로지스틱 회귀 결과표 해석 (마크다운)\n",
    "\n",
    "### 🔹 기본 정보\n",
    "\n",
    "| 항목 | 값 | 해석 |\n",
    "|------|-----|------|\n",
    "| **Dep. Variable** | result | 종속변수 이름 |\n",
    "| **No. Observations** | 100 | 총 관측치 수 |\n",
    "| **Df Residuals** | 98 | 잔차 자유도 (100 - 변수 수) |\n",
    "| **Df Model** | 1 | 모델에 포함된 독립 변수 수 |\n",
    "| **Model Family** | Binomial | 이항 분포 (로지스틱 회귀) |\n",
    "| **Link Function** | Logit | 로그 오즈 (log-odds)를 사용하는 링크 함수 |\n",
    "| **Method** | IRLS | 반복 가중 최소제곱법 |\n",
    "| **Log-Likelihood** | -34.014 | 로그 가능도 (越 클수록 좋음) |\n",
    "| **Deviance** | 68.028 | 모형의 이탈도 (越 작을수록 좋음) |\n",
    "| **Pearson chi2** | 84.9 | 모형의 적합도 검정 통계량 |\n",
    "| **No. Iterations** | 6 | 수렴까지의 반복 횟수 |\n",
    "| **Pseudo R-squ. (CS)** | 0.5032 | 설명력 (Cox & Snell 기준) |\n",
    "| **Covariance Type** | nonrobust | 오차 공분산 추정 방식 |\n",
    "\n",
    "---\n",
    "\n",
    "### 🔹 회귀계수 (Coefficient)\n",
    "\n",
    "\n",
    "| 변수       | 계수 (coef) | 표준오차 (std err) | z값 (z) | p값 (P>|z|) | 95% 신뢰구간               |\n",
    "|------------|-------------|---------------------|----------|---------------|----------------------------|\n",
    "| Intercept  | -4.5587     | 0.901               | -5.061   | 0.000         | [-6.324, -2.793]           |\n",
    "| hours      | 0.9289      | 0.174               | 5.345    | 0.000         | [0.588, 1.270]             |\n",
    "\n",
    "\n",
    "---\n",
    "\n",
    "### 🔹 오즈비 (Odds Ratio)\n",
    "\n",
    "| 변수 | 오즈비 ( \\( e^{\\text{coef}} \\) ) | 해석 |\n",
    "|------|--------------------|-------|\n",
    "| **hours** | \\( e^{0.9289} \\approx 2.53 \\) | 공부시간 1시간 증가 시 합격 오즈가 약 2.53배 증가 |\n",
    "| **신뢰구간** | \\( [e^{0.588}, e^{1.270}] \\approx [1.80, 3.56] \\) | 95% 신뢰수준에서 오즈비 범위 |"
   ]
  },
  {
   "cell_type": "markdown",
   "metadata": {},
   "source": [
    "### 6.4.8. deviance 잔차\n",
    "\n",
    "로그우도(log likelihood)에 기반한 잔차\n",
    "\n",
    "deviance = 2*((모든 합격여부를 완전히 예측할 때의 로그 우도) - (추정된 모델의 로그 우도))"
   ]
  },
  {
   "cell_type": "code",
   "execution_count": 21,
   "metadata": {},
   "outputs": [
    {
     "data": {
      "text/plain": [
       "68.028"
      ]
     },
     "execution_count": 21,
     "metadata": {},
     "output_type": "execute_result"
    }
   ],
   "source": [
    "# deviance 잔차제곱합 \n",
    "np.sum(mod_glm.resid_deviance ** 2)"
   ]
  }
 ],
 "metadata": {
  "kernelspec": {
   "display_name": "3.11.11",
   "language": "python",
   "name": "python3"
  },
  "language_info": {
   "codemirror_mode": {
    "name": "ipython",
    "version": 3
   },
   "file_extension": ".py",
   "mimetype": "text/x-python",
   "name": "python",
   "nbconvert_exporter": "python",
   "pygments_lexer": "ipython3",
   "version": "3.11.11"
  }
 },
 "nbformat": 4,
 "nbformat_minor": 4
}
